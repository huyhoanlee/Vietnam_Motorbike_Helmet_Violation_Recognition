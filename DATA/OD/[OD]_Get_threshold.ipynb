{
  "nbformat": 4,
  "nbformat_minor": 0,
  "metadata": {
    "colab": {
      "provenance": [],
      "gpuType": "T4"
    },
    "kernelspec": {
      "name": "python3",
      "display_name": "Python 3"
    },
    "language_info": {
      "name": "python"
    },
    "accelerator": "GPU"
  },
  "cells": [
    {
      "cell_type": "code",
      "execution_count": null,
      "metadata": {
        "colab": {
          "base_uri": "https://localhost:8080/"
        },
        "id": "I48E5Y9Hzg_v",
        "outputId": "dff0eb83-a6ee-4f32-c377-81a80268d82c"
      },
      "outputs": [
        {
          "output_type": "stream",
          "name": "stdout",
          "text": [
            "Mounted at /content/drive\n"
          ]
        }
      ],
      "source": [
        "from google.colab import drive\n",
        "drive.mount('/content/drive')"
      ]
    },
    {
      "cell_type": "code",
      "source": [
        "cd /content/drive/MyDrive/AIP491/Training/yolo_helmet/"
      ],
      "metadata": {
        "colab": {
          "base_uri": "https://localhost:8080/"
        },
        "id": "TDtYJ2G0zyrV",
        "outputId": "446102b9-ee2c-4f8a-b0e9-70a48761b3ca"
      },
      "execution_count": null,
      "outputs": [
        {
          "output_type": "stream",
          "name": "stdout",
          "text": [
            "/content/drive/.shortcut-targets-by-id/1t74jmV7PvXPifc2SYrjAP0A2Ztqq26VA/AIP491/Training/yolo_helmet\n"
          ]
        }
      ]
    },
    {
      "cell_type": "code",
      "source": [
        "cd ultralytics"
      ],
      "metadata": {
        "colab": {
          "base_uri": "https://localhost:8080/"
        },
        "id": "yid7aiG5z0--",
        "outputId": "e68e0837-83c7-4a75-92ed-b8af07167e94"
      },
      "execution_count": null,
      "outputs": [
        {
          "output_type": "stream",
          "name": "stdout",
          "text": [
            "/content/drive/.shortcut-targets-by-id/1t74jmV7PvXPifc2SYrjAP0A2Ztqq26VA/AIP491/Training/yolo_helmet/ultralytics\n"
          ]
        }
      ]
    },
    {
      "cell_type": "code",
      "source": [
        "import os\n",
        "import numpy as np\n",
        "import cv2\n",
        "import matplotlib.pyplot as plt\n",
        "import pandas as pd\n",
        "from tqdm import tqdm\n",
        "from sklearn.metrics import precision_recall_curve\n",
        "from ultralytics import YOLO\n",
        "\n",
        "def evaluate_no_helmet_detection(model, images_dir, labels_dir, conf_thresholds=np.arange(0.1, 1.0, 0.05)):\n",
        "    \"\"\"Đánh giá phát hiện 'không đội mũ bảo hiểm' với nhiều ngưỡng confidence\"\"\"\n",
        "    NO_HELMET_CLASS = 2  # Class ID cho \"no_helmet\"\n",
        "\n",
        "    image_files = [f for f in os.listdir(images_dir) if f.endswith(('.jpg', '.jpeg', '.png'))]\n",
        "    all_detections = []  # Lưu (confidence, is_true_positive)\n",
        "    all_ground_truths = []  # Số lượng ground truth boxes\n",
        "\n",
        "    for img_file in tqdm(image_files):\n",
        "        img_path = os.path.join(images_dir, img_file)\n",
        "        label_path = os.path.join(labels_dir, os.path.splitext(img_file)[0] + '.txt')\n",
        "\n",
        "        # Đọc ảnh\n",
        "        img = cv2.imread(img_path)\n",
        "        if img is None:\n",
        "            continue\n",
        "\n",
        "        img_height, img_width = img.shape[:2]\n",
        "\n",
        "        # Thực hiện dự đoán\n",
        "        preds = model(img, conf=0.001, verbose = False)  # Dùng ngưỡng thấp để lấy tất cả predictions\n",
        "\n",
        "        # Đọc ground truth\n",
        "        gt_boxes = []\n",
        "        if os.path.exists(label_path):\n",
        "            with open(label_path, 'r') as f:\n",
        "                for line in f:\n",
        "                    parts = line.strip().split()\n",
        "                    if len(parts) >= 5 and int(parts[0]) == NO_HELMET_CLASS:\n",
        "                        # Chuyển đổi từ format YOLO sang pixel coordinates\n",
        "                        center_x, center_y, width, height = map(float, parts[1:5])\n",
        "                        x1 = (center_x - width/2) * img_width\n",
        "                        y1 = (center_y - height/2) * img_height\n",
        "                        x2 = (center_x + width/2) * img_width\n",
        "                        y2 = (center_y + height/2) * img_height\n",
        "                        gt_boxes.append((x1, y1, x2, y2))\n",
        "\n",
        "        all_ground_truths.append(len(gt_boxes))\n",
        "\n",
        "        # Xử lý dự đoán\n",
        "        for pred in preds:\n",
        "            boxes = pred.boxes\n",
        "            for box in boxes:\n",
        "                cls = int(box.cls.item())\n",
        "                conf = box.conf.item()\n",
        "\n",
        "                if cls == NO_HELMET_CLASS:\n",
        "                    x1, y1, x2, y2 = box.xyxy[0].tolist()\n",
        "\n",
        "                    # Kiểm tra có match với ground truth không\n",
        "                    matched = False\n",
        "                    for gt_box in gt_boxes:\n",
        "                        gt_x1, gt_y1, gt_x2, gt_y2 = gt_box\n",
        "\n",
        "                        # Tính IoU\n",
        "                        x_left = max(x1, gt_x1)\n",
        "                        y_top = max(y1, gt_y1)\n",
        "                        x_right = min(x2, gt_x2)\n",
        "                        y_bottom = min(y2, gt_y2)\n",
        "\n",
        "                        if x_right < x_left or y_bottom < y_top:\n",
        "                            continue\n",
        "\n",
        "                        intersection = (x_right - x_left) * (y_bottom - y_top)\n",
        "                        pred_area = (x2 - x1) * (y2 - y1)\n",
        "                        gt_area = (gt_x2 - gt_x1) * (gt_y2 - gt_y1)\n",
        "                        iou = intersection / (pred_area + gt_area - intersection)\n",
        "\n",
        "                        if iou > 0.5:  # IoU threshold\n",
        "                            matched = True\n",
        "                            break\n",
        "\n",
        "                    all_detections.append((conf, 1 if matched else 0))\n",
        "\n",
        "    # Đánh giá với các thresholds khác nhau\n",
        "    threshold_results = []\n",
        "    for thresh in conf_thresholds:\n",
        "        filtered_detections = [(conf, match) for conf, match in all_detections if conf >= thresh]\n",
        "\n",
        "        if not filtered_detections:\n",
        "            threshold_results.append((thresh, 0, 0, 0))\n",
        "            continue\n",
        "\n",
        "        # Tính TP, FP, FN\n",
        "        TP = sum(1 for _, match in filtered_detections if match == 1)\n",
        "        FP = sum(1 for _, match in filtered_detections if match == 0)\n",
        "        total_gt = sum(all_ground_truths)\n",
        "        FN = total_gt - TP\n",
        "\n",
        "        # Tính precision và recall\n",
        "        precision = TP / (TP + FP) if (TP + FP) > 0 else 0\n",
        "        recall = TP / (TP + FN) if (TP + FN) > 0 else 0\n",
        "        f1 = 2 * precision * recall / (precision + recall) if (precision + recall) > 0 else 0\n",
        "\n",
        "        threshold_results.append((thresh, precision, recall, f1))\n",
        "\n",
        "    # Tính precision-recall curve\n",
        "    if all_detections:\n",
        "        confidences = [conf for conf, _ in all_detections]\n",
        "        matched = [match for _, match in all_detections]\n",
        "        precision_curve, recall_curve, pr_thresholds = precision_recall_curve(matched, confidences)\n",
        "        f1_scores = 2 * precision_curve * recall_curve / (precision_curve + recall_curve + 1e-8)\n",
        "    else:\n",
        "        precision_curve, recall_curve, pr_thresholds, f1_scores = [], [], [], []\n",
        "\n",
        "    return threshold_results, (precision_curve, recall_curve, pr_thresholds, f1_scores)\n",
        "\n",
        "def find_optimal_threshold(threshold_results, min_precision=0.95):\n",
        "    \"\"\"Tìm threshold tối ưu đảm bảo precision tối thiểu và maximize recall\"\"\"\n",
        "    results_df = pd.DataFrame(threshold_results, columns=['Threshold', 'Precision', 'Recall', 'F1'])\n",
        "\n",
        "    # Lọc các threshold có precision >= min_precision\n",
        "    filtered_results = results_df[results_df['Precision'] >= min_precision]\n",
        "\n",
        "    if filtered_results.empty:\n",
        "        print(f\"Không tìm thấy threshold nào có precision >= {min_precision}\")\n",
        "        # Trả về threshold có precision cao nhất\n",
        "        return results_df.loc[results_df['Precision'].idxmax()]\n",
        "\n",
        "    # Trong các threshold thỏa mãn precision, chọn threshold có recall cao nhất\n",
        "    return filtered_results.loc[filtered_results['Recall'].idxmax()]\n",
        "\n",
        "def visualize_results(threshold_results, curve_data, min_precision=0.95):\n",
        "    \"\"\"Hiển thị kết quả và vẽ biểu đồ\"\"\"\n",
        "    results_df = pd.DataFrame(threshold_results, columns=['Threshold', 'Precision', 'Recall', 'F1'])\n",
        "\n",
        "    # Vẽ biểu đồ\n",
        "    plt.figure(figsize=(12, 10))\n",
        "\n",
        "    # Biểu đồ 1: Precision, Recall, F1 theo Threshold\n",
        "    plt.subplot(2, 1, 1)\n",
        "    plt.plot(results_df['Threshold'], results_df['Precision'], 'b-', linewidth=2, label='Precision')\n",
        "    plt.plot(results_df['Threshold'], results_df['Recall'], 'r-', linewidth=2, label='Recall')\n",
        "    plt.plot(results_df['Threshold'], results_df['F1'], 'g-', linewidth=2, label='F1 Score')\n",
        "    plt.xlabel('Confidence Threshold')\n",
        "    plt.ylabel('Score')\n",
        "    plt.title('Precision, Recall và F1 theo Threshold')\n",
        "    plt.grid(True)\n",
        "    plt.legend()\n",
        "\n",
        "    # Biểu đồ 2: Precision-Recall Curve\n",
        "    plt.subplot(2, 1, 2)\n",
        "    precision_curve, recall_curve, pr_thresholds, f1_scores = curve_data\n",
        "    plt.plot(recall_curve, precision_curve, 'b-', linewidth=2)\n",
        "    plt.xlabel('Recall')\n",
        "    plt.ylabel('Precision')\n",
        "    plt.title('Đường cong Precision-Recall')\n",
        "    plt.grid(True)\n",
        "\n",
        "    # Đánh dấu một số threshold\n",
        "    for i in range(0, len(pr_thresholds), max(1, len(pr_thresholds)//10)):\n",
        "        if i < len(precision_curve):\n",
        "            plt.annotate(f'{pr_thresholds[i]:.2f}',\n",
        "                         (recall_curve[i], precision_curve[i]),\n",
        "                         textcoords=\"offset points\",\n",
        "                         xytext=(0,10),\n",
        "                         ha='center')\n",
        "\n",
        "    # Tìm threshold tối ưu\n",
        "    best_row = find_optimal_threshold(threshold_results, min_precision)\n",
        "\n",
        "    # Đánh dấu điểm tối ưu\n",
        "    plt.plot(best_row['Recall'], best_row['Precision'], 'ro', markersize=8,\n",
        "             label=f'Optimal (thresh={best_row[\"Threshold\"]:.2f})')\n",
        "    plt.axhline(y=min_precision, color='g', linestyle='--', label=f'Min Precision={min_precision}')\n",
        "    plt.legend()\n",
        "\n",
        "    plt.tight_layout()\n",
        "    plt.show()\n",
        "\n",
        "    return best_row\n",
        "\n",
        "def main():\n",
        "    # Đường dẫn đến dữ liệu\n",
        "    images_dir = '/content/drive/MyDrive/AIP491/Training/yolo_helmet/images/val'\n",
        "    labels_dir = '/content/drive/MyDrive/AIP491/Training/yolo_helmet/labels/val'\n",
        "\n",
        "    # Load mô hình YOLO (thay thế đường dẫn này bằng đường dẫn đến model của bạn)\n",
        "    model_path = '/content/drive/MyDrive/AIP491/Training/yolo_helmet/weight/ver_3.pt'\n",
        "    model = YOLO(model_path)\n",
        "\n",
        "    # Đánh giá mô hình\n",
        "    print(\"Đánh giá mô hình với các threshold khác nhau...\")\n",
        "    thresholds = np.arange(0.1, 1.0, 0.05)\n",
        "    threshold_results, curve_data = evaluate_no_helmet_detection(\n",
        "        model, images_dir, labels_dir, conf_thresholds=thresholds)\n",
        "\n",
        "    # Phân tích kết quả và chọn threshold tối ưu\n",
        "    best_row = visualize_results(threshold_results, curve_data, min_precision=0.95)\n",
        "\n",
        "    print(\"\\n=== Kết quả phân tích ===\")\n",
        "    print(f\"Threshold tối ưu: {best_row['Threshold']:.3f}\")\n",
        "    print(f\"Precision: {best_row['Precision']:.3f}\")\n",
        "    print(f\"Recall: {best_row['Recall']:.3f}\")\n",
        "    print(f\"F1 Score: {best_row['F1']:.3f}\")\n",
        "    print(\"\\nVới threshold này, hệ thống sẽ đảm bảo độ chính xác cao trong việc phát hiện vi phạm\")\n",
        "    print(\"Điều này phù hợp với yêu cầu 'được phép bắt thiếu nhưng phải chính xác'\")\n",
        "\n",
        "# if __name__ == \"__main__\":\n",
        "#     main()\n"
      ],
      "metadata": {
        "colab": {
          "base_uri": "https://localhost:8080/",
          "height": 1000
        },
        "collapsed": true,
        "id": "gsAbnf8j0ePH",
        "outputId": "028a8a7d-0111-4bf8-f7dd-8eb1c13a0d80"
      },
      "execution_count": null,
      "outputs": [
        {
          "output_type": "stream",
          "name": "stdout",
          "text": [
            "\n",
            "0: 704x1248 7 motos, 5 helmets, 3 no_helmets, 4 license_plates, 676.2ms\n",
            "Speed: 14.6ms preprocess, 676.2ms inference, 1.8ms postprocess per image at shape (1, 3, 704, 1248)\n"
          ]
        },
        {
          "output_type": "stream",
          "name": "stderr",
          "text": [
            "\r 23%|██▎       | 69/305 [01:41<06:28,  1.64s/it]"
          ]
        },
        {
          "output_type": "stream",
          "name": "stdout",
          "text": [
            "\n",
            "0: 704x1248 7 motos, 5 helmets, 2 no_helmets, 3 license_plates, 622.9ms\n",
            "Speed: 18.3ms preprocess, 622.9ms inference, 1.2ms postprocess per image at shape (1, 3, 704, 1248)\n"
          ]
        },
        {
          "output_type": "stream",
          "name": "stderr",
          "text": [
            "\r 23%|██▎       | 70/305 [01:42<05:59,  1.53s/it]"
          ]
        },
        {
          "output_type": "stream",
          "name": "stdout",
          "text": [
            "\n",
            "0: 704x1248 23 motos, 23 helmets, 26 no_helmets, 19 license_plates, 423.2ms\n",
            "Speed: 10.5ms preprocess, 423.2ms inference, 1.7ms postprocess per image at shape (1, 3, 704, 1248)\n"
          ]
        },
        {
          "output_type": "stream",
          "name": "stderr",
          "text": [
            "\r 23%|██▎       | 71/305 [01:44<06:09,  1.58s/it]"
          ]
        },
        {
          "output_type": "stream",
          "name": "stdout",
          "text": [
            "\n",
            "0: 704x1248 6 motos, 9 helmets, 3 no_helmets, 4 license_plates, 459.6ms\n",
            "Speed: 11.4ms preprocess, 459.6ms inference, 1.1ms postprocess per image at shape (1, 3, 704, 1248)\n"
          ]
        },
        {
          "output_type": "stream",
          "name": "stderr",
          "text": [
            "\r 24%|██▎       | 72/305 [01:44<05:10,  1.33s/it]"
          ]
        },
        {
          "output_type": "stream",
          "name": "stdout",
          "text": [
            "\n",
            "0: 704x1248 7 motos, 6 helmets, 3 no_helmets, 5 license_plates, 450.0ms\n",
            "Speed: 10.7ms preprocess, 450.0ms inference, 1.4ms postprocess per image at shape (1, 3, 704, 1248)\n"
          ]
        },
        {
          "output_type": "stream",
          "name": "stderr",
          "text": [
            "\r 24%|██▍       | 73/305 [01:45<04:27,  1.15s/it]"
          ]
        },
        {
          "output_type": "stream",
          "name": "stdout",
          "text": [
            "\n",
            "0: 704x1248 12 motos, 5 helmets, 11 no_helmets, 5 license_plates, 438.7ms\n",
            "Speed: 11.6ms preprocess, 438.7ms inference, 1.1ms postprocess per image at shape (1, 3, 704, 1248)\n"
          ]
        },
        {
          "output_type": "stream",
          "name": "stderr",
          "text": [
            "\r 24%|██▍       | 74/305 [01:46<03:58,  1.03s/it]"
          ]
        },
        {
          "output_type": "stream",
          "name": "stdout",
          "text": [
            "\n",
            "0: 704x1248 15 motos, 16 helmets, 4 no_helmets, 10 license_plates, 450.5ms\n",
            "Speed: 14.3ms preprocess, 450.5ms inference, 2.3ms postprocess per image at shape (1, 3, 704, 1248)\n"
          ]
        },
        {
          "output_type": "stream",
          "name": "stderr",
          "text": [
            "\r 25%|██▍       | 75/305 [01:47<03:36,  1.06it/s]"
          ]
        },
        {
          "output_type": "stream",
          "name": "stdout",
          "text": [
            "\n",
            "0: 704x1248 12 motos, 8 helmets, 10 no_helmets, 12 license_plates, 681.4ms\n",
            "Speed: 20.9ms preprocess, 681.4ms inference, 6.6ms postprocess per image at shape (1, 3, 704, 1248)\n"
          ]
        },
        {
          "output_type": "stream",
          "name": "stderr",
          "text": [
            "\r 25%|██▍       | 76/305 [01:48<03:38,  1.05it/s]"
          ]
        },
        {
          "output_type": "stream",
          "name": "stdout",
          "text": [
            "\n",
            "0: 704x1248 20 motos, 7 helmets, 2 no_helmets, 12 license_plates, 712.2ms\n",
            "Speed: 23.2ms preprocess, 712.2ms inference, 1.7ms postprocess per image at shape (1, 3, 704, 1248)\n"
          ]
        },
        {
          "output_type": "stream",
          "name": "stderr",
          "text": [
            "\r 25%|██▌       | 77/305 [01:49<03:44,  1.01it/s]"
          ]
        },
        {
          "output_type": "stream",
          "name": "stdout",
          "text": [
            "\n",
            "0: 704x1248 22 motos, 6 helmets, 10 no_helmets, 8 license_plates, 698.6ms\n",
            "Speed: 18.2ms preprocess, 698.6ms inference, 1.7ms postprocess per image at shape (1, 3, 704, 1248)\n"
          ]
        },
        {
          "output_type": "stream",
          "name": "stderr",
          "text": [
            "\r 26%|██▌       | 78/305 [01:50<03:55,  1.04s/it]"
          ]
        },
        {
          "output_type": "stream",
          "name": "stdout",
          "text": [
            "\n",
            "0: 704x1248 13 motos, 2 helmets, 2 no_helmets, 4 license_plates, 1018.0ms\n",
            "Speed: 19.2ms preprocess, 1018.0ms inference, 1.7ms postprocess per image at shape (1, 3, 704, 1248)\n"
          ]
        },
        {
          "output_type": "stream",
          "name": "stderr",
          "text": [
            "\r 26%|██▌       | 79/305 [01:51<04:14,  1.12s/it]"
          ]
        },
        {
          "output_type": "stream",
          "name": "stdout",
          "text": [
            "\n",
            "0: 704x1248 5 motos, 1 helmet, 2 no_helmets, 3 license_plates, 647.3ms\n",
            "Speed: 30.9ms preprocess, 647.3ms inference, 1.3ms postprocess per image at shape (1, 3, 704, 1248)\n"
          ]
        },
        {
          "output_type": "stream",
          "name": "stderr",
          "text": [
            "\r 26%|██▌       | 80/305 [01:52<04:03,  1.08s/it]"
          ]
        },
        {
          "output_type": "stream",
          "name": "stdout",
          "text": [
            "\n",
            "0: 704x1248 19 motos, 9 helmets, 2 no_helmets, 8 license_plates, 470.4ms\n",
            "Speed: 11.3ms preprocess, 470.4ms inference, 1.1ms postprocess per image at shape (1, 3, 704, 1248)\n"
          ]
        },
        {
          "output_type": "stream",
          "name": "stderr",
          "text": [
            "\r 27%|██▋       | 81/305 [01:53<03:42,  1.00it/s]"
          ]
        },
        {
          "output_type": "stream",
          "name": "stdout",
          "text": [
            "\n",
            "0: 704x1248 17 motos, 20 helmets, 21 no_helmets, 17 license_plates, 467.3ms\n",
            "Speed: 10.2ms preprocess, 467.3ms inference, 1.4ms postprocess per image at shape (1, 3, 704, 1248)\n"
          ]
        },
        {
          "output_type": "stream",
          "name": "stderr",
          "text": [
            "\r 27%|██▋       | 82/305 [01:54<03:35,  1.04it/s]"
          ]
        },
        {
          "output_type": "stream",
          "name": "stdout",
          "text": [
            "\n",
            "0: 704x1248 11 motos, 4 helmets, 9 no_helmets, 5 license_plates, 472.4ms\n",
            "Speed: 11.8ms preprocess, 472.4ms inference, 1.1ms postprocess per image at shape (1, 3, 704, 1248)\n"
          ]
        },
        {
          "output_type": "stream",
          "name": "stderr",
          "text": [
            "\r 27%|██▋       | 83/305 [01:55<03:27,  1.07it/s]"
          ]
        },
        {
          "output_type": "stream",
          "name": "stdout",
          "text": [
            "\n",
            "0: 704x1248 12 motos, 4 helmets, 5 no_helmets, 7 license_plates, 446.6ms\n",
            "Speed: 18.4ms preprocess, 446.6ms inference, 1.2ms postprocess per image at shape (1, 3, 704, 1248)\n"
          ]
        },
        {
          "output_type": "stream",
          "name": "stderr",
          "text": [
            "\r 28%|██▊       | 84/305 [01:56<03:16,  1.12it/s]"
          ]
        },
        {
          "output_type": "stream",
          "name": "stdout",
          "text": [
            "\n",
            "0: 704x1248 4 motos, 5 helmets, 1 no_helmet, 4 license_plates, 438.7ms\n",
            "Speed: 11.0ms preprocess, 438.7ms inference, 1.3ms postprocess per image at shape (1, 3, 704, 1248)\n"
          ]
        },
        {
          "output_type": "stream",
          "name": "stderr",
          "text": [
            "\r 28%|██▊       | 85/305 [01:56<03:10,  1.15it/s]"
          ]
        },
        {
          "output_type": "stream",
          "name": "stdout",
          "text": [
            "\n",
            "0: 704x1248 9 motos, 5 helmets, 1 no_helmet, 1 license_plate, 449.6ms\n",
            "Speed: 10.4ms preprocess, 449.6ms inference, 1.2ms postprocess per image at shape (1, 3, 704, 1248)\n"
          ]
        },
        {
          "output_type": "stream",
          "name": "stderr",
          "text": [
            "\r 28%|██▊       | 86/305 [01:57<03:10,  1.15it/s]"
          ]
        },
        {
          "output_type": "stream",
          "name": "stdout",
          "text": [
            "\n",
            "0: 704x1248 13 motos, 3 helmets, 5 no_helmets, 6 license_plates, 446.9ms\n",
            "Speed: 10.5ms preprocess, 446.9ms inference, 1.3ms postprocess per image at shape (1, 3, 704, 1248)\n"
          ]
        },
        {
          "output_type": "stream",
          "name": "stderr",
          "text": [
            "\r 29%|██▊       | 87/305 [01:58<03:01,  1.20it/s]"
          ]
        },
        {
          "output_type": "stream",
          "name": "stdout",
          "text": [
            "\n",
            "0: 704x1248 12 motos, 5 helmets, 8 no_helmets, 5 license_plates, 439.3ms\n",
            "Speed: 10.3ms preprocess, 439.3ms inference, 1.6ms postprocess per image at shape (1, 3, 704, 1248)\n"
          ]
        },
        {
          "output_type": "stream",
          "name": "stderr",
          "text": [
            "\r 29%|██▉       | 88/305 [01:59<03:22,  1.07it/s]"
          ]
        },
        {
          "output_type": "stream",
          "name": "stdout",
          "text": [
            "\n",
            "0: 704x1248 10 motos, 6 helmets, 13 no_helmets, 6 license_plates, 419.9ms\n",
            "Speed: 10.2ms preprocess, 419.9ms inference, 3.0ms postprocess per image at shape (1, 3, 704, 1248)\n"
          ]
        },
        {
          "output_type": "stream",
          "name": "stderr",
          "text": [
            "\r 29%|██▉       | 89/305 [02:00<03:09,  1.14it/s]"
          ]
        },
        {
          "output_type": "stream",
          "name": "stdout",
          "text": [
            "\n",
            "0: 704x1248 5 motos, 7 helmets, 2 no_helmets, 1 license_plate, 652.3ms\n",
            "Speed: 13.4ms preprocess, 652.3ms inference, 1.7ms postprocess per image at shape (1, 3, 704, 1248)\n"
          ]
        },
        {
          "output_type": "stream",
          "name": "stderr",
          "text": [
            "\r 30%|██▉       | 90/305 [02:01<03:21,  1.07it/s]"
          ]
        },
        {
          "output_type": "stream",
          "name": "stdout",
          "text": [
            "\n",
            "0: 704x1248 6 motos, 9 helmets, 4 no_helmets, 2 license_plates, 955.6ms\n",
            "Speed: 21.4ms preprocess, 955.6ms inference, 2.1ms postprocess per image at shape (1, 3, 704, 1248)\n"
          ]
        },
        {
          "output_type": "stream",
          "name": "stderr",
          "text": [
            "\r 30%|██▉       | 91/305 [02:02<03:47,  1.06s/it]"
          ]
        },
        {
          "output_type": "stream",
          "name": "stdout",
          "text": [
            "\n",
            "0: 704x1248 14 motos, 4 helmets, 6 no_helmets, 3 license_plates, 659.7ms\n",
            "Speed: 13.5ms preprocess, 659.7ms inference, 1.7ms postprocess per image at shape (1, 3, 704, 1248)\n"
          ]
        },
        {
          "output_type": "stream",
          "name": "stderr",
          "text": [
            "\r 30%|███       | 92/305 [02:05<04:59,  1.41s/it]"
          ]
        },
        {
          "output_type": "stream",
          "name": "stdout",
          "text": [
            "\n",
            "0: 704x1248 31 motos, 34 helmets, 56 no_helmets, 10 license_plates, 476.7ms\n",
            "Speed: 12.6ms preprocess, 476.7ms inference, 1.4ms postprocess per image at shape (1, 3, 704, 1248)\n"
          ]
        },
        {
          "output_type": "stream",
          "name": "stderr",
          "text": [
            "\r 30%|███       | 93/305 [02:05<04:23,  1.24s/it]"
          ]
        },
        {
          "output_type": "stream",
          "name": "stdout",
          "text": [
            "\n",
            "0: 704x1248 3 motos, 2 helmets, 5 no_helmets, 7 license_plates, 431.5ms\n",
            "Speed: 10.3ms preprocess, 431.5ms inference, 1.2ms postprocess per image at shape (1, 3, 704, 1248)\n"
          ]
        },
        {
          "output_type": "stream",
          "name": "stderr",
          "text": [
            "\r 31%|███       | 94/305 [02:06<03:54,  1.11s/it]"
          ]
        },
        {
          "output_type": "stream",
          "name": "stdout",
          "text": [
            "\n",
            "0: 704x1248 3 motos, 3 helmets, 1 no_helmet, 1 license_plate, 451.6ms\n",
            "Speed: 10.9ms preprocess, 451.6ms inference, 1.1ms postprocess per image at shape (1, 3, 704, 1248)\n"
          ]
        },
        {
          "output_type": "stream",
          "name": "stderr",
          "text": [
            "\r 31%|███       | 95/305 [02:07<03:43,  1.06s/it]"
          ]
        },
        {
          "output_type": "stream",
          "name": "stdout",
          "text": [
            "\n",
            "0: 704x1248 5 motos, 4 helmets, 7 no_helmets, 2 license_plates, 451.3ms\n",
            "Speed: 15.4ms preprocess, 451.3ms inference, 1.2ms postprocess per image at shape (1, 3, 704, 1248)\n"
          ]
        },
        {
          "output_type": "stream",
          "name": "stderr",
          "text": [
            "\r 31%|███▏      | 96/305 [02:08<03:23,  1.03it/s]"
          ]
        },
        {
          "output_type": "stream",
          "name": "stdout",
          "text": [
            "\n",
            "0: 704x1248 13 motos, 11 helmets, 5 no_helmets, 5 license_plates, 446.6ms\n",
            "Speed: 11.1ms preprocess, 446.6ms inference, 1.3ms postprocess per image at shape (1, 3, 704, 1248)\n"
          ]
        },
        {
          "output_type": "stream",
          "name": "stderr",
          "text": [
            "\r 32%|███▏      | 97/305 [02:09<03:11,  1.09it/s]"
          ]
        },
        {
          "output_type": "stream",
          "name": "stdout",
          "text": [
            "\n",
            "0: 704x1248 21 motos, 20 helmets, 17 no_helmets, 6 license_plates, 457.7ms\n",
            "Speed: 14.7ms preprocess, 457.7ms inference, 1.3ms postprocess per image at shape (1, 3, 704, 1248)\n"
          ]
        },
        {
          "output_type": "stream",
          "name": "stderr",
          "text": [
            "\r 32%|███▏      | 98/305 [02:09<02:58,  1.16it/s]"
          ]
        },
        {
          "output_type": "stream",
          "name": "stdout",
          "text": [
            "\n",
            "0: 704x1248 26 motos, 8 helmets, 15 no_helmets, 12 license_plates, 459.3ms\n",
            "Speed: 16.5ms preprocess, 459.3ms inference, 1.2ms postprocess per image at shape (1, 3, 704, 1248)\n"
          ]
        },
        {
          "output_type": "stream",
          "name": "stderr",
          "text": [
            "\r 32%|███▏      | 99/305 [02:10<02:52,  1.19it/s]"
          ]
        },
        {
          "output_type": "stream",
          "name": "stdout",
          "text": [
            "\n",
            "0: 704x1248 9 motos, 2 helmets, 7 no_helmets, 2 license_plates, 678.3ms\n",
            "Speed: 18.6ms preprocess, 678.3ms inference, 1.7ms postprocess per image at shape (1, 3, 704, 1248)\n"
          ]
        },
        {
          "output_type": "stream",
          "name": "stderr",
          "text": [
            "\r 33%|███▎      | 100/305 [02:11<03:05,  1.11it/s]"
          ]
        },
        {
          "output_type": "stream",
          "name": "stdout",
          "text": [
            "\n",
            "0: 704x1248 12 motos, 4 helmets, 3 no_helmets, 12 license_plates, 707.6ms\n",
            "Speed: 19.2ms preprocess, 707.6ms inference, 1.9ms postprocess per image at shape (1, 3, 704, 1248)\n"
          ]
        },
        {
          "output_type": "stream",
          "name": "stderr",
          "text": [
            "\r 33%|███▎      | 101/305 [02:12<03:11,  1.07it/s]"
          ]
        },
        {
          "output_type": "stream",
          "name": "stdout",
          "text": [
            "\n",
            "0: 704x1248 25 motos, 4 helmets, 2 no_helmets, 3 license_plates, 433.8ms\n",
            "Speed: 10.0ms preprocess, 433.8ms inference, 1.4ms postprocess per image at shape (1, 3, 704, 1248)\n"
          ]
        },
        {
          "output_type": "stream",
          "name": "stderr",
          "text": [
            "\r 33%|███▎      | 102/305 [02:13<02:54,  1.16it/s]"
          ]
        },
        {
          "output_type": "stream",
          "name": "stdout",
          "text": [
            "\n",
            "0: 704x1248 35 motos, 43 helmets, 11 no_helmets, 18 license_plates, 452.1ms\n",
            "Speed: 10.5ms preprocess, 452.1ms inference, 1.4ms postprocess per image at shape (1, 3, 704, 1248)\n"
          ]
        },
        {
          "output_type": "stream",
          "name": "stderr",
          "text": [
            "\r 34%|███▍      | 103/305 [02:14<02:44,  1.23it/s]"
          ]
        },
        {
          "output_type": "stream",
          "name": "stdout",
          "text": [
            "\n",
            "0: 704x1248 49 motos, 7 helmets, 3 no_helmets, 7 license_plates, 449.9ms\n",
            "Speed: 14.6ms preprocess, 449.9ms inference, 1.4ms postprocess per image at shape (1, 3, 704, 1248)\n"
          ]
        },
        {
          "output_type": "stream",
          "name": "stderr",
          "text": [
            "\r 34%|███▍      | 104/305 [02:14<02:36,  1.29it/s]"
          ]
        },
        {
          "output_type": "stream",
          "name": "stdout",
          "text": [
            "\n",
            "0: 704x1248 2 motos, 3 helmets, 4 no_helmets, 2 license_plates, 549.3ms\n",
            "Speed: 12.7ms preprocess, 549.3ms inference, 1.5ms postprocess per image at shape (1, 3, 704, 1248)\n"
          ]
        },
        {
          "output_type": "stream",
          "name": "stderr",
          "text": [
            "\r 34%|███▍      | 105/305 [02:15<02:44,  1.21it/s]"
          ]
        },
        {
          "output_type": "stream",
          "name": "stdout",
          "text": [
            "\n",
            "0: 704x1248 38 motos, 11 helmets, 2 no_helmets, 17 license_plates, 651.0ms\n",
            "Speed: 13.7ms preprocess, 651.0ms inference, 1.7ms postprocess per image at shape (1, 3, 704, 1248)\n"
          ]
        },
        {
          "output_type": "stream",
          "name": "stderr",
          "text": [
            "\r 35%|███▍      | 106/305 [02:16<03:04,  1.08it/s]"
          ]
        },
        {
          "output_type": "stream",
          "name": "stdout",
          "text": [
            "\n",
            "0: 704x1248 7 motos, 4 helmets, 1 no_helmet, 4 license_plates, 669.4ms\n",
            "Speed: 12.3ms preprocess, 669.4ms inference, 2.0ms postprocess per image at shape (1, 3, 704, 1248)\n"
          ]
        },
        {
          "output_type": "stream",
          "name": "stderr",
          "text": [
            "\r 35%|███▌      | 107/305 [02:17<03:05,  1.07it/s]"
          ]
        },
        {
          "output_type": "stream",
          "name": "stdout",
          "text": [
            "\n",
            "0: 704x1248 12 motos, 5 helmets, 4 no_helmets, 14 license_plates, 683.2ms\n",
            "Speed: 15.6ms preprocess, 683.2ms inference, 2.0ms postprocess per image at shape (1, 3, 704, 1248)\n"
          ]
        },
        {
          "output_type": "stream",
          "name": "stderr",
          "text": [
            "\r 35%|███▌      | 108/305 [02:18<03:07,  1.05it/s]"
          ]
        },
        {
          "output_type": "stream",
          "name": "stdout",
          "text": [
            "\n",
            "0: 704x1248 15 motos, 6 no_helmets, 1 license_plate, 444.5ms\n",
            "Speed: 20.7ms preprocess, 444.5ms inference, 1.4ms postprocess per image at shape (1, 3, 704, 1248)\n"
          ]
        },
        {
          "output_type": "stream",
          "name": "stderr",
          "text": [
            "\r 36%|███▌      | 109/305 [02:19<02:53,  1.13it/s]"
          ]
        },
        {
          "output_type": "stream",
          "name": "stdout",
          "text": [
            "\n",
            "0: 704x1248 16 motos, 5 helmets, 7 no_helmets, 2 license_plates, 445.7ms\n",
            "Speed: 10.8ms preprocess, 445.7ms inference, 1.2ms postprocess per image at shape (1, 3, 704, 1248)\n"
          ]
        },
        {
          "output_type": "stream",
          "name": "stderr",
          "text": [
            "\r 36%|███▌      | 110/305 [02:20<02:43,  1.19it/s]"
          ]
        },
        {
          "output_type": "stream",
          "name": "stdout",
          "text": [
            "\n",
            "0: 704x1248 48 motos, 9 helmets, 5 no_helmets, 16 license_plates, 438.5ms\n",
            "Speed: 10.5ms preprocess, 438.5ms inference, 1.4ms postprocess per image at shape (1, 3, 704, 1248)\n"
          ]
        },
        {
          "output_type": "stream",
          "name": "stderr",
          "text": [
            "\r 36%|███▋      | 111/305 [02:22<03:38,  1.13s/it]"
          ]
        },
        {
          "output_type": "stream",
          "name": "stdout",
          "text": [
            "\n",
            "0: 704x1248 39 motos, 5 helmets, 3 no_helmets, 10 license_plates, 715.0ms\n",
            "Speed: 12.3ms preprocess, 715.0ms inference, 2.0ms postprocess per image at shape (1, 3, 704, 1248)\n"
          ]
        },
        {
          "output_type": "stream",
          "name": "stderr",
          "text": [
            "\r 37%|███▋      | 112/305 [02:23<03:29,  1.09s/it]"
          ]
        },
        {
          "output_type": "stream",
          "name": "stdout",
          "text": [
            "\n",
            "0: 704x1248 51 motos, 18 helmets, 16 no_helmets, 13 license_plates, 429.9ms\n",
            "Speed: 11.7ms preprocess, 429.9ms inference, 1.3ms postprocess per image at shape (1, 3, 704, 1248)\n"
          ]
        },
        {
          "output_type": "stream",
          "name": "stderr",
          "text": [
            "\r 37%|███▋      | 113/305 [02:23<03:06,  1.03it/s]"
          ]
        },
        {
          "output_type": "stream",
          "name": "stdout",
          "text": [
            "\n",
            "0: 704x1248 15 motos, 4 helmets, 4 no_helmets, 1 license_plate, 468.0ms\n",
            "Speed: 10.7ms preprocess, 468.0ms inference, 1.3ms postprocess per image at shape (1, 3, 704, 1248)\n"
          ]
        },
        {
          "output_type": "stream",
          "name": "stderr",
          "text": [
            "\r 37%|███▋      | 114/305 [02:24<02:57,  1.08it/s]"
          ]
        },
        {
          "output_type": "stream",
          "name": "stdout",
          "text": [
            "\n",
            "0: 704x1248 47 motos, 26 helmets, 5 no_helmets, 11 license_plates, 458.4ms\n",
            "Speed: 15.7ms preprocess, 458.4ms inference, 1.9ms postprocess per image at shape (1, 3, 704, 1248)\n"
          ]
        },
        {
          "output_type": "stream",
          "name": "stderr",
          "text": [
            "\r 38%|███▊      | 115/305 [02:25<02:50,  1.11it/s]"
          ]
        },
        {
          "output_type": "stream",
          "name": "stdout",
          "text": [
            "\n",
            "0: 704x1248 32 motos, 28 helmets, 4 no_helmets, 10 license_plates, 406.0ms\n",
            "Speed: 10.8ms preprocess, 406.0ms inference, 1.3ms postprocess per image at shape (1, 3, 704, 1248)\n"
          ]
        },
        {
          "output_type": "stream",
          "name": "stderr",
          "text": [
            "\r 38%|███▊      | 116/305 [02:26<02:39,  1.18it/s]"
          ]
        },
        {
          "output_type": "stream",
          "name": "stdout",
          "text": [
            "\n",
            "0: 704x1248 29 motos, 13 helmets, 11 no_helmets, 4 license_plates, 389.8ms\n",
            "Speed: 10.6ms preprocess, 389.8ms inference, 1.2ms postprocess per image at shape (1, 3, 704, 1248)\n"
          ]
        },
        {
          "output_type": "stream",
          "name": "stderr",
          "text": [
            "\r 38%|███▊      | 117/305 [02:26<02:27,  1.27it/s]"
          ]
        },
        {
          "output_type": "stream",
          "name": "stdout",
          "text": [
            "\n",
            "0: 704x1248 43 motos, 3 helmets, 6 no_helmets, 3 license_plates, 471.6ms\n",
            "Speed: 14.6ms preprocess, 471.6ms inference, 1.2ms postprocess per image at shape (1, 3, 704, 1248)\n"
          ]
        },
        {
          "output_type": "stream",
          "name": "stderr",
          "text": [
            "\r 39%|███▊      | 118/305 [02:27<02:25,  1.28it/s]"
          ]
        },
        {
          "output_type": "stream",
          "name": "stdout",
          "text": [
            "\n",
            "0: 704x1248 43 motos, 9 helmets, 11 no_helmets, 3 license_plates, 448.5ms\n",
            "Speed: 12.0ms preprocess, 448.5ms inference, 1.5ms postprocess per image at shape (1, 3, 704, 1248)\n"
          ]
        },
        {
          "output_type": "stream",
          "name": "stderr",
          "text": [
            "\r 39%|███▉      | 119/305 [02:28<02:30,  1.23it/s]"
          ]
        },
        {
          "output_type": "stream",
          "name": "stdout",
          "text": [
            "\n",
            "0: 704x1248 63 motos, 31 helmets, 13 no_helmets, 39 license_plates, 545.8ms\n",
            "Speed: 15.8ms preprocess, 545.8ms inference, 2.3ms postprocess per image at shape (1, 3, 704, 1248)\n"
          ]
        },
        {
          "output_type": "stream",
          "name": "stderr",
          "text": [
            "\r 39%|███▉      | 120/305 [02:29<02:33,  1.20it/s]"
          ]
        },
        {
          "output_type": "stream",
          "name": "stdout",
          "text": [
            "\n",
            "0: 704x1248 52 motos, 19 helmets, 6 no_helmets, 17 license_plates, 644.6ms\n",
            "Speed: 17.8ms preprocess, 644.6ms inference, 1.8ms postprocess per image at shape (1, 3, 704, 1248)\n"
          ]
        },
        {
          "output_type": "stream",
          "name": "stderr",
          "text": [
            "\r 40%|███▉      | 121/305 [02:30<02:49,  1.09it/s]"
          ]
        },
        {
          "output_type": "stream",
          "name": "stdout",
          "text": [
            "\n",
            "0: 704x1248 9 motos, 5 helmets, 2 no_helmets, 9 license_plates, 658.9ms\n",
            "Speed: 13.4ms preprocess, 658.9ms inference, 1.7ms postprocess per image at shape (1, 3, 704, 1248)\n"
          ]
        },
        {
          "output_type": "stream",
          "name": "stderr",
          "text": [
            "\r 40%|████      | 122/305 [02:31<02:52,  1.06it/s]"
          ]
        },
        {
          "output_type": "stream",
          "name": "stdout",
          "text": [
            "\n",
            "0: 704x1248 52 motos, 3 helmets, 5 no_helmets, 7 license_plates, 976.2ms\n",
            "Speed: 23.8ms preprocess, 976.2ms inference, 3.1ms postprocess per image at shape (1, 3, 704, 1248)\n"
          ]
        },
        {
          "output_type": "stream",
          "name": "stderr",
          "text": [
            "\r 40%|████      | 123/305 [02:32<03:09,  1.04s/it]"
          ]
        },
        {
          "output_type": "stream",
          "name": "stdout",
          "text": [
            "\n",
            "0: 704x1248 26 motos, 10 helmets, 2 no_helmets, 10 license_plates, 911.2ms\n",
            "Speed: 20.9ms preprocess, 911.2ms inference, 2.1ms postprocess per image at shape (1, 3, 704, 1248)\n"
          ]
        },
        {
          "output_type": "stream",
          "name": "stderr",
          "text": [
            "\r 41%|████      | 124/305 [02:34<03:17,  1.09s/it]"
          ]
        },
        {
          "output_type": "stream",
          "name": "stdout",
          "text": [
            "\n",
            "0: 704x1248 18 motos, 6 helmets, 2 no_helmets, 3 license_plates, 454.8ms\n",
            "Speed: 19.0ms preprocess, 454.8ms inference, 1.3ms postprocess per image at shape (1, 3, 704, 1248)\n"
          ]
        },
        {
          "output_type": "stream",
          "name": "stderr",
          "text": [
            "\r 41%|████      | 125/305 [02:34<03:01,  1.01s/it]"
          ]
        },
        {
          "output_type": "stream",
          "name": "stdout",
          "text": [
            "\n",
            "0: 704x1248 33 motos, 8 helmets, 19 no_helmets, 4 license_plates, 445.1ms\n",
            "Speed: 16.0ms preprocess, 445.1ms inference, 1.2ms postprocess per image at shape (1, 3, 704, 1248)\n"
          ]
        },
        {
          "output_type": "stream",
          "name": "stderr",
          "text": [
            "\r 41%|████▏     | 126/305 [02:35<02:48,  1.06it/s]"
          ]
        },
        {
          "output_type": "stream",
          "name": "stdout",
          "text": [
            "\n",
            "0: 704x1248 20 motos, 6 helmets, 5 no_helmets, 12 license_plates, 590.4ms\n",
            "Speed: 48.6ms preprocess, 590.4ms inference, 1.2ms postprocess per image at shape (1, 3, 704, 1248)\n"
          ]
        },
        {
          "output_type": "stream",
          "name": "stderr",
          "text": [
            "\r 42%|████▏     | 127/305 [02:36<02:47,  1.06it/s]"
          ]
        },
        {
          "output_type": "stream",
          "name": "stdout",
          "text": [
            "\n",
            "0: 704x1248 9 motos, 6 helmets, 2 no_helmets, 6 license_plates, 467.9ms\n",
            "Speed: 26.8ms preprocess, 467.9ms inference, 1.2ms postprocess per image at shape (1, 3, 704, 1248)\n"
          ]
        },
        {
          "output_type": "stream",
          "name": "stderr",
          "text": [
            "\r 42%|████▏     | 128/305 [02:37<02:37,  1.12it/s]"
          ]
        },
        {
          "output_type": "stream",
          "name": "stdout",
          "text": [
            "\n",
            "0: 704x1248 47 motos, 22 helmets, 21 no_helmets, 7 license_plates, 454.2ms\n",
            "Speed: 31.3ms preprocess, 454.2ms inference, 1.4ms postprocess per image at shape (1, 3, 704, 1248)\n"
          ]
        },
        {
          "output_type": "stream",
          "name": "stderr",
          "text": [
            "\r 42%|████▏     | 129/305 [02:38<02:29,  1.18it/s]"
          ]
        },
        {
          "output_type": "stream",
          "name": "stdout",
          "text": [
            "\n",
            "0: 704x1248 20 motos, 9 helmets, 4 no_helmets, 17 license_plates, 427.8ms\n",
            "Speed: 13.0ms preprocess, 427.8ms inference, 1.4ms postprocess per image at shape (1, 3, 704, 1248)\n"
          ]
        },
        {
          "output_type": "stream",
          "name": "stderr",
          "text": [
            "\r 43%|████▎     | 130/305 [02:38<02:20,  1.24it/s]"
          ]
        },
        {
          "output_type": "stream",
          "name": "stdout",
          "text": [
            "\n",
            "0: 704x1248 34 motos, 33 helmets, 8 no_helmets, 17 license_plates, 446.6ms\n",
            "Speed: 11.6ms preprocess, 446.6ms inference, 1.3ms postprocess per image at shape (1, 3, 704, 1248)\n"
          ]
        },
        {
          "output_type": "stream",
          "name": "stderr",
          "text": [
            "\r 43%|████▎     | 131/305 [02:39<02:20,  1.24it/s]"
          ]
        },
        {
          "output_type": "stream",
          "name": "stdout",
          "text": [
            "\n",
            "0: 704x1248 37 motos, 11 helmets, 24 no_helmets, 8 license_plates, 468.2ms\n",
            "Speed: 10.5ms preprocess, 468.2ms inference, 1.5ms postprocess per image at shape (1, 3, 704, 1248)\n"
          ]
        },
        {
          "output_type": "stream",
          "name": "stderr",
          "text": [
            "\r 43%|████▎     | 132/305 [02:40<02:18,  1.25it/s]"
          ]
        },
        {
          "output_type": "stream",
          "name": "stdout",
          "text": [
            "\n",
            "0: 704x1248 84 motos, 25 helmets, 21 no_helmets, 27 license_plates, 450.0ms\n",
            "Speed: 15.2ms preprocess, 450.0ms inference, 1.5ms postprocess per image at shape (1, 3, 704, 1248)\n"
          ]
        },
        {
          "output_type": "stream",
          "name": "stderr",
          "text": [
            "\r 44%|████▎     | 133/305 [02:41<02:13,  1.29it/s]"
          ]
        },
        {
          "output_type": "stream",
          "name": "stdout",
          "text": [
            "\n",
            "0: 704x1248 47 motos, 14 helmets, 6 no_helmets, 8 license_plates, 464.7ms\n",
            "Speed: 16.3ms preprocess, 464.7ms inference, 1.7ms postprocess per image at shape (1, 3, 704, 1248)\n"
          ]
        },
        {
          "output_type": "stream",
          "name": "stderr",
          "text": [
            "\r 44%|████▍     | 134/305 [02:41<02:17,  1.24it/s]"
          ]
        },
        {
          "output_type": "stream",
          "name": "stdout",
          "text": [
            "\n",
            "0: 704x1248 33 motos, 18 helmets, 4 no_helmets, 16 license_plates, 735.4ms\n",
            "Speed: 12.9ms preprocess, 735.4ms inference, 2.0ms postprocess per image at shape (1, 3, 704, 1248)\n"
          ]
        },
        {
          "output_type": "stream",
          "name": "stderr",
          "text": [
            "\r 44%|████▍     | 135/305 [02:43<02:30,  1.13it/s]"
          ]
        },
        {
          "output_type": "stream",
          "name": "stdout",
          "text": [
            "\n",
            "0: 704x1248 26 motos, 3 helmets, 5 no_helmets, 5 license_plates, 672.9ms\n",
            "Speed: 19.1ms preprocess, 672.9ms inference, 1.8ms postprocess per image at shape (1, 3, 704, 1248)\n"
          ]
        },
        {
          "output_type": "stream",
          "name": "stderr",
          "text": [
            "\r 45%|████▍     | 136/305 [02:44<02:33,  1.10it/s]"
          ]
        },
        {
          "output_type": "stream",
          "name": "stdout",
          "text": [
            "\n",
            "0: 704x1248 39 motos, 17 helmets, 10 no_helmets, 9 license_plates, 661.0ms\n",
            "Speed: 16.7ms preprocess, 661.0ms inference, 1.5ms postprocess per image at shape (1, 3, 704, 1248)\n"
          ]
        },
        {
          "output_type": "stream",
          "name": "stderr",
          "text": [
            "\r 45%|████▍     | 137/305 [02:45<02:37,  1.07it/s]"
          ]
        },
        {
          "output_type": "stream",
          "name": "stdout",
          "text": [
            "\n",
            "0: 704x1248 47 motos, 16 helmets, 16 no_helmets, 13 license_plates, 672.0ms\n",
            "Speed: 23.2ms preprocess, 672.0ms inference, 2.0ms postprocess per image at shape (1, 3, 704, 1248)\n"
          ]
        },
        {
          "output_type": "stream",
          "name": "stderr",
          "text": [
            "\r 45%|████▌     | 138/305 [02:46<02:41,  1.03it/s]"
          ]
        },
        {
          "output_type": "stream",
          "name": "stdout",
          "text": [
            "\n",
            "0: 704x1248 50 motos, 16 helmets, 24 no_helmets, 4 license_plates, 693.0ms\n",
            "Speed: 18.3ms preprocess, 693.0ms inference, 1.8ms postprocess per image at shape (1, 3, 704, 1248)\n"
          ]
        },
        {
          "output_type": "stream",
          "name": "stderr",
          "text": [
            "\r 46%|████▌     | 139/305 [02:47<02:45,  1.01it/s]"
          ]
        },
        {
          "output_type": "stream",
          "name": "stdout",
          "text": [
            "\n",
            "0: 704x1248 15 motos, 22 helmets, 11 no_helmets, 6 license_plates, 655.8ms\n",
            "Speed: 12.1ms preprocess, 655.8ms inference, 1.3ms postprocess per image at shape (1, 3, 704, 1248)\n"
          ]
        },
        {
          "output_type": "stream",
          "name": "stderr",
          "text": [
            "\r 46%|████▌     | 140/305 [02:48<02:41,  1.02it/s]"
          ]
        },
        {
          "output_type": "stream",
          "name": "stdout",
          "text": [
            "\n",
            "0: 704x1248 15 motos, 4 helmets, 10 no_helmets, 3 license_plates, 435.2ms\n",
            "Speed: 10.2ms preprocess, 435.2ms inference, 1.2ms postprocess per image at shape (1, 3, 704, 1248)\n"
          ]
        },
        {
          "output_type": "stream",
          "name": "stderr",
          "text": [
            "\r 46%|████▌     | 141/305 [02:48<02:33,  1.07it/s]"
          ]
        },
        {
          "output_type": "stream",
          "name": "stdout",
          "text": [
            "\n",
            "0: 704x1248 34 motos, 17 helmets, 14 no_helmets, 14 license_plates, 440.1ms\n",
            "Speed: 10.4ms preprocess, 440.1ms inference, 1.4ms postprocess per image at shape (1, 3, 704, 1248)\n"
          ]
        },
        {
          "output_type": "stream",
          "name": "stderr",
          "text": [
            "\r 47%|████▋     | 142/305 [02:49<02:26,  1.11it/s]"
          ]
        },
        {
          "output_type": "stream",
          "name": "stdout",
          "text": [
            "\n",
            "0: 704x1248 85 motos, 64 helmets, 19 no_helmets, 41 license_plates, 441.7ms\n",
            "Speed: 12.0ms preprocess, 441.7ms inference, 2.2ms postprocess per image at shape (1, 3, 704, 1248)\n"
          ]
        },
        {
          "output_type": "stream",
          "name": "stderr",
          "text": [
            "\r 47%|████▋     | 143/305 [02:50<02:24,  1.12it/s]"
          ]
        },
        {
          "output_type": "stream",
          "name": "stdout",
          "text": [
            "\n",
            "0: 704x1248 21 motos, 10 helmets, 7 no_helmets, 12 license_plates, 465.1ms\n",
            "Speed: 18.0ms preprocess, 465.1ms inference, 1.4ms postprocess per image at shape (1, 3, 704, 1248)\n"
          ]
        },
        {
          "output_type": "stream",
          "name": "stderr",
          "text": [
            "\r 47%|████▋     | 144/305 [02:51<02:24,  1.11it/s]"
          ]
        },
        {
          "output_type": "stream",
          "name": "stdout",
          "text": [
            "\n",
            "0: 704x1248 18 motos, 8 helmets, 14 no_helmets, 2 license_plates, 571.2ms\n",
            "Speed: 11.3ms preprocess, 571.2ms inference, 1.9ms postprocess per image at shape (1, 3, 704, 1248)\n"
          ]
        },
        {
          "output_type": "stream",
          "name": "stderr",
          "text": [
            "\r 48%|████▊     | 145/305 [02:52<02:22,  1.12it/s]"
          ]
        },
        {
          "output_type": "stream",
          "name": "stdout",
          "text": [
            "\n",
            "0: 704x1248 34 motos, 33 helmets, 18 no_helmets, 15 license_plates, 760.4ms\n",
            "Speed: 13.5ms preprocess, 760.4ms inference, 2.0ms postprocess per image at shape (1, 3, 704, 1248)\n"
          ]
        },
        {
          "output_type": "stream",
          "name": "stderr",
          "text": [
            "\r 48%|████▊     | 146/305 [02:53<02:35,  1.02it/s]"
          ]
        },
        {
          "output_type": "stream",
          "name": "stdout",
          "text": [
            "\n",
            "0: 704x1248 39 motos, 16 helmets, 15 no_helmets, 18 license_plates, 598.2ms\n",
            "Speed: 18.9ms preprocess, 598.2ms inference, 1.3ms postprocess per image at shape (1, 3, 704, 1248)\n"
          ]
        },
        {
          "output_type": "stream",
          "name": "stderr",
          "text": [
            "\r 48%|████▊     | 147/305 [02:54<02:34,  1.02it/s]"
          ]
        },
        {
          "output_type": "stream",
          "name": "stdout",
          "text": [
            "\n",
            "0: 704x1248 30 motos, 22 helmets, 13 no_helmets, 6 license_plates, 471.5ms\n",
            "Speed: 15.3ms preprocess, 471.5ms inference, 1.2ms postprocess per image at shape (1, 3, 704, 1248)\n"
          ]
        },
        {
          "output_type": "stream",
          "name": "stderr",
          "text": [
            "\r 49%|████▊     | 148/305 [02:55<02:21,  1.11it/s]"
          ]
        },
        {
          "output_type": "stream",
          "name": "stdout",
          "text": [
            "\n",
            "0: 704x1248 55 motos, 32 helmets, 6 no_helmets, 21 license_plates, 464.4ms\n",
            "Speed: 11.0ms preprocess, 464.4ms inference, 1.6ms postprocess per image at shape (1, 3, 704, 1248)\n"
          ]
        },
        {
          "output_type": "stream",
          "name": "stderr",
          "text": [
            "\r 49%|████▉     | 149/305 [02:55<02:13,  1.17it/s]"
          ]
        },
        {
          "output_type": "stream",
          "name": "stdout",
          "text": [
            "\n",
            "0: 704x1248 32 motos, 26 helmets, 11 no_helmets, 22 license_plates, 475.2ms\n",
            "Speed: 18.9ms preprocess, 475.2ms inference, 1.3ms postprocess per image at shape (1, 3, 704, 1248)\n"
          ]
        },
        {
          "output_type": "stream",
          "name": "stderr",
          "text": [
            "\r 49%|████▉     | 150/305 [02:56<02:07,  1.21it/s]"
          ]
        },
        {
          "output_type": "stream",
          "name": "stdout",
          "text": [
            "\n",
            "0: 704x1248 6 motos, 11 helmets, 4 no_helmets, 13 license_plates, 452.7ms\n",
            "Speed: 10.6ms preprocess, 452.7ms inference, 1.3ms postprocess per image at shape (1, 3, 704, 1248)\n"
          ]
        },
        {
          "output_type": "stream",
          "name": "stderr",
          "text": [
            "\r 50%|████▉     | 151/305 [02:57<02:01,  1.27it/s]"
          ]
        },
        {
          "output_type": "stream",
          "name": "stdout",
          "text": [
            "\n",
            "0: 704x1248 15 motos, 1 helmet, 7 no_helmets, 1 license_plate, 586.1ms\n",
            "Speed: 11.2ms preprocess, 586.1ms inference, 1.5ms postprocess per image at shape (1, 3, 704, 1248)\n"
          ]
        },
        {
          "output_type": "stream",
          "name": "stderr",
          "text": [
            "\r 50%|████▉     | 152/305 [02:58<02:06,  1.21it/s]"
          ]
        },
        {
          "output_type": "stream",
          "name": "stdout",
          "text": [
            "\n",
            "0: 704x1248 21 motos, 3 helmets, 10 no_helmets, 2 license_plates, 675.4ms\n",
            "Speed: 14.4ms preprocess, 675.4ms inference, 1.4ms postprocess per image at shape (1, 3, 704, 1248)\n"
          ]
        },
        {
          "output_type": "stream",
          "name": "stderr",
          "text": [
            "\r 50%|█████     | 153/305 [02:59<02:13,  1.14it/s]"
          ]
        },
        {
          "output_type": "stream",
          "name": "stdout",
          "text": [
            "\n",
            "0: 704x1248 32 motos, 13 helmets, 7 no_helmets, 3 license_plates, 650.6ms\n",
            "Speed: 22.2ms preprocess, 650.6ms inference, 1.4ms postprocess per image at shape (1, 3, 704, 1248)\n"
          ]
        },
        {
          "output_type": "stream",
          "name": "stderr",
          "text": [
            "\r 50%|█████     | 154/305 [03:00<02:19,  1.08it/s]"
          ]
        },
        {
          "output_type": "stream",
          "name": "stdout",
          "text": [
            "\n",
            "0: 704x1248 21 motos, 10 helmets, 7 no_helmets, 6 license_plates, 674.1ms\n",
            "Speed: 19.7ms preprocess, 674.1ms inference, 1.9ms postprocess per image at shape (1, 3, 704, 1248)\n"
          ]
        },
        {
          "output_type": "stream",
          "name": "stderr",
          "text": [
            "\r 51%|█████     | 155/305 [03:01<02:21,  1.06it/s]"
          ]
        },
        {
          "output_type": "stream",
          "name": "stdout",
          "text": [
            "\n",
            "0: 704x1248 18 motos, 8 helmets, 12 no_helmets, 11 license_plates, 578.4ms\n",
            "Speed: 13.5ms preprocess, 578.4ms inference, 1.5ms postprocess per image at shape (1, 3, 704, 1248)\n"
          ]
        },
        {
          "output_type": "stream",
          "name": "stderr",
          "text": [
            "\r 51%|█████     | 156/305 [03:02<02:20,  1.06it/s]"
          ]
        },
        {
          "output_type": "stream",
          "name": "stdout",
          "text": [
            "\n",
            "0: 704x1248 33 motos, 11 helmets, 14 no_helmets, 5 license_plates, 1089.2ms\n",
            "Speed: 23.6ms preprocess, 1089.2ms inference, 1.9ms postprocess per image at shape (1, 3, 704, 1248)\n"
          ]
        },
        {
          "output_type": "stream",
          "name": "stderr",
          "text": [
            "\r 51%|█████▏    | 157/305 [03:03<02:39,  1.08s/it]"
          ]
        },
        {
          "output_type": "stream",
          "name": "stdout",
          "text": [
            "\n",
            "0: 704x1248 21 motos, 4 helmets, 4 no_helmets, 7 license_plates, 925.9ms\n",
            "Speed: 21.9ms preprocess, 925.9ms inference, 1.5ms postprocess per image at shape (1, 3, 704, 1248)\n"
          ]
        },
        {
          "output_type": "stream",
          "name": "stderr",
          "text": [
            "\r 52%|█████▏    | 158/305 [03:04<02:45,  1.12s/it]"
          ]
        },
        {
          "output_type": "stream",
          "name": "stdout",
          "text": [
            "\n",
            "0: 704x1248 12 motos, 3 helmets, 6 no_helmets, 3 license_plates, 658.6ms\n",
            "Speed: 16.3ms preprocess, 658.6ms inference, 1.9ms postprocess per image at shape (1, 3, 704, 1248)\n"
          ]
        },
        {
          "output_type": "stream",
          "name": "stderr",
          "text": [
            "\r 52%|█████▏    | 159/305 [03:05<02:37,  1.08s/it]"
          ]
        },
        {
          "output_type": "stream",
          "name": "stdout",
          "text": [
            "\n",
            "0: 704x1248 30 motos, 6 helmets, 4 no_helmets, 2 license_plates, 695.4ms\n",
            "Speed: 21.4ms preprocess, 695.4ms inference, 1.8ms postprocess per image at shape (1, 3, 704, 1248)\n"
          ]
        },
        {
          "output_type": "stream",
          "name": "stderr",
          "text": [
            "\r 52%|█████▏    | 160/305 [03:06<02:32,  1.05s/it]"
          ]
        },
        {
          "output_type": "stream",
          "name": "stdout",
          "text": [
            "\n",
            "0: 704x1248 27 motos, 12 helmets, 7 no_helmets, 10 license_plates, 495.6ms\n",
            "Speed: 11.5ms preprocess, 495.6ms inference, 1.3ms postprocess per image at shape (1, 3, 704, 1248)\n"
          ]
        },
        {
          "output_type": "stream",
          "name": "stderr",
          "text": [
            "\r 53%|█████▎    | 161/305 [03:07<02:25,  1.01s/it]"
          ]
        },
        {
          "output_type": "stream",
          "name": "stdout",
          "text": [
            "\n",
            "0: 704x1248 12 motos, 7 helmets, 5 no_helmets, 9 license_plates, 456.5ms\n",
            "Speed: 11.0ms preprocess, 456.5ms inference, 1.2ms postprocess per image at shape (1, 3, 704, 1248)\n"
          ]
        },
        {
          "output_type": "stream",
          "name": "stderr",
          "text": [
            "\r 53%|█████▎    | 162/305 [03:08<02:18,  1.03it/s]"
          ]
        },
        {
          "output_type": "stream",
          "name": "stdout",
          "text": [
            "\n",
            "0: 704x1248 54 motos, 34 helmets, 14 no_helmets, 26 license_plates, 449.8ms\n",
            "Speed: 11.4ms preprocess, 449.8ms inference, 1.4ms postprocess per image at shape (1, 3, 704, 1248)\n"
          ]
        },
        {
          "output_type": "stream",
          "name": "stderr",
          "text": [
            "\r 53%|█████▎    | 163/305 [03:09<02:06,  1.12it/s]"
          ]
        },
        {
          "output_type": "stream",
          "name": "stdout",
          "text": [
            "\n",
            "0: 704x1248 12 motos, 10 helmets, 11 no_helmets, 7 license_plates, 450.5ms\n",
            "Speed: 15.7ms preprocess, 450.5ms inference, 1.2ms postprocess per image at shape (1, 3, 704, 1248)\n"
          ]
        },
        {
          "output_type": "stream",
          "name": "stderr",
          "text": [
            "\r 54%|█████▍    | 164/305 [03:10<02:03,  1.14it/s]"
          ]
        },
        {
          "output_type": "stream",
          "name": "stdout",
          "text": [
            "\n",
            "0: 704x1248 20 motos, 2 helmets, 6 no_helmets, 7 license_plates, 424.2ms\n",
            "Speed: 15.9ms preprocess, 424.2ms inference, 1.2ms postprocess per image at shape (1, 3, 704, 1248)\n"
          ]
        },
        {
          "output_type": "stream",
          "name": "stderr",
          "text": [
            "\r 54%|█████▍    | 165/305 [03:11<02:16,  1.03it/s]"
          ]
        },
        {
          "output_type": "stream",
          "name": "stdout",
          "text": [
            "\n",
            "0: 704x1248 24 motos, 18 helmets, 14 no_helmets, 6 license_plates, 696.0ms\n",
            "Speed: 15.0ms preprocess, 696.0ms inference, 1.7ms postprocess per image at shape (1, 3, 704, 1248)\n"
          ]
        },
        {
          "output_type": "stream",
          "name": "stderr",
          "text": [
            "\r 54%|█████▍    | 166/305 [03:12<02:21,  1.02s/it]"
          ]
        },
        {
          "output_type": "stream",
          "name": "stdout",
          "text": [
            "\n",
            "0: 704x1248 33 motos, 3 helmets, 11 no_helmets, 3 license_plates, 1123.0ms\n",
            "Speed: 29.3ms preprocess, 1123.0ms inference, 5.5ms postprocess per image at shape (1, 3, 704, 1248)\n"
          ]
        },
        {
          "output_type": "stream",
          "name": "stderr",
          "text": [
            "\r 55%|█████▍    | 167/305 [03:14<02:43,  1.19s/it]"
          ]
        },
        {
          "output_type": "stream",
          "name": "stdout",
          "text": [
            "\n",
            "0: 704x1248 18 motos, 2 helmets, 4 no_helmets, 6 license_plates, 923.3ms\n",
            "Speed: 16.7ms preprocess, 923.3ms inference, 1.6ms postprocess per image at shape (1, 3, 704, 1248)\n"
          ]
        },
        {
          "output_type": "stream",
          "name": "stderr",
          "text": [
            "\r 55%|█████▌    | 168/305 [03:15<02:45,  1.21s/it]"
          ]
        },
        {
          "output_type": "stream",
          "name": "stdout",
          "text": [
            "\n",
            "0: 704x1248 38 motos, 17 helmets, 13 no_helmets, 10 license_plates, 671.9ms\n",
            "Speed: 20.4ms preprocess, 671.9ms inference, 1.8ms postprocess per image at shape (1, 3, 704, 1248)\n"
          ]
        },
        {
          "output_type": "stream",
          "name": "stderr",
          "text": [
            "\r 55%|█████▌    | 169/305 [03:16<02:35,  1.15s/it]"
          ]
        },
        {
          "output_type": "stream",
          "name": "stdout",
          "text": [
            "\n",
            "0: 704x1248 30 motos, 14 helmets, 14 no_helmets, 5 license_plates, 458.7ms\n",
            "Speed: 10.9ms preprocess, 458.7ms inference, 1.3ms postprocess per image at shape (1, 3, 704, 1248)\n"
          ]
        },
        {
          "output_type": "stream",
          "name": "stderr",
          "text": [
            "\r 56%|█████▌    | 170/305 [03:17<02:21,  1.05s/it]"
          ]
        },
        {
          "output_type": "stream",
          "name": "stdout",
          "text": [
            "\n",
            "0: 704x1248 35 motos, 4 helmets, 2 no_helmets, 5 license_plates, 455.5ms\n",
            "Speed: 30.6ms preprocess, 455.5ms inference, 1.2ms postprocess per image at shape (1, 3, 704, 1248)\n"
          ]
        },
        {
          "output_type": "stream",
          "name": "stderr",
          "text": [
            "\r 56%|█████▌    | 171/305 [03:18<02:16,  1.02s/it]"
          ]
        },
        {
          "output_type": "stream",
          "name": "stdout",
          "text": [
            "\n",
            "0: 704x1248 7 motos, 4 helmets, 6 no_helmets, 5 license_plates, 491.7ms\n",
            "Speed: 13.8ms preprocess, 491.7ms inference, 1.3ms postprocess per image at shape (1, 3, 704, 1248)\n"
          ]
        },
        {
          "output_type": "stream",
          "name": "stderr",
          "text": [
            "\r 56%|█████▋    | 172/305 [03:18<02:05,  1.06it/s]"
          ]
        },
        {
          "output_type": "stream",
          "name": "stdout",
          "text": [
            "\n",
            "0: 704x1248 13 motos, 13 helmets, 5 no_helmets, 9 license_plates, 459.9ms\n",
            "Speed: 12.4ms preprocess, 459.9ms inference, 1.3ms postprocess per image at shape (1, 3, 704, 1248)\n"
          ]
        },
        {
          "output_type": "stream",
          "name": "stderr",
          "text": [
            "\r 57%|█████▋    | 173/305 [03:19<01:57,  1.12it/s]"
          ]
        },
        {
          "output_type": "stream",
          "name": "stdout",
          "text": [
            "\n",
            "0: 704x1248 22 motos, 4 helmets, 6 no_helmets, 3 license_plates, 438.0ms\n",
            "Speed: 11.5ms preprocess, 438.0ms inference, 1.3ms postprocess per image at shape (1, 3, 704, 1248)\n"
          ]
        },
        {
          "output_type": "stream",
          "name": "stderr",
          "text": [
            "\r 57%|█████▋    | 174/305 [03:20<01:53,  1.15it/s]"
          ]
        },
        {
          "output_type": "stream",
          "name": "stdout",
          "text": [
            "\n",
            "0: 704x1248 24 motos, 14 helmets, 16 no_helmets, 12 license_plates, 452.9ms\n",
            "Speed: 11.0ms preprocess, 452.9ms inference, 1.3ms postprocess per image at shape (1, 3, 704, 1248)\n"
          ]
        },
        {
          "output_type": "stream",
          "name": "stderr",
          "text": [
            "\r 57%|█████▋    | 175/305 [03:21<01:47,  1.21it/s]"
          ]
        },
        {
          "output_type": "stream",
          "name": "stdout",
          "text": [
            "\n",
            "0: 704x1248 13 motos, 5 helmets, 5 no_helmets, 5 license_plates, 461.1ms\n",
            "Speed: 13.1ms preprocess, 461.1ms inference, 1.8ms postprocess per image at shape (1, 3, 704, 1248)\n"
          ]
        },
        {
          "output_type": "stream",
          "name": "stderr",
          "text": [
            "\r 58%|█████▊    | 176/305 [03:22<02:03,  1.05it/s]"
          ]
        },
        {
          "output_type": "stream",
          "name": "stdout",
          "text": [
            "\n",
            "0: 704x1248 15 motos, 3 helmets, 8 no_helmets, 9 license_plates, 567.7ms\n",
            "Speed: 15.0ms preprocess, 567.7ms inference, 1.8ms postprocess per image at shape (1, 3, 704, 1248)\n"
          ]
        },
        {
          "output_type": "stream",
          "name": "stderr",
          "text": [
            "\r 58%|█████▊    | 177/305 [03:23<01:58,  1.08it/s]"
          ]
        },
        {
          "output_type": "stream",
          "name": "stdout",
          "text": [
            "\n",
            "0: 704x1248 16 motos, 3 helmets, 5 no_helmets, 4 license_plates, 731.1ms\n",
            "Speed: 18.7ms preprocess, 731.1ms inference, 1.9ms postprocess per image at shape (1, 3, 704, 1248)\n"
          ]
        },
        {
          "output_type": "stream",
          "name": "stderr",
          "text": [
            "\r 58%|█████▊    | 178/305 [03:24<02:08,  1.01s/it]"
          ]
        },
        {
          "output_type": "stream",
          "name": "stdout",
          "text": [
            "\n",
            "0: 704x1248 27 motos, 13 helmets, 17 no_helmets, 14 license_plates, 663.8ms\n",
            "Speed: 15.1ms preprocess, 663.8ms inference, 1.5ms postprocess per image at shape (1, 3, 704, 1248)\n"
          ]
        },
        {
          "output_type": "stream",
          "name": "stderr",
          "text": [
            "\r 59%|█████▊    | 179/305 [03:25<02:04,  1.01it/s]"
          ]
        },
        {
          "output_type": "stream",
          "name": "stdout",
          "text": [
            "\n",
            "0: 704x1248 36 motos, 33 helmets, 22 no_helmets, 33 license_plates, 468.5ms\n",
            "Speed: 11.8ms preprocess, 468.5ms inference, 1.5ms postprocess per image at shape (1, 3, 704, 1248)\n"
          ]
        },
        {
          "output_type": "stream",
          "name": "stderr",
          "text": [
            "\r 59%|█████▉    | 180/305 [03:26<02:00,  1.03it/s]"
          ]
        },
        {
          "output_type": "stream",
          "name": "stdout",
          "text": [
            "\n",
            "0: 704x1248 15 motos, 13 helmets, 11 no_helmets, 13 license_plates, 688.1ms\n",
            "Speed: 18.6ms preprocess, 688.1ms inference, 1.8ms postprocess per image at shape (1, 3, 704, 1248)\n"
          ]
        },
        {
          "output_type": "stream",
          "name": "stderr",
          "text": [
            "\r 59%|█████▉    | 181/305 [03:29<03:12,  1.55s/it]"
          ]
        },
        {
          "output_type": "stream",
          "name": "stdout",
          "text": [
            "\n",
            "0: 704x1248 37 motos, 33 helmets, 38 no_helmets, 12 license_plates, 442.2ms\n",
            "Speed: 11.3ms preprocess, 442.2ms inference, 1.5ms postprocess per image at shape (1, 3, 704, 1248)\n"
          ]
        },
        {
          "output_type": "stream",
          "name": "stderr",
          "text": [
            "\r 60%|█████▉    | 182/305 [03:30<02:42,  1.32s/it]"
          ]
        },
        {
          "output_type": "stream",
          "name": "stdout",
          "text": [
            "\n",
            "0: 704x1248 26 motos, 14 helmets, 13 no_helmets, 11 license_plates, 459.3ms\n",
            "Speed: 22.2ms preprocess, 459.3ms inference, 1.3ms postprocess per image at shape (1, 3, 704, 1248)\n"
          ]
        },
        {
          "output_type": "stream",
          "name": "stderr",
          "text": [
            "\r 60%|██████    | 183/305 [03:30<02:23,  1.17s/it]"
          ]
        },
        {
          "output_type": "stream",
          "name": "stdout",
          "text": [
            "\n",
            "0: 704x1248 7 motos, 6 helmets, 5 no_helmets, 2 license_plates, 431.1ms\n",
            "Speed: 15.2ms preprocess, 431.1ms inference, 1.1ms postprocess per image at shape (1, 3, 704, 1248)\n"
          ]
        },
        {
          "output_type": "stream",
          "name": "stderr",
          "text": [
            "\r 60%|██████    | 184/305 [03:31<02:09,  1.07s/it]"
          ]
        },
        {
          "output_type": "stream",
          "name": "stdout",
          "text": [
            "\n",
            "0: 704x1248 32 motos, 16 helmets, 9 no_helmets, 10 license_plates, 454.2ms\n",
            "Speed: 18.6ms preprocess, 454.2ms inference, 1.4ms postprocess per image at shape (1, 3, 704, 1248)\n"
          ]
        },
        {
          "output_type": "stream",
          "name": "stderr",
          "text": [
            "\r 61%|██████    | 185/305 [03:32<02:01,  1.01s/it]"
          ]
        },
        {
          "output_type": "stream",
          "name": "stdout",
          "text": [
            "\n",
            "0: 704x1248 20 motos, 9 helmets, 13 no_helmets, 14 license_plates, 577.9ms\n",
            "Speed: 9.8ms preprocess, 577.9ms inference, 4.8ms postprocess per image at shape (1, 3, 704, 1248)\n"
          ]
        },
        {
          "output_type": "stream",
          "name": "stderr",
          "text": [
            "\r 61%|██████    | 186/305 [03:33<01:56,  1.02it/s]"
          ]
        },
        {
          "output_type": "stream",
          "name": "stdout",
          "text": [
            "\n",
            "0: 704x1248 11 motos, 5 helmets, 9 no_helmets, 5 license_plates, 761.1ms\n",
            "Speed: 14.1ms preprocess, 761.1ms inference, 1.9ms postprocess per image at shape (1, 3, 704, 1248)\n"
          ]
        },
        {
          "output_type": "stream",
          "name": "stderr",
          "text": [
            "\r 61%|██████▏   | 187/305 [03:34<02:01,  1.03s/it]"
          ]
        },
        {
          "output_type": "stream",
          "name": "stdout",
          "text": [
            "\n",
            "0: 704x1248 15 motos, 4 helmets, 13 no_helmets, 4 license_plates, 584.7ms\n",
            "Speed: 20.4ms preprocess, 584.7ms inference, 1.3ms postprocess per image at shape (1, 3, 704, 1248)\n"
          ]
        },
        {
          "output_type": "stream",
          "name": "stderr",
          "text": [
            "\r 62%|██████▏   | 188/305 [03:35<01:55,  1.01it/s]"
          ]
        },
        {
          "output_type": "stream",
          "name": "stdout",
          "text": [
            "\n",
            "0: 704x1248 16 motos, 9 helmets, 8 no_helmets, 9 license_plates, 457.6ms\n",
            "Speed: 11.2ms preprocess, 457.6ms inference, 1.2ms postprocess per image at shape (1, 3, 704, 1248)\n"
          ]
        },
        {
          "output_type": "stream",
          "name": "stderr",
          "text": [
            "\r 62%|██████▏   | 189/305 [03:36<01:45,  1.10it/s]"
          ]
        },
        {
          "output_type": "stream",
          "name": "stdout",
          "text": [
            "\n",
            "0: 704x1248 10 motos, 6 helmets, 5 no_helmets, 4 license_plates, 431.6ms\n",
            "Speed: 11.7ms preprocess, 431.6ms inference, 1.4ms postprocess per image at shape (1, 3, 704, 1248)\n"
          ]
        },
        {
          "output_type": "stream",
          "name": "stderr",
          "text": [
            "\r 62%|██████▏   | 190/305 [03:37<01:46,  1.08it/s]"
          ]
        },
        {
          "output_type": "stream",
          "name": "stdout",
          "text": [
            "\n",
            "0: 704x1248 34 motos, 5 helmets, 21 no_helmets, 8 license_plates, 469.1ms\n",
            "Speed: 19.0ms preprocess, 469.1ms inference, 1.4ms postprocess per image at shape (1, 3, 704, 1248)\n"
          ]
        },
        {
          "output_type": "stream",
          "name": "stderr",
          "text": [
            "\r 63%|██████▎   | 191/305 [03:38<01:42,  1.11it/s]"
          ]
        },
        {
          "output_type": "stream",
          "name": "stdout",
          "text": [
            "\n",
            "0: 704x1248 30 motos, 5 helmets, 19 no_helmets, 7 license_plates, 448.0ms\n",
            "Speed: 13.7ms preprocess, 448.0ms inference, 1.4ms postprocess per image at shape (1, 3, 704, 1248)\n"
          ]
        },
        {
          "output_type": "stream",
          "name": "stderr",
          "text": [
            "\r 63%|██████▎   | 192/305 [03:38<01:39,  1.14it/s]"
          ]
        },
        {
          "output_type": "stream",
          "name": "stdout",
          "text": [
            "\n",
            "0: 704x1248 5 motos, 1 helmet, 1 no_helmet, 4 license_plates, 570.6ms\n",
            "Speed: 17.1ms preprocess, 570.6ms inference, 1.5ms postprocess per image at shape (1, 3, 704, 1248)\n"
          ]
        },
        {
          "output_type": "stream",
          "name": "stderr",
          "text": [
            "\r 63%|██████▎   | 193/305 [03:39<01:40,  1.12it/s]"
          ]
        },
        {
          "output_type": "stream",
          "name": "stdout",
          "text": [
            "\n",
            "0: 704x1248 30 motos, 22 helmets, 18 no_helmets, 22 license_plates, 674.9ms\n",
            "Speed: 17.9ms preprocess, 674.9ms inference, 1.7ms postprocess per image at shape (1, 3, 704, 1248)\n"
          ]
        },
        {
          "output_type": "stream",
          "name": "stderr",
          "text": [
            "\r 64%|██████▎   | 194/305 [03:40<01:42,  1.09it/s]"
          ]
        },
        {
          "output_type": "stream",
          "name": "stdout",
          "text": [
            "\n",
            "0: 704x1248 28 motos, 13 helmets, 11 no_helmets, 18 license_plates, 656.6ms\n",
            "Speed: 29.1ms preprocess, 656.6ms inference, 1.6ms postprocess per image at shape (1, 3, 704, 1248)\n"
          ]
        },
        {
          "output_type": "stream",
          "name": "stderr",
          "text": [
            "\r 64%|██████▍   | 195/305 [03:41<01:45,  1.04it/s]"
          ]
        },
        {
          "output_type": "stream",
          "name": "stdout",
          "text": [
            "\n",
            "0: 704x1248 28 motos, 13 helmets, 10 no_helmets, 9 license_plates, 667.7ms\n",
            "Speed: 16.7ms preprocess, 667.7ms inference, 2.0ms postprocess per image at shape (1, 3, 704, 1248)\n"
          ]
        },
        {
          "output_type": "stream",
          "name": "stderr",
          "text": [
            "\r 64%|██████▍   | 196/305 [03:42<01:45,  1.03it/s]"
          ]
        },
        {
          "output_type": "stream",
          "name": "stdout",
          "text": [
            "\n",
            "0: 704x1248 27 motos, 10 helmets, 4 no_helmets, 6 license_plates, 502.8ms\n",
            "Speed: 20.4ms preprocess, 502.8ms inference, 2.0ms postprocess per image at shape (1, 3, 704, 1248)\n"
          ]
        },
        {
          "output_type": "stream",
          "name": "stderr",
          "text": [
            "\r 65%|██████▍   | 197/305 [03:43<01:42,  1.05it/s]"
          ]
        },
        {
          "output_type": "stream",
          "name": "stdout",
          "text": [
            "\n",
            "0: 704x1248 73 motos, 34 helmets, 18 no_helmets, 14 license_plates, 696.8ms\n",
            "Speed: 14.5ms preprocess, 696.8ms inference, 2.4ms postprocess per image at shape (1, 3, 704, 1248)\n"
          ]
        },
        {
          "output_type": "stream",
          "name": "stderr",
          "text": [
            "\r 65%|██████▍   | 198/305 [03:44<01:44,  1.02it/s]"
          ]
        },
        {
          "output_type": "stream",
          "name": "stdout",
          "text": [
            "\n",
            "0: 704x1248 59 motos, 24 helmets, 9 no_helmets, 18 license_plates, 620.5ms\n",
            "Speed: 23.2ms preprocess, 620.5ms inference, 1.4ms postprocess per image at shape (1, 3, 704, 1248)\n"
          ]
        },
        {
          "output_type": "stream",
          "name": "stderr",
          "text": [
            "\r 65%|██████▌   | 199/305 [03:45<01:41,  1.04it/s]"
          ]
        },
        {
          "output_type": "stream",
          "name": "stdout",
          "text": [
            "\n",
            "0: 704x1248 38 motos, 14 helmets, 17 no_helmets, 7 license_plates, 455.1ms\n",
            "Speed: 19.0ms preprocess, 455.1ms inference, 1.4ms postprocess per image at shape (1, 3, 704, 1248)\n"
          ]
        },
        {
          "output_type": "stream",
          "name": "stderr",
          "text": [
            "\r 66%|██████▌   | 200/305 [03:46<01:39,  1.05it/s]"
          ]
        },
        {
          "output_type": "stream",
          "name": "stdout",
          "text": [
            "\n",
            "0: 704x1248 46 motos, 4 helmets, 11 no_helmets, 7 license_plates, 481.3ms\n",
            "Speed: 19.2ms preprocess, 481.3ms inference, 1.2ms postprocess per image at shape (1, 3, 704, 1248)\n"
          ]
        },
        {
          "output_type": "stream",
          "name": "stderr",
          "text": [
            "\r 66%|██████▌   | 201/305 [03:47<01:32,  1.12it/s]"
          ]
        },
        {
          "output_type": "stream",
          "name": "stdout",
          "text": [
            "\n",
            "0: 704x1248 39 motos, 6 helmets, 6 no_helmets, 5 license_plates, 499.8ms\n",
            "Speed: 24.4ms preprocess, 499.8ms inference, 1.3ms postprocess per image at shape (1, 3, 704, 1248)\n"
          ]
        },
        {
          "output_type": "stream",
          "name": "stderr",
          "text": [
            "\r 66%|██████▌   | 202/305 [03:48<01:28,  1.16it/s]"
          ]
        },
        {
          "output_type": "stream",
          "name": "stdout",
          "text": [
            "\n",
            "0: 704x1248 65 motos, 14 helmets, 8 no_helmets, 11 license_plates, 491.1ms\n",
            "Speed: 12.9ms preprocess, 491.1ms inference, 3.7ms postprocess per image at shape (1, 3, 704, 1248)\n"
          ]
        },
        {
          "output_type": "stream",
          "name": "stderr",
          "text": [
            "\r 67%|██████▋   | 203/305 [03:49<01:27,  1.16it/s]"
          ]
        },
        {
          "output_type": "stream",
          "name": "stdout",
          "text": [
            "\n",
            "0: 704x1248 38 motos, 16 helmets, 29 no_helmets, 17 license_plates, 450.2ms\n",
            "Speed: 15.9ms preprocess, 450.2ms inference, 1.3ms postprocess per image at shape (1, 3, 704, 1248)\n"
          ]
        },
        {
          "output_type": "stream",
          "name": "stderr",
          "text": [
            "\r 67%|██████▋   | 204/305 [03:49<01:24,  1.19it/s]"
          ]
        },
        {
          "output_type": "stream",
          "name": "stdout",
          "text": [
            "\n",
            "0: 704x1248 27 motos, 19 helmets, 22 no_helmets, 16 license_plates, 454.8ms\n",
            "Speed: 18.6ms preprocess, 454.8ms inference, 1.4ms postprocess per image at shape (1, 3, 704, 1248)\n"
          ]
        },
        {
          "output_type": "stream",
          "name": "stderr",
          "text": [
            "\r 67%|██████▋   | 205/305 [03:50<01:21,  1.23it/s]"
          ]
        },
        {
          "output_type": "stream",
          "name": "stdout",
          "text": [
            "\n",
            "0: 704x1248 27 motos, 42 helmets, 21 no_helmets, 13 license_plates, 451.0ms\n",
            "Speed: 11.5ms preprocess, 451.0ms inference, 1.2ms postprocess per image at shape (1, 3, 704, 1248)\n"
          ]
        },
        {
          "output_type": "stream",
          "name": "stderr",
          "text": [
            "\r 68%|██████▊   | 206/305 [03:51<01:21,  1.22it/s]"
          ]
        },
        {
          "output_type": "stream",
          "name": "stdout",
          "text": [
            "\n",
            "0: 704x1248 40 motos, 12 helmets, 13 no_helmets, 14 license_plates, 452.4ms\n",
            "Speed: 10.9ms preprocess, 452.4ms inference, 1.3ms postprocess per image at shape (1, 3, 704, 1248)\n"
          ]
        },
        {
          "output_type": "stream",
          "name": "stderr",
          "text": [
            "\r 68%|██████▊   | 207/305 [03:52<01:17,  1.26it/s]"
          ]
        },
        {
          "output_type": "stream",
          "name": "stdout",
          "text": [
            "\n",
            "0: 704x1248 26 motos, 5 helmets, 13 no_helmets, 10 license_plates, 449.0ms\n",
            "Speed: 15.2ms preprocess, 449.0ms inference, 1.1ms postprocess per image at shape (1, 3, 704, 1248)\n"
          ]
        },
        {
          "output_type": "stream",
          "name": "stderr",
          "text": [
            "\r 68%|██████▊   | 208/305 [03:52<01:14,  1.30it/s]"
          ]
        },
        {
          "output_type": "stream",
          "name": "stdout",
          "text": [
            "\n",
            "0: 704x1248 20 motos, 15 helmets, 24 no_helmets, 14 license_plates, 677.4ms\n",
            "Speed: 20.5ms preprocess, 677.4ms inference, 1.8ms postprocess per image at shape (1, 3, 704, 1248)\n"
          ]
        },
        {
          "output_type": "stream",
          "name": "stderr",
          "text": [
            "\r 69%|██████▊   | 209/305 [03:53<01:20,  1.19it/s]"
          ]
        },
        {
          "output_type": "stream",
          "name": "stdout",
          "text": [
            "\n",
            "0: 704x1248 30 motos, 19 helmets, 10 no_helmets, 7 license_plates, 930.2ms\n",
            "Speed: 20.8ms preprocess, 930.2ms inference, 4.0ms postprocess per image at shape (1, 3, 704, 1248)\n"
          ]
        },
        {
          "output_type": "stream",
          "name": "stderr",
          "text": [
            "\r 69%|██████▉   | 210/305 [03:55<01:36,  1.01s/it]"
          ]
        },
        {
          "output_type": "stream",
          "name": "stdout",
          "text": [
            "\n",
            "0: 704x1248 44 motos, 22 helmets, 38 no_helmets, 10 license_plates, 1036.1ms\n",
            "Speed: 31.2ms preprocess, 1036.1ms inference, 2.4ms postprocess per image at shape (1, 3, 704, 1248)\n"
          ]
        },
        {
          "output_type": "stream",
          "name": "stderr",
          "text": [
            "\r 69%|██████▉   | 211/305 [03:56<01:45,  1.12s/it]"
          ]
        },
        {
          "output_type": "stream",
          "name": "stdout",
          "text": [
            "\n",
            "0: 704x1248 59 motos, 19 helmets, 16 no_helmets, 19 license_plates, 683.7ms\n",
            "Speed: 14.9ms preprocess, 683.7ms inference, 2.2ms postprocess per image at shape (1, 3, 704, 1248)\n"
          ]
        },
        {
          "output_type": "stream",
          "name": "stderr",
          "text": [
            "\r 70%|██████▉   | 212/305 [03:57<01:39,  1.07s/it]"
          ]
        },
        {
          "output_type": "stream",
          "name": "stdout",
          "text": [
            "\n",
            "0: 704x1248 22 motos, 11 helmets, 7 no_helmets, 5 license_plates, 598.6ms\n",
            "Speed: 15.0ms preprocess, 598.6ms inference, 1.8ms postprocess per image at shape (1, 3, 704, 1248)\n"
          ]
        },
        {
          "output_type": "stream",
          "name": "stderr",
          "text": [
            "\r 70%|██████▉   | 213/305 [03:58<01:38,  1.07s/it]"
          ]
        },
        {
          "output_type": "stream",
          "name": "stdout",
          "text": [
            "\n",
            "0: 704x1248 25 motos, 21 helmets, 10 no_helmets, 10 license_plates, 443.7ms\n",
            "Speed: 15.4ms preprocess, 443.7ms inference, 1.2ms postprocess per image at shape (1, 3, 704, 1248)\n"
          ]
        },
        {
          "output_type": "stream",
          "name": "stderr",
          "text": [
            "\r 70%|███████   | 214/305 [03:59<01:30,  1.00it/s]"
          ]
        },
        {
          "output_type": "stream",
          "name": "stdout",
          "text": [
            "\n",
            "0: 704x1248 60 motos, 45 helmets, 11 no_helmets, 24 license_plates, 425.1ms\n",
            "Speed: 14.8ms preprocess, 425.1ms inference, 1.5ms postprocess per image at shape (1, 3, 704, 1248)\n"
          ]
        },
        {
          "output_type": "stream",
          "name": "stderr",
          "text": [
            "\r 70%|███████   | 215/305 [04:00<01:24,  1.07it/s]"
          ]
        },
        {
          "output_type": "stream",
          "name": "stdout",
          "text": [
            "\n",
            "0: 704x1248 59 motos, 22 helmets, 16 no_helmets, 21 license_plates, 456.2ms\n",
            "Speed: 17.9ms preprocess, 456.2ms inference, 1.5ms postprocess per image at shape (1, 3, 704, 1248)\n"
          ]
        },
        {
          "output_type": "stream",
          "name": "stderr",
          "text": [
            "\r 71%|███████   | 216/305 [04:01<01:21,  1.10it/s]"
          ]
        },
        {
          "output_type": "stream",
          "name": "stdout",
          "text": [
            "\n",
            "0: 704x1248 32 motos, 16 helmets, 14 no_helmets, 17 license_plates, 441.6ms\n",
            "Speed: 12.6ms preprocess, 441.6ms inference, 1.4ms postprocess per image at shape (1, 3, 704, 1248)\n"
          ]
        },
        {
          "output_type": "stream",
          "name": "stderr",
          "text": [
            "\r 71%|███████   | 217/305 [04:02<01:20,  1.09it/s]"
          ]
        },
        {
          "output_type": "stream",
          "name": "stdout",
          "text": [
            "\n",
            "0: 704x1248 28 motos, 9 helmets, 14 no_helmets, 10 license_plates, 464.2ms\n",
            "Speed: 15.8ms preprocess, 464.2ms inference, 1.2ms postprocess per image at shape (1, 3, 704, 1248)\n"
          ]
        },
        {
          "output_type": "stream",
          "name": "stderr",
          "text": [
            "\r 71%|███████▏  | 218/305 [04:02<01:16,  1.14it/s]"
          ]
        },
        {
          "output_type": "stream",
          "name": "stdout",
          "text": [
            "\n",
            "0: 704x1248 12 motos, 14 helmets, 12 no_helmets, 8 license_plates, 443.8ms\n",
            "Speed: 12.4ms preprocess, 443.8ms inference, 1.4ms postprocess per image at shape (1, 3, 704, 1248)\n"
          ]
        },
        {
          "output_type": "stream",
          "name": "stderr",
          "text": [
            "\r 72%|███████▏  | 219/305 [04:03<01:12,  1.18it/s]"
          ]
        },
        {
          "output_type": "stream",
          "name": "stdout",
          "text": [
            "\n",
            "0: 704x1248 14 motos, 9 helmets, 17 no_helmets, 5 license_plates, 632.1ms\n",
            "Speed: 15.8ms preprocess, 632.1ms inference, 1.2ms postprocess per image at shape (1, 3, 704, 1248)\n"
          ]
        },
        {
          "output_type": "stream",
          "name": "stderr",
          "text": [
            "\r 72%|███████▏  | 220/305 [04:06<02:05,  1.48s/it]"
          ]
        },
        {
          "output_type": "stream",
          "name": "stdout",
          "text": [
            "\n",
            "0: 704x1248 20 motos, 30 helmets, 9 no_helmets, 17 license_plates, 437.1ms\n",
            "Speed: 11.0ms preprocess, 437.1ms inference, 1.3ms postprocess per image at shape (1, 3, 704, 1248)\n"
          ]
        },
        {
          "output_type": "stream",
          "name": "stderr",
          "text": [
            "\r 72%|███████▏  | 221/305 [04:07<01:44,  1.24s/it]"
          ]
        },
        {
          "output_type": "stream",
          "name": "stdout",
          "text": [
            "\n",
            "0: 704x1248 7 motos, 6 helmets, 4 no_helmets, 5 license_plates, 440.4ms\n",
            "Speed: 11.1ms preprocess, 440.4ms inference, 1.3ms postprocess per image at shape (1, 3, 704, 1248)\n"
          ]
        },
        {
          "output_type": "stream",
          "name": "stderr",
          "text": [
            "\r 73%|███████▎  | 222/305 [04:08<01:35,  1.15s/it]"
          ]
        },
        {
          "output_type": "stream",
          "name": "stdout",
          "text": [
            "\n",
            "0: 704x1248 9 motos, 11 helmets, 7 no_helmets, 3 license_plates, 745.4ms\n",
            "Speed: 15.1ms preprocess, 745.4ms inference, 2.8ms postprocess per image at shape (1, 3, 704, 1248)\n"
          ]
        },
        {
          "output_type": "stream",
          "name": "stderr",
          "text": [
            "\r 73%|███████▎  | 223/305 [04:09<01:36,  1.17s/it]"
          ]
        },
        {
          "output_type": "stream",
          "name": "stdout",
          "text": [
            "\n",
            "0: 704x1248 27 motos, 34 helmets, 16 no_helmets, 33 license_plates, 670.2ms\n",
            "Speed: 19.2ms preprocess, 670.2ms inference, 2.0ms postprocess per image at shape (1, 3, 704, 1248)\n"
          ]
        },
        {
          "output_type": "stream",
          "name": "stderr",
          "text": [
            "\r 73%|███████▎  | 224/305 [04:10<01:30,  1.11s/it]"
          ]
        },
        {
          "output_type": "stream",
          "name": "stdout",
          "text": [
            "\n",
            "0: 704x1248 24 motos, 20 helmets, 14 no_helmets, 17 license_plates, 695.4ms\n",
            "Speed: 13.1ms preprocess, 695.4ms inference, 1.8ms postprocess per image at shape (1, 3, 704, 1248)\n"
          ]
        },
        {
          "output_type": "stream",
          "name": "stderr",
          "text": [
            "\r 74%|███████▍  | 225/305 [04:11<01:27,  1.10s/it]"
          ]
        },
        {
          "output_type": "stream",
          "name": "stdout",
          "text": [
            "\n",
            "0: 704x1248 16 motos, 17 helmets, 10 no_helmets, 9 license_plates, 461.6ms\n",
            "Speed: 15.3ms preprocess, 461.6ms inference, 1.3ms postprocess per image at shape (1, 3, 704, 1248)\n"
          ]
        },
        {
          "output_type": "stream",
          "name": "stderr",
          "text": [
            "\r 74%|███████▍  | 226/305 [04:14<02:11,  1.67s/it]"
          ]
        },
        {
          "output_type": "stream",
          "name": "stdout",
          "text": [
            "\n",
            "0: 704x1248 21 motos, 19 helmets, 12 no_helmets, 13 license_plates, 753.6ms\n",
            "Speed: 21.4ms preprocess, 753.6ms inference, 2.1ms postprocess per image at shape (1, 3, 704, 1248)\n"
          ]
        },
        {
          "output_type": "stream",
          "name": "stderr",
          "text": [
            "\r 74%|███████▍  | 227/305 [04:15<01:56,  1.49s/it]"
          ]
        },
        {
          "output_type": "stream",
          "name": "stdout",
          "text": [
            "\n",
            "0: 704x1248 12 motos, 2 helmets, 2 no_helmets, 4 license_plates, 879.2ms\n",
            "Speed: 18.6ms preprocess, 879.2ms inference, 1.9ms postprocess per image at shape (1, 3, 704, 1248)\n"
          ]
        },
        {
          "output_type": "stream",
          "name": "stderr",
          "text": [
            "\r 75%|███████▍  | 228/305 [04:17<01:51,  1.45s/it]"
          ]
        },
        {
          "output_type": "stream",
          "name": "stdout",
          "text": [
            "\n",
            "0: 704x1248 41 motos, 31 helmets, 10 no_helmets, 27 license_plates, 609.7ms\n",
            "Speed: 48.1ms preprocess, 609.7ms inference, 1.7ms postprocess per image at shape (1, 3, 704, 1248)\n"
          ]
        },
        {
          "output_type": "stream",
          "name": "stderr",
          "text": [
            "\r 75%|███████▌  | 229/305 [04:18<01:39,  1.31s/it]"
          ]
        },
        {
          "output_type": "stream",
          "name": "stdout",
          "text": [
            "\n",
            "0: 704x1248 25 motos, 10 helmets, 14 no_helmets, 13 license_plates, 807.9ms\n",
            "Speed: 41.5ms preprocess, 807.9ms inference, 6.9ms postprocess per image at shape (1, 3, 704, 1248)\n"
          ]
        },
        {
          "output_type": "stream",
          "name": "stderr",
          "text": [
            "\r 75%|███████▌  | 230/305 [04:19<01:35,  1.27s/it]"
          ]
        },
        {
          "output_type": "stream",
          "name": "stdout",
          "text": [
            "\n",
            "0: 704x1248 29 motos, 14 helmets, 12 no_helmets, 9 license_plates, 745.5ms\n",
            "Speed: 11.7ms preprocess, 745.5ms inference, 6.8ms postprocess per image at shape (1, 3, 704, 1248)\n"
          ]
        },
        {
          "output_type": "stream",
          "name": "stderr",
          "text": [
            "\r 76%|███████▌  | 231/305 [04:20<01:29,  1.21s/it]"
          ]
        },
        {
          "output_type": "stream",
          "name": "stdout",
          "text": [
            "\n",
            "0: 704x1248 6 motos, 2 helmets, 2 no_helmets, 1 license_plate, 759.4ms\n",
            "Speed: 14.7ms preprocess, 759.4ms inference, 1.4ms postprocess per image at shape (1, 3, 704, 1248)\n"
          ]
        },
        {
          "output_type": "stream",
          "name": "stderr",
          "text": [
            "\r 76%|███████▌  | 232/305 [04:21<01:24,  1.16s/it]"
          ]
        },
        {
          "output_type": "stream",
          "name": "stdout",
          "text": [
            "\n",
            "0: 704x1248 16 motos, 24 helmets, 14 no_helmets, 12 license_plates, 820.0ms\n",
            "Speed: 32.6ms preprocess, 820.0ms inference, 8.1ms postprocess per image at shape (1, 3, 704, 1248)\n"
          ]
        },
        {
          "output_type": "stream",
          "name": "stderr",
          "text": [
            "\r 76%|███████▋  | 233/305 [04:22<01:24,  1.17s/it]"
          ]
        },
        {
          "output_type": "stream",
          "name": "stdout",
          "text": [
            "\n",
            "0: 704x1248 30 motos, 19 helmets, 14 no_helmets, 9 license_plates, 993.8ms\n",
            "Speed: 19.2ms preprocess, 993.8ms inference, 2.4ms postprocess per image at shape (1, 3, 704, 1248)\n"
          ]
        },
        {
          "output_type": "stream",
          "name": "stderr",
          "text": [
            "\r 77%|███████▋  | 234/305 [04:25<02:10,  1.84s/it]"
          ]
        },
        {
          "output_type": "stream",
          "name": "stdout",
          "text": [
            "\n",
            "0: 704x1248 39 motos, 24 helmets, 13 no_helmets, 5 license_plates, 1060.5ms\n",
            "Speed: 25.1ms preprocess, 1060.5ms inference, 2.2ms postprocess per image at shape (1, 3, 704, 1248)\n"
          ]
        },
        {
          "output_type": "stream",
          "name": "stderr",
          "text": [
            "\r 77%|███████▋  | 235/305 [04:27<01:59,  1.70s/it]"
          ]
        },
        {
          "output_type": "stream",
          "name": "stdout",
          "text": [
            "\n",
            "0: 704x1248 8 motos, 5 helmets, 7 no_helmets, 5 license_plates, 522.8ms\n",
            "Speed: 29.1ms preprocess, 522.8ms inference, 1.2ms postprocess per image at shape (1, 3, 704, 1248)\n"
          ]
        },
        {
          "output_type": "stream",
          "name": "stderr",
          "text": [
            "\r 77%|███████▋  | 236/305 [04:28<01:39,  1.44s/it]"
          ]
        },
        {
          "output_type": "stream",
          "name": "stdout",
          "text": [
            "\n",
            "0: 704x1248 21 motos, 15 helmets, 8 no_helmets, 7 license_plates, 438.2ms\n",
            "Speed: 17.1ms preprocess, 438.2ms inference, 1.4ms postprocess per image at shape (1, 3, 704, 1248)\n"
          ]
        },
        {
          "output_type": "stream",
          "name": "stderr",
          "text": [
            "\r 78%|███████▊  | 237/305 [04:28<01:22,  1.21s/it]"
          ]
        },
        {
          "output_type": "stream",
          "name": "stdout",
          "text": [
            "\n",
            "0: 704x1248 32 motos, 12 helmets, 19 no_helmets, 13 license_plates, 441.2ms\n",
            "Speed: 15.9ms preprocess, 441.2ms inference, 1.4ms postprocess per image at shape (1, 3, 704, 1248)\n"
          ]
        },
        {
          "output_type": "stream",
          "name": "stderr",
          "text": [
            "\r 78%|███████▊  | 238/305 [04:29<01:10,  1.06s/it]"
          ]
        },
        {
          "output_type": "stream",
          "name": "stdout",
          "text": [
            "\n",
            "0: 704x1248 14 motos, 14 helmets, 9 no_helmets, 16 license_plates, 462.4ms\n",
            "Speed: 13.1ms preprocess, 462.4ms inference, 1.5ms postprocess per image at shape (1, 3, 704, 1248)\n"
          ]
        },
        {
          "output_type": "stream",
          "name": "stderr",
          "text": [
            "\r 78%|███████▊  | 239/305 [04:30<01:04,  1.03it/s]"
          ]
        },
        {
          "output_type": "stream",
          "name": "stdout",
          "text": [
            "\n",
            "0: 704x1248 31 motos, 15 helmets, 7 no_helmets, 7 license_plates, 475.3ms\n",
            "Speed: 20.0ms preprocess, 475.3ms inference, 1.3ms postprocess per image at shape (1, 3, 704, 1248)\n"
          ]
        },
        {
          "output_type": "stream",
          "name": "stderr",
          "text": [
            "\r 79%|███████▊  | 240/305 [04:31<01:02,  1.04it/s]"
          ]
        },
        {
          "output_type": "stream",
          "name": "stdout",
          "text": [
            "\n",
            "0: 704x1248 18 motos, 14 helmets, 13 no_helmets, 15 license_plates, 451.0ms\n",
            "Speed: 11.6ms preprocess, 451.0ms inference, 1.4ms postprocess per image at shape (1, 3, 704, 1248)\n"
          ]
        },
        {
          "output_type": "stream",
          "name": "stderr",
          "text": [
            "\r 79%|███████▉  | 241/305 [04:32<00:58,  1.09it/s]"
          ]
        },
        {
          "output_type": "stream",
          "name": "stdout",
          "text": [
            "\n",
            "0: 704x1248 45 motos, 21 helmets, 7 no_helmets, 23 license_plates, 442.8ms\n",
            "Speed: 12.4ms preprocess, 442.8ms inference, 1.4ms postprocess per image at shape (1, 3, 704, 1248)\n"
          ]
        },
        {
          "output_type": "stream",
          "name": "stderr",
          "text": [
            "\r 79%|███████▉  | 242/305 [04:32<00:54,  1.16it/s]"
          ]
        },
        {
          "output_type": "stream",
          "name": "stdout",
          "text": [
            "\n",
            "0: 704x1248 22 motos, 12 helmets, 3 no_helmets, 14 license_plates, 442.3ms\n",
            "Speed: 10.9ms preprocess, 442.3ms inference, 1.4ms postprocess per image at shape (1, 3, 704, 1248)\n"
          ]
        },
        {
          "output_type": "stream",
          "name": "stderr",
          "text": [
            "\r 80%|███████▉  | 243/305 [04:33<00:50,  1.22it/s]"
          ]
        },
        {
          "output_type": "stream",
          "name": "stdout",
          "text": [
            "\n",
            "0: 704x1248 26 motos, 12 helmets, 9 no_helmets, 8 license_plates, 456.3ms\n",
            "Speed: 12.3ms preprocess, 456.3ms inference, 1.6ms postprocess per image at shape (1, 3, 704, 1248)\n"
          ]
        },
        {
          "output_type": "stream",
          "name": "stderr",
          "text": [
            "\r 80%|████████  | 244/305 [04:34<00:48,  1.26it/s]"
          ]
        },
        {
          "output_type": "stream",
          "name": "stdout",
          "text": [
            "\n",
            "0: 704x1248 13 motos, 19 helmets, 1 no_helmet, 9 license_plates, 738.3ms\n",
            "Speed: 13.7ms preprocess, 738.3ms inference, 2.7ms postprocess per image at shape (1, 3, 704, 1248)\n"
          ]
        },
        {
          "output_type": "stream",
          "name": "stderr",
          "text": [
            "\r 80%|████████  | 245/305 [04:37<01:29,  1.49s/it]"
          ]
        },
        {
          "output_type": "stream",
          "name": "stdout",
          "text": [
            "\n",
            "0: 704x1248 19 motos, 3 helmets, 2 no_helmets, 2 license_plates, 679.3ms\n",
            "Speed: 12.4ms preprocess, 679.3ms inference, 1.6ms postprocess per image at shape (1, 3, 704, 1248)\n"
          ]
        },
        {
          "output_type": "stream",
          "name": "stderr",
          "text": [
            "\r 81%|████████  | 246/305 [04:38<01:20,  1.37s/it]"
          ]
        },
        {
          "output_type": "stream",
          "name": "stdout",
          "text": [
            "\n",
            "0: 704x1248 8 motos, 2 helmets, 7 no_helmets, 4 license_plates, 746.5ms\n",
            "Speed: 19.8ms preprocess, 746.5ms inference, 1.5ms postprocess per image at shape (1, 3, 704, 1248)\n"
          ]
        },
        {
          "output_type": "stream",
          "name": "stderr",
          "text": [
            "\r 81%|████████  | 247/305 [04:39<01:13,  1.27s/it]"
          ]
        },
        {
          "output_type": "stream",
          "name": "stdout",
          "text": [
            "\n",
            "0: 704x1248 21 motos, 14 helmets, 17 no_helmets, 9 license_plates, 781.9ms\n",
            "Speed: 14.3ms preprocess, 781.9ms inference, 2.0ms postprocess per image at shape (1, 3, 704, 1248)\n"
          ]
        },
        {
          "output_type": "stream",
          "name": "stderr",
          "text": [
            "\r 81%|████████▏ | 248/305 [04:40<01:09,  1.22s/it]"
          ]
        },
        {
          "output_type": "stream",
          "name": "stdout",
          "text": [
            "\n",
            "0: 704x1248 10 motos, 5 helmets, 12 no_helmets, 6 license_plates, 688.5ms\n",
            "Speed: 14.8ms preprocess, 688.5ms inference, 2.1ms postprocess per image at shape (1, 3, 704, 1248)\n"
          ]
        },
        {
          "output_type": "stream",
          "name": "stderr",
          "text": [
            "\r 82%|████████▏ | 249/305 [04:41<01:03,  1.14s/it]"
          ]
        },
        {
          "output_type": "stream",
          "name": "stdout",
          "text": [
            "\n",
            "0: 704x1248 12 motos, 4 helmets, 4 no_helmets, 2 license_plates, 442.6ms\n",
            "Speed: 12.1ms preprocess, 442.6ms inference, 1.3ms postprocess per image at shape (1, 3, 704, 1248)\n"
          ]
        },
        {
          "output_type": "stream",
          "name": "stderr",
          "text": [
            "\r 82%|████████▏ | 250/305 [04:42<00:55,  1.00s/it]"
          ]
        },
        {
          "output_type": "stream",
          "name": "stdout",
          "text": [
            "\n",
            "0: 704x1248 21 motos, 20 helmets, 13 no_helmets, 12 license_plates, 446.0ms\n",
            "Speed: 11.1ms preprocess, 446.0ms inference, 1.4ms postprocess per image at shape (1, 3, 704, 1248)\n"
          ]
        },
        {
          "output_type": "stream",
          "name": "stderr",
          "text": [
            "\r 82%|████████▏ | 251/305 [04:42<00:49,  1.09it/s]"
          ]
        },
        {
          "output_type": "stream",
          "name": "stdout",
          "text": [
            "\n",
            "0: 704x1248 13 motos, 7 helmets, 6 no_helmets, 5 license_plates, 466.3ms\n",
            "Speed: 12.4ms preprocess, 466.3ms inference, 1.3ms postprocess per image at shape (1, 3, 704, 1248)\n"
          ]
        },
        {
          "output_type": "stream",
          "name": "stderr",
          "text": [
            "\r 83%|████████▎ | 252/305 [04:43<00:46,  1.13it/s]"
          ]
        },
        {
          "output_type": "stream",
          "name": "stdout",
          "text": [
            "\n",
            "0: 704x1248 17 motos, 8 helmets, 9 no_helmets, 9 license_plates, 444.5ms\n",
            "Speed: 20.3ms preprocess, 444.5ms inference, 1.2ms postprocess per image at shape (1, 3, 704, 1248)\n"
          ]
        },
        {
          "output_type": "stream",
          "name": "stderr",
          "text": [
            "\r 83%|████████▎ | 253/305 [04:44<00:44,  1.16it/s]"
          ]
        },
        {
          "output_type": "stream",
          "name": "stdout",
          "text": [
            "\n",
            "0: 704x1248 9 motos, 3 helmets, 2 no_helmets, 6 license_plates, 451.4ms\n",
            "Speed: 20.9ms preprocess, 451.4ms inference, 1.3ms postprocess per image at shape (1, 3, 704, 1248)\n"
          ]
        },
        {
          "output_type": "stream",
          "name": "stderr",
          "text": [
            "\r 83%|████████▎ | 254/305 [04:45<00:41,  1.21it/s]"
          ]
        },
        {
          "output_type": "stream",
          "name": "stdout",
          "text": [
            "\n",
            "0: 704x1248 17 motos, 16 helmets, 12 no_helmets, 13 license_plates, 470.8ms\n",
            "Speed: 14.2ms preprocess, 470.8ms inference, 2.1ms postprocess per image at shape (1, 3, 704, 1248)\n"
          ]
        },
        {
          "output_type": "stream",
          "name": "stderr",
          "text": [
            "\r 84%|████████▎ | 255/305 [04:45<00:39,  1.26it/s]"
          ]
        },
        {
          "output_type": "stream",
          "name": "stdout",
          "text": [
            "\n",
            "0: 704x1248 37 motos, 20 helmets, 2 no_helmets, 24 license_plates, 477.5ms\n",
            "Speed: 13.7ms preprocess, 477.5ms inference, 1.4ms postprocess per image at shape (1, 3, 704, 1248)\n"
          ]
        },
        {
          "output_type": "stream",
          "name": "stderr",
          "text": [
            "\r 84%|████████▍ | 256/305 [04:46<00:38,  1.28it/s]"
          ]
        },
        {
          "output_type": "stream",
          "name": "stdout",
          "text": [
            "\n",
            "0: 704x1248 51 motos, 22 helmets, 11 no_helmets, 23 license_plates, 446.6ms\n",
            "Speed: 15.0ms preprocess, 446.6ms inference, 1.4ms postprocess per image at shape (1, 3, 704, 1248)\n"
          ]
        },
        {
          "output_type": "stream",
          "name": "stderr",
          "text": [
            "\r 84%|████████▍ | 257/305 [04:47<00:37,  1.27it/s]"
          ]
        },
        {
          "output_type": "stream",
          "name": "stdout",
          "text": [
            "\n",
            "0: 704x1248 14 motos, 16 helmets, 3 no_helmets, 7 license_plates, 465.8ms\n",
            "Speed: 13.1ms preprocess, 465.8ms inference, 1.3ms postprocess per image at shape (1, 3, 704, 1248)\n"
          ]
        },
        {
          "output_type": "stream",
          "name": "stderr",
          "text": [
            "\r 85%|████████▍ | 258/305 [04:48<00:37,  1.27it/s]"
          ]
        },
        {
          "output_type": "stream",
          "name": "stdout",
          "text": [
            "\n",
            "0: 704x1248 19 motos, 15 helmets, 3 no_helmets, 16 license_plates, 456.0ms\n",
            "Speed: 11.6ms preprocess, 456.0ms inference, 1.9ms postprocess per image at shape (1, 3, 704, 1248)\n"
          ]
        },
        {
          "output_type": "stream",
          "name": "stderr",
          "text": [
            "\r 85%|████████▍ | 259/305 [04:50<00:58,  1.28s/it]"
          ]
        },
        {
          "output_type": "stream",
          "name": "stdout",
          "text": [
            "\n",
            "0: 704x1248 25 motos, 10 helmets, 16 no_helmets, 9 license_plates, 446.6ms\n",
            "Speed: 15.7ms preprocess, 446.6ms inference, 1.5ms postprocess per image at shape (1, 3, 704, 1248)\n"
          ]
        },
        {
          "output_type": "stream",
          "name": "stderr",
          "text": [
            "\r 85%|████████▌ | 260/305 [04:51<00:49,  1.11s/it]"
          ]
        },
        {
          "output_type": "stream",
          "name": "stdout",
          "text": [
            "\n",
            "0: 704x1248 30 motos, 12 helmets, 13 no_helmets, 4 license_plates, 479.2ms\n",
            "Speed: 11.5ms preprocess, 479.2ms inference, 1.4ms postprocess per image at shape (1, 3, 704, 1248)\n"
          ]
        },
        {
          "output_type": "stream",
          "name": "stderr",
          "text": [
            "\r 86%|████████▌ | 261/305 [04:56<01:38,  2.24s/it]"
          ]
        },
        {
          "output_type": "stream",
          "name": "stdout",
          "text": [
            "\n",
            "0: 704x1248 41 motos, 14 helmets, 15 no_helmets, 8 license_plates, 460.4ms\n",
            "Speed: 11.5ms preprocess, 460.4ms inference, 1.6ms postprocess per image at shape (1, 3, 704, 1248)\n"
          ]
        },
        {
          "output_type": "stream",
          "name": "stderr",
          "text": [
            "\r 86%|████████▌ | 262/305 [04:59<01:42,  2.39s/it]"
          ]
        },
        {
          "output_type": "stream",
          "name": "stdout",
          "text": [
            "\n",
            "0: 704x1248 37 motos, 13 helmets, 5 no_helmets, 18 license_plates, 431.3ms\n",
            "Speed: 14.9ms preprocess, 431.3ms inference, 1.8ms postprocess per image at shape (1, 3, 704, 1248)\n"
          ]
        },
        {
          "output_type": "stream",
          "name": "stderr",
          "text": [
            "\r 86%|████████▌ | 263/305 [04:59<01:19,  1.89s/it]"
          ]
        },
        {
          "output_type": "stream",
          "name": "stdout",
          "text": [
            "\n",
            "0: 704x1248 62 motos, 24 helmets, 18 no_helmets, 20 license_plates, 466.4ms\n",
            "Speed: 15.0ms preprocess, 466.4ms inference, 1.4ms postprocess per image at shape (1, 3, 704, 1248)\n"
          ]
        },
        {
          "output_type": "stream",
          "name": "stderr",
          "text": [
            "\r 87%|████████▋ | 264/305 [05:02<01:29,  2.18s/it]"
          ]
        },
        {
          "output_type": "stream",
          "name": "stdout",
          "text": [
            "\n",
            "0: 704x1248 22 motos, 4 helmets, 1 no_helmet, 9 license_plates, 478.6ms\n",
            "Speed: 17.1ms preprocess, 478.6ms inference, 1.6ms postprocess per image at shape (1, 3, 704, 1248)\n"
          ]
        },
        {
          "output_type": "stream",
          "name": "stderr",
          "text": [
            "\r 87%|████████▋ | 265/305 [05:03<01:10,  1.76s/it]"
          ]
        },
        {
          "output_type": "stream",
          "name": "stdout",
          "text": [
            "\n",
            "0: 704x1248 44 motos, 21 helmets, 7 no_helmets, 16 license_plates, 465.3ms\n",
            "Speed: 11.7ms preprocess, 465.3ms inference, 1.3ms postprocess per image at shape (1, 3, 704, 1248)\n"
          ]
        },
        {
          "output_type": "stream",
          "name": "stderr",
          "text": [
            "\r 87%|████████▋ | 266/305 [05:04<00:58,  1.51s/it]"
          ]
        },
        {
          "output_type": "stream",
          "name": "stdout",
          "text": [
            "\n",
            "0: 704x1248 33 motos, 9 helmets, 9 no_helmets, 16 license_plates, 668.1ms\n",
            "Speed: 12.5ms preprocess, 668.1ms inference, 1.7ms postprocess per image at shape (1, 3, 704, 1248)\n"
          ]
        },
        {
          "output_type": "stream",
          "name": "stderr",
          "text": [
            "\r 88%|████████▊ | 267/305 [05:05<00:51,  1.35s/it]"
          ]
        },
        {
          "output_type": "stream",
          "name": "stdout",
          "text": [
            "\n",
            "0: 704x1248 11 motos, 6 helmets, 5 no_helmets, 8 license_plates, 687.0ms\n",
            "Speed: 15.9ms preprocess, 687.0ms inference, 1.7ms postprocess per image at shape (1, 3, 704, 1248)\n"
          ]
        },
        {
          "output_type": "stream",
          "name": "stderr",
          "text": [
            "\r 88%|████████▊ | 268/305 [05:06<00:52,  1.41s/it]"
          ]
        },
        {
          "output_type": "stream",
          "name": "stdout",
          "text": [
            "\n",
            "0: 704x1248 11 motos, 13 helmets, 4 no_helmets, 8 license_plates, 617.6ms\n",
            "Speed: 14.6ms preprocess, 617.6ms inference, 1.3ms postprocess per image at shape (1, 3, 704, 1248)\n"
          ]
        },
        {
          "output_type": "stream",
          "name": "stderr",
          "text": [
            "\r 88%|████████▊ | 269/305 [05:07<00:45,  1.26s/it]"
          ]
        },
        {
          "output_type": "stream",
          "name": "stdout",
          "text": [
            "\n",
            "0: 704x1248 30 motos, 21 helmets, 18 no_helmets, 17 license_plates, 452.9ms\n",
            "Speed: 12.2ms preprocess, 452.9ms inference, 1.4ms postprocess per image at shape (1, 3, 704, 1248)\n"
          ]
        },
        {
          "output_type": "stream",
          "name": "stderr",
          "text": [
            "\r 89%|████████▊ | 270/305 [05:08<00:38,  1.11s/it]"
          ]
        },
        {
          "output_type": "stream",
          "name": "stdout",
          "text": [
            "\n",
            "0: 704x1248 24 motos, 13 helmets, 8 no_helmets, 7 license_plates, 442.2ms\n",
            "Speed: 11.4ms preprocess, 442.2ms inference, 1.4ms postprocess per image at shape (1, 3, 704, 1248)\n"
          ]
        },
        {
          "output_type": "stream",
          "name": "stderr",
          "text": [
            "\r 89%|████████▉ | 271/305 [05:09<00:33,  1.01it/s]"
          ]
        },
        {
          "output_type": "stream",
          "name": "stdout",
          "text": [
            "\n",
            "0: 704x1248 26 motos, 4 helmets, 8 no_helmets, 7 license_plates, 427.5ms\n",
            "Speed: 11.3ms preprocess, 427.5ms inference, 1.3ms postprocess per image at shape (1, 3, 704, 1248)\n"
          ]
        },
        {
          "output_type": "stream",
          "name": "stderr",
          "text": [
            "\r 89%|████████▉ | 272/305 [05:10<00:31,  1.06it/s]"
          ]
        },
        {
          "output_type": "stream",
          "name": "stdout",
          "text": [
            "\n",
            "0: 704x1248 24 motos, 11 helmets, 1 no_helmet, 6 license_plates, 471.8ms\n",
            "Speed: 11.5ms preprocess, 471.8ms inference, 1.2ms postprocess per image at shape (1, 3, 704, 1248)\n"
          ]
        },
        {
          "output_type": "stream",
          "name": "stderr",
          "text": [
            "\r 90%|████████▉ | 273/305 [05:10<00:29,  1.10it/s]"
          ]
        },
        {
          "output_type": "stream",
          "name": "stdout",
          "text": [
            "\n",
            "0: 704x1248 13 motos, 8 helmets, 10 no_helmets, 5 license_plates, 461.0ms\n",
            "Speed: 17.3ms preprocess, 461.0ms inference, 1.2ms postprocess per image at shape (1, 3, 704, 1248)\n"
          ]
        },
        {
          "output_type": "stream",
          "name": "stderr",
          "text": [
            "\r 90%|████████▉ | 274/305 [05:11<00:28,  1.09it/s]"
          ]
        },
        {
          "output_type": "stream",
          "name": "stdout",
          "text": [
            "\n",
            "0: 704x1248 27 motos, 1 helmet, 9 no_helmets, 3 license_plates, 434.6ms\n",
            "Speed: 12.6ms preprocess, 434.6ms inference, 1.2ms postprocess per image at shape (1, 3, 704, 1248)\n"
          ]
        },
        {
          "output_type": "stream",
          "name": "stderr",
          "text": [
            "\r 90%|█████████ | 275/305 [05:12<00:26,  1.12it/s]"
          ]
        },
        {
          "output_type": "stream",
          "name": "stdout",
          "text": [
            "\n",
            "0: 704x1248 15 motos, 5 helmets, 10 no_helmets, 4 license_plates, 439.5ms\n",
            "Speed: 15.0ms preprocess, 439.5ms inference, 1.2ms postprocess per image at shape (1, 3, 704, 1248)\n"
          ]
        },
        {
          "output_type": "stream",
          "name": "stderr",
          "text": [
            "\r 90%|█████████ | 276/305 [05:13<00:27,  1.07it/s]"
          ]
        },
        {
          "output_type": "stream",
          "name": "stdout",
          "text": [
            "\n",
            "0: 704x1248 14 motos, 2 helmets, 14 no_helmets, 1 license_plate, 443.9ms\n",
            "Speed: 16.7ms preprocess, 443.9ms inference, 1.2ms postprocess per image at shape (1, 3, 704, 1248)\n"
          ]
        },
        {
          "output_type": "stream",
          "name": "stderr",
          "text": [
            "\r 91%|█████████ | 277/305 [05:14<00:24,  1.14it/s]"
          ]
        },
        {
          "output_type": "stream",
          "name": "stdout",
          "text": [
            "\n",
            "0: 704x1248 20 motos, 4 helmets, 3 no_helmets, 2 license_plates, 462.7ms\n",
            "Speed: 15.6ms preprocess, 462.7ms inference, 1.3ms postprocess per image at shape (1, 3, 704, 1248)\n"
          ]
        },
        {
          "output_type": "stream",
          "name": "stderr",
          "text": [
            "\r 91%|█████████ | 278/305 [05:15<00:22,  1.20it/s]"
          ]
        },
        {
          "output_type": "stream",
          "name": "stdout",
          "text": [
            "\n",
            "0: 704x1248 9 motos, 13 helmets, 15 no_helmets, 13 license_plates, 445.3ms\n",
            "Speed: 12.0ms preprocess, 445.3ms inference, 1.3ms postprocess per image at shape (1, 3, 704, 1248)\n"
          ]
        },
        {
          "output_type": "stream",
          "name": "stderr",
          "text": [
            "\r 91%|█████████▏| 279/305 [05:16<00:21,  1.21it/s]"
          ]
        },
        {
          "output_type": "stream",
          "name": "stdout",
          "text": [
            "\n",
            "0: 704x1248 12 motos, 1 helmet, 11 no_helmets, 468.0ms\n",
            "Speed: 12.5ms preprocess, 468.0ms inference, 1.7ms postprocess per image at shape (1, 3, 704, 1248)\n"
          ]
        },
        {
          "output_type": "stream",
          "name": "stderr",
          "text": [
            "\r 92%|█████████▏| 280/305 [05:16<00:19,  1.26it/s]"
          ]
        },
        {
          "output_type": "stream",
          "name": "stdout",
          "text": [
            "\n",
            "0: 704x1248 13 motos, 3 helmets, 8 no_helmets, 2 license_plates, 424.2ms\n",
            "Speed: 11.7ms preprocess, 424.2ms inference, 1.2ms postprocess per image at shape (1, 3, 704, 1248)\n"
          ]
        },
        {
          "output_type": "stream",
          "name": "stderr",
          "text": [
            "\r 92%|█████████▏| 281/305 [05:17<00:19,  1.24it/s]"
          ]
        },
        {
          "output_type": "stream",
          "name": "stdout",
          "text": [
            "\n",
            "0: 704x1248 5 motos, 2 helmets, 2 no_helmets, 2 license_plates, 685.4ms\n",
            "Speed: 17.7ms preprocess, 685.4ms inference, 1.6ms postprocess per image at shape (1, 3, 704, 1248)\n"
          ]
        },
        {
          "output_type": "stream",
          "name": "stderr",
          "text": [
            "\r 92%|█████████▏| 282/305 [05:18<00:19,  1.17it/s]"
          ]
        },
        {
          "output_type": "stream",
          "name": "stdout",
          "text": [
            "\n",
            "0: 704x1248 19 motos, 2 helmets, 6 no_helmets, 1 license_plate, 740.7ms\n",
            "Speed: 13.8ms preprocess, 740.7ms inference, 1.5ms postprocess per image at shape (1, 3, 704, 1248)\n"
          ]
        },
        {
          "output_type": "stream",
          "name": "stderr",
          "text": [
            "\r 93%|█████████▎| 283/305 [05:19<00:20,  1.08it/s]"
          ]
        },
        {
          "output_type": "stream",
          "name": "stdout",
          "text": [
            "\n",
            "0: 704x1248 15 motos, 1 helmet, 2 no_helmets, 2 license_plates, 711.3ms\n",
            "Speed: 26.0ms preprocess, 711.3ms inference, 1.7ms postprocess per image at shape (1, 3, 704, 1248)\n"
          ]
        },
        {
          "output_type": "stream",
          "name": "stderr",
          "text": [
            "\r 93%|█████████▎| 284/305 [05:20<00:20,  1.01it/s]"
          ]
        },
        {
          "output_type": "stream",
          "name": "stdout",
          "text": [
            "\n",
            "0: 704x1248 18 motos, 7 helmets, 11 no_helmets, 2 license_plates, 595.7ms\n",
            "Speed: 24.7ms preprocess, 595.7ms inference, 1.3ms postprocess per image at shape (1, 3, 704, 1248)\n"
          ]
        },
        {
          "output_type": "stream",
          "name": "stderr",
          "text": [
            "\r 93%|█████████▎| 285/305 [05:21<00:19,  1.05it/s]"
          ]
        },
        {
          "output_type": "stream",
          "name": "stdout",
          "text": [
            "\n",
            "0: 704x1248 5 motos, 5 helmets, 5 no_helmets, 3 license_plates, 479.4ms\n",
            "Speed: 11.9ms preprocess, 479.4ms inference, 1.3ms postprocess per image at shape (1, 3, 704, 1248)\n"
          ]
        },
        {
          "output_type": "stream",
          "name": "stderr",
          "text": [
            "\r 94%|█████████▍| 286/305 [05:22<00:17,  1.10it/s]"
          ]
        },
        {
          "output_type": "stream",
          "name": "stdout",
          "text": [
            "\n",
            "0: 704x1248 5 motos, 1 helmet, 3 no_helmets, 2 license_plates, 457.0ms\n",
            "Speed: 11.9ms preprocess, 457.0ms inference, 1.2ms postprocess per image at shape (1, 3, 704, 1248)\n"
          ]
        },
        {
          "output_type": "stream",
          "name": "stderr",
          "text": [
            "\r 94%|█████████▍| 287/305 [05:23<00:18,  1.02s/it]"
          ]
        },
        {
          "output_type": "stream",
          "name": "stdout",
          "text": [
            "\n",
            "0: 704x1248 7 motos, 3 helmets, 3 no_helmets, 2 license_plates, 481.1ms\n",
            "Speed: 12.3ms preprocess, 481.1ms inference, 1.4ms postprocess per image at shape (1, 3, 704, 1248)\n"
          ]
        },
        {
          "output_type": "stream",
          "name": "stderr",
          "text": [
            "\r 94%|█████████▍| 288/305 [05:27<00:31,  1.85s/it]"
          ]
        },
        {
          "output_type": "stream",
          "name": "stdout",
          "text": [
            "\n",
            "0: 704x1248 6 motos, 7 helmets, 2 no_helmets, 5 license_plates, 450.9ms\n",
            "Speed: 15.9ms preprocess, 450.9ms inference, 1.2ms postprocess per image at shape (1, 3, 704, 1248)\n"
          ]
        },
        {
          "output_type": "stream",
          "name": "stderr",
          "text": [
            "\r 95%|█████████▍| 289/305 [05:28<00:24,  1.52s/it]"
          ]
        },
        {
          "output_type": "stream",
          "name": "stdout",
          "text": [
            "\n",
            "0: 704x1248 3 motos, 2 helmets, 1 no_helmet, 2 license_plates, 440.6ms\n",
            "Speed: 16.7ms preprocess, 440.6ms inference, 1.2ms postprocess per image at shape (1, 3, 704, 1248)\n"
          ]
        },
        {
          "output_type": "stream",
          "name": "stderr",
          "text": [
            "\r 95%|█████████▌| 290/305 [05:29<00:19,  1.29s/it]"
          ]
        },
        {
          "output_type": "stream",
          "name": "stdout",
          "text": [
            "\n",
            "0: 704x1248 20 motos, 3 helmets, 8 no_helmets, 7 license_plates, 463.2ms\n",
            "Speed: 19.7ms preprocess, 463.2ms inference, 1.3ms postprocess per image at shape (1, 3, 704, 1248)\n"
          ]
        },
        {
          "output_type": "stream",
          "name": "stderr",
          "text": [
            "\r 95%|█████████▌| 291/305 [05:29<00:15,  1.13s/it]"
          ]
        },
        {
          "output_type": "stream",
          "name": "stdout",
          "text": [
            "\n",
            "0: 704x1248 52 motos, 4 helmets, 4 no_helmets, 5 license_plates, 457.6ms\n",
            "Speed: 13.1ms preprocess, 457.6ms inference, 1.2ms postprocess per image at shape (1, 3, 704, 1248)\n"
          ]
        },
        {
          "output_type": "stream",
          "name": "stderr",
          "text": [
            "\r 96%|█████████▌| 292/305 [05:30<00:13,  1.02s/it]"
          ]
        },
        {
          "output_type": "stream",
          "name": "stdout",
          "text": [
            "\n",
            "0: 704x1248 19 motos, 11 helmets, 5 no_helmets, 4 license_plates, 463.1ms\n",
            "Speed: 16.1ms preprocess, 463.1ms inference, 1.4ms postprocess per image at shape (1, 3, 704, 1248)\n"
          ]
        },
        {
          "output_type": "stream",
          "name": "stderr",
          "text": [
            "\r 96%|█████████▌| 293/305 [05:31<00:11,  1.01it/s]"
          ]
        },
        {
          "output_type": "stream",
          "name": "stdout",
          "text": [
            "\n",
            "0: 704x1248 21 motos, 9 helmets, 4 no_helmets, 9 license_plates, 661.1ms\n",
            "Speed: 18.8ms preprocess, 661.1ms inference, 1.5ms postprocess per image at shape (1, 3, 704, 1248)\n"
          ]
        },
        {
          "output_type": "stream",
          "name": "stderr",
          "text": [
            "\r 96%|█████████▋| 294/305 [05:32<00:11,  1.02s/it]"
          ]
        },
        {
          "output_type": "stream",
          "name": "stdout",
          "text": [
            "\n",
            "0: 704x1248 20 motos, 14 helmets, 13 no_helmets, 12 license_plates, 699.6ms\n",
            "Speed: 18.5ms preprocess, 699.6ms inference, 1.6ms postprocess per image at shape (1, 3, 704, 1248)\n"
          ]
        },
        {
          "output_type": "stream",
          "name": "stderr",
          "text": [
            "\r 97%|█████████▋| 295/305 [05:33<00:10,  1.05s/it]"
          ]
        },
        {
          "output_type": "stream",
          "name": "stdout",
          "text": [
            "\n",
            "0: 704x1248 13 motos, 13 helmets, 14 no_helmets, 4 license_plates, 681.5ms\n",
            "Speed: 20.2ms preprocess, 681.5ms inference, 2.0ms postprocess per image at shape (1, 3, 704, 1248)\n"
          ]
        },
        {
          "output_type": "stream",
          "name": "stderr",
          "text": [
            "\r 97%|█████████▋| 296/305 [05:34<00:09,  1.04s/it]"
          ]
        },
        {
          "output_type": "stream",
          "name": "stdout",
          "text": [
            "\n",
            "0: 704x1248 11 motos, 8 helmets, 5 no_helmets, 3 license_plates, 462.2ms\n",
            "Speed: 17.8ms preprocess, 462.2ms inference, 1.4ms postprocess per image at shape (1, 3, 704, 1248)\n"
          ]
        },
        {
          "output_type": "stream",
          "name": "stderr",
          "text": [
            "\r 97%|█████████▋| 297/305 [05:35<00:07,  1.05it/s]"
          ]
        },
        {
          "output_type": "stream",
          "name": "stdout",
          "text": [
            "\n",
            "0: 704x1248 14 motos, 10 helmets, 4 no_helmets, 4 license_plates, 438.2ms\n",
            "Speed: 26.2ms preprocess, 438.2ms inference, 1.3ms postprocess per image at shape (1, 3, 704, 1248)\n"
          ]
        },
        {
          "output_type": "stream",
          "name": "stderr",
          "text": [
            "\r 98%|█████████▊| 298/305 [05:36<00:06,  1.10it/s]"
          ]
        },
        {
          "output_type": "stream",
          "name": "stdout",
          "text": [
            "\n",
            "0: 704x1248 3 motos, 4 helmets, 4 no_helmets, 1 license_plate, 438.1ms\n",
            "Speed: 11.3ms preprocess, 438.1ms inference, 1.3ms postprocess per image at shape (1, 3, 704, 1248)\n"
          ]
        },
        {
          "output_type": "stream",
          "name": "stderr",
          "text": [
            "\r 98%|█████████▊| 299/305 [05:37<00:05,  1.15it/s]"
          ]
        },
        {
          "output_type": "stream",
          "name": "stdout",
          "text": [
            "\n",
            "0: 704x1248 17 motos, 6 helmets, 5 no_helmets, 10 license_plates, 453.5ms\n",
            "Speed: 12.6ms preprocess, 453.5ms inference, 1.6ms postprocess per image at shape (1, 3, 704, 1248)\n"
          ]
        },
        {
          "output_type": "stream",
          "name": "stderr",
          "text": [
            "\r 98%|█████████▊| 300/305 [05:37<00:04,  1.13it/s]"
          ]
        },
        {
          "output_type": "stream",
          "name": "stdout",
          "text": [
            "\n",
            "0: 704x1248 14 motos, 4 helmets, 22 no_helmets, 3 license_plates, 441.9ms\n",
            "Speed: 20.9ms preprocess, 441.9ms inference, 1.1ms postprocess per image at shape (1, 3, 704, 1248)\n"
          ]
        },
        {
          "output_type": "stream",
          "name": "stderr",
          "text": [
            "\r 99%|█████████▊| 301/305 [05:38<00:03,  1.18it/s]"
          ]
        },
        {
          "output_type": "stream",
          "name": "stdout",
          "text": [
            "\n",
            "0: 704x1248 5 motos, 5 helmets, 4 no_helmets, 7 license_plates, 442.2ms\n",
            "Speed: 20.3ms preprocess, 442.2ms inference, 1.2ms postprocess per image at shape (1, 3, 704, 1248)\n"
          ]
        },
        {
          "output_type": "stream",
          "name": "stderr",
          "text": [
            "\r 99%|█████████▉| 302/305 [05:39<00:02,  1.25it/s]"
          ]
        },
        {
          "output_type": "stream",
          "name": "stdout",
          "text": [
            "\n",
            "0: 704x1248 6 motos, 2 helmets, 1 no_helmet, 464.8ms\n",
            "Speed: 14.3ms preprocess, 464.8ms inference, 1.3ms postprocess per image at shape (1, 3, 704, 1248)\n"
          ]
        },
        {
          "output_type": "stream",
          "name": "stderr",
          "text": [
            "\r 99%|█████████▉| 303/305 [05:40<00:01,  1.28it/s]"
          ]
        },
        {
          "output_type": "stream",
          "name": "stdout",
          "text": [
            "\n",
            "0: 704x1248 11 motos, 8 helmets, 15 no_helmets, 8 license_plates, 453.6ms\n",
            "Speed: 15.1ms preprocess, 453.6ms inference, 1.4ms postprocess per image at shape (1, 3, 704, 1248)\n"
          ]
        },
        {
          "output_type": "stream",
          "name": "stderr",
          "text": [
            "\r100%|█████████▉| 304/305 [05:40<00:00,  1.31it/s]"
          ]
        },
        {
          "output_type": "stream",
          "name": "stdout",
          "text": [
            "\n",
            "0: 704x1248 12 motos, 4 helmets, 3 no_helmets, 6 license_plates, 440.9ms\n",
            "Speed: 11.6ms preprocess, 440.9ms inference, 1.4ms postprocess per image at shape (1, 3, 704, 1248)\n"
          ]
        },
        {
          "output_type": "stream",
          "name": "stderr",
          "text": [
            "100%|██████████| 305/305 [05:41<00:00,  1.12s/it]\n"
          ]
        },
        {
          "output_type": "display_data",
          "data": {
            "text/plain": [
              "<Figure size 1200x1000 with 2 Axes>"
            ],
            "image/png": "[encoded data removed]"
          },
          "metadata": {}
        },
        {
          "output_type": "stream",
          "name": "stdout",
          "text": [
            "\n",
            "=== Kết quả phân tích ===\n",
            "Threshold tối ưu: 0.800\n",
            "Precision: 0.951\n",
            "Recall: 0.400\n",
            "F1 Score: 0.563\n",
            "\n",
            "Với threshold này, hệ thống sẽ đảm bảo độ chính xác cao trong việc phát hiện vi phạm\n",
            "Điều này phù hợp với yêu cầu 'được phép bắt thiếu nhưng phải chính xác'\n"
          ]
        }
      ]
    },
    {
      "cell_type": "code",
      "source": [
        "# Đường dẫn đến dữ liệu\n",
        "images_dir = '/content/drive/MyDrive/AIP491/Training/yolo_helmet/images/val'\n",
        "labels_dir = '/content/drive/MyDrive/AIP491/Training/yolo_helmet/labels/val'\n",
        "\n",
        "# Load mô hình YOLO (thay thế đường dẫn này bằng đường dẫn đến model của bạn)\n",
        "model_path = '/content/drive/MyDrive/AIP491/Training/yolo_helmet/weight/ver_3.pt'\n",
        "model = YOLO(model_path)\n",
        "\n",
        "# Đánh giá mô hình\n",
        "print(\"Đánh giá mô hình với các threshold khác nhau...\")\n",
        "thresholds = np.arange(0.1, 1.0, 0.05)\n",
        "threshold_results, curve_data = evaluate_no_helmet_detection(\n",
        "    model, images_dir, labels_dir, conf_thresholds=thresholds)\n",
        "\n",
        "# Phân tích kết quả và chọn threshold tối ưu\n",
        "best_row = visualize_results(threshold_results, curve_data, min_precision=0.95)\n",
        "\n",
        "print(\"\\n=== Kết quả phân tích ===\")\n",
        "print(f\"Threshold tối ưu: {best_row['Threshold']:.3f}\")\n",
        "print(f\"Precision: {best_row['Precision']:.3f}\")\n",
        "print(f\"Recall: {best_row['Recall']:.3f}\")\n",
        "print(f\"F1 Score: {best_row['F1']:.3f}\")\n",
        "print(\"\\nVới threshold này, hệ thống sẽ đảm bảo độ chính xác cao trong việc phát hiện vi phạm\")\n",
        "print(\"Điều này phù hợp với yêu cầu 'được phép bắt thiếu nhưng phải chính xác'\")"
      ],
      "metadata": {
        "id": "P6ib-m-ZLGI_",
        "colab": {
          "base_uri": "https://localhost:8080/",
          "height": 1000
        },
        "outputId": "90b410d8-3156-4fed-d763-2e2e0c7ca7a6"
      },
      "execution_count": null,
      "outputs": [
        {
          "output_type": "stream",
          "name": "stdout",
          "text": [
            "Đánh giá mô hình với các threshold khác nhau...\n"
          ]
        },
        {
          "output_type": "display_data",
          "data": {
            "text/plain": [
              "<Figure size 1200x1000 with 2 Axes>"
            ],
            "image/png": "[encoded data removed]"
          },
          "metadata": {}
        },
        {
          "output_type": "stream",
          "name": "stdout",
          "text": [
            "\n",
            "=== Kết quả phân tích ===\n",
            "Threshold tối ưu: 0.800\n",
            "Precision: 0.951\n",
            "Recall: 0.400\n",
            "F1 Score: 0.563\n",
            "\n",
            "Với threshold này, hệ thống sẽ đảm bảo độ chính xác cao trong việc phát hiện vi phạm\n",
            "Điều này phù hợp với yêu cầu 'được phép bắt thiếu nhưng phải chính xác'\n"
          ]
        }
      ]
    },
    {
      "cell_type": "code",
      "source": [
        "results_df = pd.DataFrame(threshold_results, columns=['Threshold', 'Precision', 'Recall', 'F1'])\n",
        "results_df"
      ],
      "metadata": {
        "colab": {
          "base_uri": "https://localhost:8080/",
          "height": 613
        },
        "id": "FtkM7PKCNgcY",
        "outputId": "efb5a218-3759-4009-93b0-ec662c20bcfc"
      },
      "execution_count": null,
      "outputs": [
        {
          "output_type": "execute_result",
          "data": {
            "text/plain": [
              "    Threshold  Precision    Recall        F1\n",
              "0        0.10   0.670956  0.948052  0.785791\n",
              "1        0.15   0.706587  0.919481  0.799097\n",
              "2        0.20   0.736842  0.909091  0.813953\n",
              "3        0.25   0.773333  0.903896  0.833533\n",
              "4        0.30   0.796296  0.893506  0.842105\n",
              "5        0.35   0.812500  0.877922  0.843945\n",
              "6        0.40   0.835411  0.870130  0.852417\n",
              "7        0.45   0.858268  0.849351  0.853786\n",
              "8        0.50   0.878788  0.828571  0.852941\n",
              "9        0.55   0.875706  0.805195  0.838972\n",
              "10       0.60   0.883721  0.789610  0.834019\n",
              "11       0.65   0.924290  0.761039  0.834758\n",
              "12       0.70   0.939716  0.688312  0.794603\n",
              "13       0.75   0.946721  0.600000  0.734499\n",
              "14       0.80   0.950617  0.400000  0.563071\n",
              "15       0.85   0.968750  0.161039  0.276169\n",
              "16       0.90   1.000000  0.007792  0.015464\n",
              "17       0.95   0.000000  0.000000  0.000000"
            ],
            "text/html": [
              "\n",
              "  <div id=\"df-db5924f6-a31c-4ae0-aa9c-ff0ca80f0841\" class=\"colab-df-container\">\n",
              "    <div>\n",
              "<style scoped>\n",
              "    .dataframe tbody tr th:only-of-type {\n",
              "        vertical-align: middle;\n",
              "    }\n",
              "\n",
              "    .dataframe tbody tr th {\n",
              "        vertical-align: top;\n",
              "    }\n",
              "\n",
              "    .dataframe thead th {\n",
              "        text-align: right;\n",
              "    }\n",
              "</style>\n",
              "<table border=\"1\" class=\"dataframe\">\n",
              "  <thead>\n",
              "    <tr style=\"text-align: right;\">\n",
              "      <th></th>\n",
              "      <th>Threshold</th>\n",
              "      <th>Precision</th>\n",
              "      <th>Recall</th>\n",
              "      <th>F1</th>\n",
              "    </tr>\n",
              "  </thead>\n",
              "  <tbody>\n",
              "    <tr>\n",
              "      <th>0</th>\n",
              "      <td>0.10</td>\n",
              "      <td>0.670956</td>\n",
              "      <td>0.948052</td>\n",
              "      <td>0.785791</td>\n",
              "    </tr>\n",
              "    <tr>\n",
              "      <th>1</th>\n",
              "      <td>0.15</td>\n",
              "      <td>0.706587</td>\n",
              "      <td>0.919481</td>\n",
              "      <td>0.799097</td>\n",
              "    </tr>\n",
              "    <tr>\n",
              "      <th>2</th>\n",
              "      <td>0.20</td>\n",
              "      <td>0.736842</td>\n",
              "      <td>0.909091</td>\n",
              "      <td>0.813953</td>\n",
              "    </tr>\n",
              "    <tr>\n",
              "      <th>3</th>\n",
              "      <td>0.25</td>\n",
              "      <td>0.773333</td>\n",
              "      <td>0.903896</td>\n",
              "      <td>0.833533</td>\n",
              "    </tr>\n",
              "    <tr>\n",
              "      <th>4</th>\n",
              "      <td>0.30</td>\n",
              "      <td>0.796296</td>\n",
              "      <td>0.893506</td>\n",
              "      <td>0.842105</td>\n",
              "    </tr>\n",
              "    <tr>\n",
              "      <th>5</th>\n",
              "      <td>0.35</td>\n",
              "      <td>0.812500</td>\n",
              "      <td>0.877922</td>\n",
              "      <td>0.843945</td>\n",
              "    </tr>\n",
              "    <tr>\n",
              "      <th>6</th>\n",
              "      <td>0.40</td>\n",
              "      <td>0.835411</td>\n",
              "      <td>0.870130</td>\n",
              "      <td>0.852417</td>\n",
              "    </tr>\n",
              "    <tr>\n",
              "      <th>7</th>\n",
              "      <td>0.45</td>\n",
              "      <td>0.858268</td>\n",
              "      <td>0.849351</td>\n",
              "      <td>0.853786</td>\n",
              "    </tr>\n",
              "    <tr>\n",
              "      <th>8</th>\n",
              "      <td>0.50</td>\n",
              "      <td>0.878788</td>\n",
              "      <td>0.828571</td>\n",
              "      <td>0.852941</td>\n",
              "    </tr>\n",
              "    <tr>\n",
              "      <th>9</th>\n",
              "      <td>0.55</td>\n",
              "      <td>0.875706</td>\n",
              "      <td>0.805195</td>\n",
              "      <td>0.838972</td>\n",
              "    </tr>\n",
              "    <tr>\n",
              "      <th>10</th>\n",
              "      <td>0.60</td>\n",
              "      <td>0.883721</td>\n",
              "      <td>0.789610</td>\n",
              "      <td>0.834019</td>\n",
              "    </tr>\n",
              "    <tr>\n",
              "      <th>11</th>\n",
              "      <td>0.65</td>\n",
              "      <td>0.924290</td>\n",
              "      <td>0.761039</td>\n",
              "      <td>0.834758</td>\n",
              "    </tr>\n",
              "    <tr>\n",
              "      <th>12</th>\n",
              "      <td>0.70</td>\n",
              "      <td>0.939716</td>\n",
              "      <td>0.688312</td>\n",
              "      <td>0.794603</td>\n",
              "    </tr>\n",
              "    <tr>\n",
              "      <th>13</th>\n",
              "      <td>0.75</td>\n",
              "      <td>0.946721</td>\n",
              "      <td>0.600000</td>\n",
              "      <td>0.734499</td>\n",
              "    </tr>\n",
              "    <tr>\n",
              "      <th>14</th>\n",
              "      <td>0.80</td>\n",
              "      <td>0.950617</td>\n",
              "      <td>0.400000</td>\n",
              "      <td>0.563071</td>\n",
              "    </tr>\n",
              "    <tr>\n",
              "      <th>15</th>\n",
              "      <td>0.85</td>\n",
              "      <td>0.968750</td>\n",
              "      <td>0.161039</td>\n",
              "      <td>0.276169</td>\n",
              "    </tr>\n",
              "    <tr>\n",
              "      <th>16</th>\n",
              "      <td>0.90</td>\n",
              "      <td>1.000000</td>\n",
              "      <td>0.007792</td>\n",
              "      <td>0.015464</td>\n",
              "    </tr>\n",
              "    <tr>\n",
              "      <th>17</th>\n",
              "      <td>0.95</td>\n",
              "      <td>0.000000</td>\n",
              "      <td>0.000000</td>\n",
              "      <td>0.000000</td>\n",
              "    </tr>\n",
              "  </tbody>\n",
              "</table>\n",
              "</div>\n",
              "    <div class=\"colab-df-buttons\">\n",
              "\n",
              "  <div class=\"colab-df-container\">\n",
              "    <button class=\"colab-df-convert\" onclick=\"convertToInteractive('df-db5924f6-a31c-4ae0-aa9c-ff0ca80f0841')\"\n",
              "            title=\"Convert this dataframe to an interactive table.\"\n",
              "            style=\"display:none;\">\n",
              "\n",
              "  <svg xmlns=\"http://www.w3.org/2000/svg\" height=\"24px\" viewBox=\"0 -960 960 960\">\n",
              "    <path d=\"M120-120v-720h720v720H120Zm60-500h600v-160H180v160Zm220 220h160v-160H400v160Zm0 220h160v-160H400v160ZM180-400h160v-160H180v160Zm440 0h160v-160H620v160ZM180-180h160v-160H180v160Zm440 0h160v-160H620v160Z\"/>\n",
              "  </svg>\n",
              "    </button>\n",
              "\n",
              "  <style>\n",
              "    .colab-df-container {\n",
              "      display:flex;\n",
              "      gap: 12px;\n",
              "    }\n",
              "\n",
              "    .colab-df-convert {\n",
              "      background-color: #E8F0FE;\n",
              "      border: none;\n",
              "      border-radius: 50%;\n",
              "      cursor: pointer;\n",
              "      display: none;\n",
              "      fill: #1967D2;\n",
              "      height: 32px;\n",
              "      padding: 0 0 0 0;\n",
              "      width: 32px;\n",
              "    }\n",
              "\n",
              "    .colab-df-convert:hover {\n",
              "      background-color: #E2EBFA;\n",
              "      box-shadow: 0px 1px 2px rgba(60, 64, 67, 0.3), 0px 1px 3px 1px rgba(60, 64, 67, 0.15);\n",
              "      fill: #174EA6;\n",
              "    }\n",
              "\n",
              "    .colab-df-buttons div {\n",
              "      margin-bottom: 4px;\n",
              "    }\n",
              "\n",
              "    [theme=dark] .colab-df-convert {\n",
              "      background-color: #3B4455;\n",
              "      fill: #D2E3FC;\n",
              "    }\n",
              "\n",
              "    [theme=dark] .colab-df-convert:hover {\n",
              "      background-color: #434B5C;\n",
              "      box-shadow: 0px 1px 3px 1px rgba(0, 0, 0, 0.15);\n",
              "      filter: drop-shadow(0px 1px 2px rgba(0, 0, 0, 0.3));\n",
              "      fill: #FFFFFF;\n",
              "    }\n",
              "  </style>\n",
              "\n",
              "    <script>\n",
              "      const buttonEl =\n",
              "        document.querySelector('#df-db5924f6-a31c-4ae0-aa9c-ff0ca80f0841 button.colab-df-convert');\n",
              "      buttonEl.style.display =\n",
              "        google.colab.kernel.accessAllowed ? 'block' : 'none';\n",
              "\n",
              "      async function convertToInteractive(key) {\n",
              "        const element = document.querySelector('#df-db5924f6-a31c-4ae0-aa9c-ff0ca80f0841');\n",
              "        const dataTable =\n",
              "          await google.colab.kernel.invokeFunction('convertToInteractive',\n",
              "                                                    [key], {});\n",
              "        if (!dataTable) return;\n",
              "\n",
              "        const docLinkHtml = 'Like what you see? Visit the ' +\n",
              "          '<a target=\"_blank\" href=https://colab.research.google.com/notebooks/data_table.ipynb>data table notebook</a>'\n",
              "          + ' to learn more about interactive tables.';\n",
              "        element.innerHTML = '';\n",
              "        dataTable['output_type'] = 'display_data';\n",
              "        await google.colab.output.renderOutput(dataTable, element);\n",
              "        const docLink = document.createElement('div');\n",
              "        docLink.innerHTML = docLinkHtml;\n",
              "        element.appendChild(docLink);\n",
              "      }\n",
              "    </script>\n",
              "  </div>\n",
              "\n",
              "\n",
              "<div id=\"df-312b86ff-b3eb-4844-bfd2-f9457d7a2751\">\n",
              "  <button class=\"colab-df-quickchart\" onclick=\"quickchart('df-312b86ff-b3eb-4844-bfd2-f9457d7a2751')\"\n",
              "            title=\"Suggest charts\"\n",
              "            style=\"display:none;\">\n",
              "\n",
              "<svg xmlns=\"http://www.w3.org/2000/svg\" height=\"24px\"viewBox=\"0 0 24 24\"\n",
              "     width=\"24px\">\n",
              "    <g>\n",
              "        <path d=\"M19 3H5c-1.1 0-2 .9-2 2v14c0 1.1.9 2 2 2h14c1.1 0 2-.9 2-2V5c0-1.1-.9-2-2-2zM9 17H7v-7h2v7zm4 0h-2V7h2v10zm4 0h-2v-4h2v4z\"/>\n",
              "    </g>\n",
              "</svg>\n",
              "  </button>\n",
              "\n",
              "<style>\n",
              "  .colab-df-quickchart {\n",
              "      --bg-color: #E8F0FE;\n",
              "      --fill-color: #1967D2;\n",
              "      --hover-bg-color: #E2EBFA;\n",
              "      --hover-fill-color: #174EA6;\n",
              "      --disabled-fill-color: #AAA;\n",
              "      --disabled-bg-color: #DDD;\n",
              "  }\n",
              "\n",
              "  [theme=dark] .colab-df-quickchart {\n",
              "      --bg-color: #3B4455;\n",
              "      --fill-color: #D2E3FC;\n",
              "      --hover-bg-color: #434B5C;\n",
              "      --hover-fill-color: #FFFFFF;\n",
              "      --disabled-bg-color: #3B4455;\n",
              "      --disabled-fill-color: #666;\n",
              "  }\n",
              "\n",
              "  .colab-df-quickchart {\n",
              "    background-color: var(--bg-color);\n",
              "    border: none;\n",
              "    border-radius: 50%;\n",
              "    cursor: pointer;\n",
              "    display: none;\n",
              "    fill: var(--fill-color);\n",
              "    height: 32px;\n",
              "    padding: 0;\n",
              "    width: 32px;\n",
              "  }\n",
              "\n",
              "  .colab-df-quickchart:hover {\n",
              "    background-color: var(--hover-bg-color);\n",
              "    box-shadow: 0 1px 2px rgba(60, 64, 67, 0.3), 0 1px 3px 1px rgba(60, 64, 67, 0.15);\n",
              "    fill: var(--button-hover-fill-color);\n",
              "  }\n",
              "\n",
              "  .colab-df-quickchart-complete:disabled,\n",
              "  .colab-df-quickchart-complete:disabled:hover {\n",
              "    background-color: var(--disabled-bg-color);\n",
              "    fill: var(--disabled-fill-color);\n",
              "    box-shadow: none;\n",
              "  }\n",
              "\n",
              "  .colab-df-spinner {\n",
              "    border: 2px solid var(--fill-color);\n",
              "    border-color: transparent;\n",
              "    border-bottom-color: var(--fill-color);\n",
              "    animation:\n",
              "      spin 1s steps(1) infinite;\n",
              "  }\n",
              "\n",
              "  @keyframes spin {\n",
              "    0% {\n",
              "      border-color: transparent;\n",
              "      border-bottom-color: var(--fill-color);\n",
              "      border-left-color: var(--fill-color);\n",
              "    }\n",
              "    20% {\n",
              "      border-color: transparent;\n",
              "      border-left-color: var(--fill-color);\n",
              "      border-top-color: var(--fill-color);\n",
              "    }\n",
              "    30% {\n",
              "      border-color: transparent;\n",
              "      border-left-color: var(--fill-color);\n",
              "      border-top-color: var(--fill-color);\n",
              "      border-right-color: var(--fill-color);\n",
              "    }\n",
              "    40% {\n",
              "      border-color: transparent;\n",
              "      border-right-color: var(--fill-color);\n",
              "      border-top-color: var(--fill-color);\n",
              "    }\n",
              "    60% {\n",
              "      border-color: transparent;\n",
              "      border-right-color: var(--fill-color);\n",
              "    }\n",
              "    80% {\n",
              "      border-color: transparent;\n",
              "      border-right-color: var(--fill-color);\n",
              "      border-bottom-color: var(--fill-color);\n",
              "    }\n",
              "    90% {\n",
              "      border-color: transparent;\n",
              "      border-bottom-color: var(--fill-color);\n",
              "    }\n",
              "  }\n",
              "</style>\n",
              "\n",
              "  <script>\n",
              "    async function quickchart(key) {\n",
              "      const quickchartButtonEl =\n",
              "        document.querySelector('#' + key + ' button');\n",
              "      quickchartButtonEl.disabled = true;  // To prevent multiple clicks.\n",
              "      quickchartButtonEl.classList.add('colab-df-spinner');\n",
              "      try {\n",
              "        const charts = await google.colab.kernel.invokeFunction(\n",
              "            'suggestCharts', [key], {});\n",
              "      } catch (error) {\n",
              "        console.error('Error during call to suggestCharts:', error);\n",
              "      }\n",
              "      quickchartButtonEl.classList.remove('colab-df-spinner');\n",
              "      quickchartButtonEl.classList.add('colab-df-quickchart-complete');\n",
              "    }\n",
              "    (() => {\n",
              "      let quickchartButtonEl =\n",
              "        document.querySelector('#df-312b86ff-b3eb-4844-bfd2-f9457d7a2751 button');\n",
              "      quickchartButtonEl.style.display =\n",
              "        google.colab.kernel.accessAllowed ? 'block' : 'none';\n",
              "    })();\n",
              "  </script>\n",
              "</div>\n",
              "\n",
              "  <div id=\"id_9ea0d376-f81b-4251-9fcb-31a0c9829c5d\">\n",
              "    <style>\n",
              "      .colab-df-generate {\n",
              "        background-color: #E8F0FE;\n",
              "        border: none;\n",
              "        border-radius: 50%;\n",
              "        cursor: pointer;\n",
              "        display: none;\n",
              "        fill: #1967D2;\n",
              "        height: 32px;\n",
              "        padding: 0 0 0 0;\n",
              "        width: 32px;\n",
              "      }\n",
              "\n",
              "      .colab-df-generate:hover {\n",
              "        background-color: #E2EBFA;\n",
              "        box-shadow: 0px 1px 2px rgba(60, 64, 67, 0.3), 0px 1px 3px 1px rgba(60, 64, 67, 0.15);\n",
              "        fill: #174EA6;\n",
              "      }\n",
              "\n",
              "      [theme=dark] .colab-df-generate {\n",
              "        background-color: #3B4455;\n",
              "        fill: #D2E3FC;\n",
              "      }\n",
              "\n",
              "      [theme=dark] .colab-df-generate:hover {\n",
              "        background-color: #434B5C;\n",
              "        box-shadow: 0px 1px 3px 1px rgba(0, 0, 0, 0.15);\n",
              "        filter: drop-shadow(0px 1px 2px rgba(0, 0, 0, 0.3));\n",
              "        fill: #FFFFFF;\n",
              "      }\n",
              "    </style>\n",
              "    <button class=\"colab-df-generate\" onclick=\"generateWithVariable('results_df')\"\n",
              "            title=\"Generate code using this dataframe.\"\n",
              "            style=\"display:none;\">\n",
              "\n",
              "  <svg xmlns=\"http://www.w3.org/2000/svg\" height=\"24px\"viewBox=\"0 0 24 24\"\n",
              "       width=\"24px\">\n",
              "    <path d=\"M7,19H8.4L18.45,9,17,7.55,7,17.6ZM5,21V16.75L18.45,3.32a2,2,0,0,1,2.83,0l1.4,1.43a1.91,1.91,0,0,1,.58,1.4,1.91,1.91,0,0,1-.58,1.4L9.25,21ZM18.45,9,17,7.55Zm-12,3A5.31,5.31,0,0,0,4.9,8.1,5.31,5.31,0,0,0,1,6.5,5.31,5.31,0,0,0,4.9,4.9,5.31,5.31,0,0,0,6.5,1,5.31,5.31,0,0,0,8.1,4.9,5.31,5.31,0,0,0,12,6.5,5.46,5.46,0,0,0,6.5,12Z\"/>\n",
              "  </svg>\n",
              "    </button>\n",
              "    <script>\n",
              "      (() => {\n",
              "      const buttonEl =\n",
              "        document.querySelector('#id_9ea0d376-f81b-4251-9fcb-31a0c9829c5d button.colab-df-generate');\n",
              "      buttonEl.style.display =\n",
              "        google.colab.kernel.accessAllowed ? 'block' : 'none';\n",
              "\n",
              "      buttonEl.onclick = () => {\n",
              "        google.colab.notebook.generateWithVariable('results_df');\n",
              "      }\n",
              "      })();\n",
              "    </script>\n",
              "  </div>\n",
              "\n",
              "    </div>\n",
              "  </div>\n"
            ],
            "application/vnd.google.colaboratory.intrinsic+json": {
              "type": "dataframe",
              "variable_name": "results_df",
              "summary": "{\n  \"name\": \"results_df\",\n  \"rows\": 18,\n  \"fields\": [\n    {\n      \"column\": \"Threshold\",\n      \"properties\": {\n        \"dtype\": \"number\",\n        \"std\": 0.26692695630078284,\n        \"min\": 0.1,\n        \"max\": 0.9500000000000003,\n        \"num_unique_values\": 18,\n        \"samples\": [\n          0.1,\n          0.15000000000000002,\n          0.5000000000000001\n        ],\n        \"semantic_type\": \"\",\n        \"description\": \"\"\n      }\n    },\n    {\n      \"column\": \"Precision\",\n      \"properties\": {\n        \"dtype\": \"number\",\n        \"std\": 0.22230184688346027,\n        \"min\": 0.0,\n        \"max\": 1.0,\n        \"num_unique_values\": 18,\n        \"samples\": [\n          0.6709558823529411,\n          0.7065868263473054,\n          0.8787878787878788\n        ],\n        \"semantic_type\": \"\",\n        \"description\": \"\"\n      }\n    },\n    {\n      \"column\": \"Recall\",\n      \"properties\": {\n        \"dtype\": \"number\",\n        \"std\": 0.3167986406398615,\n        \"min\": 0.0,\n        \"max\": 0.948051948051948,\n        \"num_unique_values\": 18,\n        \"samples\": [\n          0.948051948051948,\n          0.9194805194805195,\n          0.8285714285714286\n        ],\n        \"semantic_type\": \"\",\n        \"description\": \"\"\n      }\n    },\n    {\n      \"column\": \"F1\",\n      \"properties\": {\n        \"dtype\": \"number\",\n        \"std\": 0.28478754871103695,\n        \"min\": 0.0,\n        \"max\": 0.8537859007832898,\n        \"num_unique_values\": 18,\n        \"samples\": [\n          0.7857911733046287,\n          0.7990970654627539,\n          0.8529411764705883\n        ],\n        \"semantic_type\": \"\",\n        \"description\": \"\"\n      }\n    }\n  ]\n}"
            }
          },
          "metadata": {},
          "execution_count": 15
        }
      ]
    },
    {
      "cell_type": "code",
      "source": [
        "min_precision = 0.94\n",
        "best_row = visualize_results(threshold_results, curve_data, min_precision=min_precision)"
      ],
      "metadata": {
        "id": "4NjUE6ZbNoKE",
        "colab": {
          "base_uri": "https://localhost:8080/",
          "height": 1000
        },
        "outputId": "3769d33c-b5b1-42fd-a6c5-1f9d896fd94e"
      },
      "execution_count": null,
      "outputs": [
        {
          "output_type": "display_data",
          "data": {
            "text/plain": [
              "<Figure size 1200x1000 with 2 Axes>"
            ],
            "image/png": "[encoded data removed]"
          },
          "metadata": {}
        }
      ]
    },
    {
      "cell_type": "markdown",
      "source": [
        "---\n",
        "\n",
        "## 💡 Vấn đề recap lại:\n",
        "**Muốn chọn threshold sao cho Precision rất cao, chấp nhận Recall thấp.**\n",
        "\n",
        "---\n",
        "\n",
        "## ✅ Các cách **chọn threshold hợp lý** (dựa trên toán + thống kê):\n",
        "\n",
        "### 🔹 1. **Precision-Recall Tradeoff Curve + Constraint**\n",
        "\n",
        "Ta đặt ra 1 **ngưỡng precision tối thiểu**, ví dụ:\n",
        "\n",
        "> 🧠 “Tôi chỉ chấp nhận gửi tin nhắn nếu precision ≥ 0.95”\n",
        "\n",
        "\n",
        "→ Quét toàn bộ các threshold, lọc ra **những ngưỡng có precision ≥ 0.95**, rồi **chọn threshold có recall cao nhất trong số đó**.\n",
        "\n",
        "```python\n",
        "# Python logic giả định\n",
        "filtered = df[df[\"Precision\"] >= 0.95]\n",
        "best_threshold = filtered.loc[filtered[\"Recall\"].idxmax()]\n",
        "```\n",
        "\n",
        "→ Đây là một **cách khoa học**, vừa đảm bảo **độ chính xác**, vừa cố gắng **bắt được càng nhiều càng tốt**.\n",
        "\n",
        "---\n",
        "\n",
        "### 🔹 2. **Maximizing F-beta Score** (có trọng số nghiêng về Precision)\n",
        "\n",
        "Đây là phiên bản \"tùy biến\" của F1 score:\n",
        "\n",
        "\\[\n",
        "F_\\beta = (1 + \\beta^2) \\cdot \\frac{Precision \\cdot Recall}{(\\beta^2 \\cdot Precision) + Recall}\n",
        "\\]\n",
        "\n",
        "- Nếu **β < 1**, bạn **ưu tiên Precision hơn Recall**\n",
        "- Nếu **β = 1**, bạn cân bằng\n",
        "- Nếu **β > 1**, bạn nghiêng về Recall\n",
        "\n",
        "👉 Trong trường hợp của ông:\n",
        "> Dùng **F<sub>0.5</sub>** score — nghĩa là **ưu tiên Precision**\n",
        "\n",
        "```python\n",
        "# Tính F0.5\n",
        "df[\"F0.5\"] = (1.25 * df[\"Precision\"] * df[\"Recall\"]) / (0.25 * df[\"Precision\"] + df[\"Recall\"])\n",
        "best_threshold = df.loc[df[\"F0.5\"].idxmax()]\n",
        "```\n",
        "\n",
        "---\n",
        "\n",
        "### 🔹 3. **Cost-sensitive optimization (có trọng số lỗi)**\n",
        "\n",
        "Nếu hệ thống có **mức độ nghiêm trọng khác nhau giữa FP và FN**, ta gán **trọng số (cost)** cho từng lỗi:\n",
        "\n",
        "- FP (bắt nhầm) = 10 điểm phạt ❌\n",
        "- FN (bỏ sót) = 1 điểm phạt ⚠️\n",
        "\n",
        "Sau đó tính \"expected cost\" tại mỗi threshold:\n",
        "\n",
        "\\[\n",
        "\\text{Cost} = FP \\cdot 10 + FN \\cdot 1\n",
        "\\]\n",
        "\n",
        "→ Chọn threshold có **chi phí thấp nhất**  \n",
        "Cái này cần model output trên test set (TP, FP, FN) — nếu ông cần tui code giúp luôn được.\n",
        "\n",
        "---\n",
        "\n",
        "## 🔥 Gợi ý dùng cho dự án ông:\n",
        "\n",
        "> 💡 **Dùng phương pháp 1 + 2 kết hợp**:\n",
        "- **Bước 1**: Lọc threshold có **Precision ≥ 0.95**\n",
        "- **Bước 2**: Trong đó, chọn threshold có **F<sub>0.5</sub>** cao nhất\n",
        "\n",
        "→ Đây là cách đảm bảo vừa **chắc chắn**, vừa **hợp lý về mặt toán học**, mà không quá cảm tính.\n",
        "\n",
        "---\n",
        "\n",
        "Muốn tui làm code Python demo full không? Hoặc vẽ luôn chart PR theo threshold + F0.5 để ông chọn trực quan hơn? 🤙"
      ],
      "metadata": {
        "id": "xo2Dl9ReQziH"
      }
    },
    {
      "cell_type": "code",
      "source": [
        "# Tính F0.5\n",
        "def compute_fbeta(df, beta):\n",
        "    beta_squared = beta ** 2\n",
        "    numerator = (1 + beta_squared) * df[\"Precision\"] * df[\"Recall\"]\n",
        "    denominator = (beta_squared * df[\"Precision\"]) + df[\"Recall\"]\n",
        "    return numerator / denominator\n",
        "\n",
        "# Ví dụ dùng:\n",
        "results_df[\"F_beta\"] = compute_fbeta(results_df, beta=0.1)\n",
        "best_threshold = results_df.loc[results_df[\"F_beta\"].idxmax()]\n",
        "best_threshold"
      ],
      "metadata": {
        "colab": {
          "base_uri": "https://localhost:8080/",
          "height": 272
        },
        "id": "keGC2HQpQz8e",
        "outputId": "8153d4a3-091e-4c80-99b6-986bf8fc7024"
      },
      "execution_count": null,
      "outputs": [
        {
          "output_type": "execute_result",
          "data": {
            "text/plain": [
              "Threshold    0.750000\n",
              "Precision    0.946721\n",
              "Recall       0.600000\n",
              "F1           0.734499\n",
              "F0.5         0.848641\n",
              "F_beta       0.941335\n",
              "Name: 13, dtype: float64"
            ],
            "text/html": [
              "<div>\n",
              "<style scoped>\n",
              "    .dataframe tbody tr th:only-of-type {\n",
              "        vertical-align: middle;\n",
              "    }\n",
              "\n",
              "    .dataframe tbody tr th {\n",
              "        vertical-align: top;\n",
              "    }\n",
              "\n",
              "    .dataframe thead th {\n",
              "        text-align: right;\n",
              "    }\n",
              "</style>\n",
              "<table border=\"1\" class=\"dataframe\">\n",
              "  <thead>\n",
              "    <tr style=\"text-align: right;\">\n",
              "      <th></th>\n",
              "      <th>13</th>\n",
              "    </tr>\n",
              "  </thead>\n",
              "  <tbody>\n",
              "    <tr>\n",
              "      <th>Threshold</th>\n",
              "      <td>0.750000</td>\n",
              "    </tr>\n",
              "    <tr>\n",
              "      <th>Precision</th>\n",
              "      <td>0.946721</td>\n",
              "    </tr>\n",
              "    <tr>\n",
              "      <th>Recall</th>\n",
              "      <td>0.600000</td>\n",
              "    </tr>\n",
              "    <tr>\n",
              "      <th>F1</th>\n",
              "      <td>0.734499</td>\n",
              "    </tr>\n",
              "    <tr>\n",
              "      <th>F0.5</th>\n",
              "      <td>0.848641</td>\n",
              "    </tr>\n",
              "    <tr>\n",
              "      <th>F_beta</th>\n",
              "      <td>0.941335</td>\n",
              "    </tr>\n",
              "  </tbody>\n",
              "</table>\n",
              "</div><br><label><b>dtype:</b> float64</label>"
            ]
          },
          "metadata": {},
          "execution_count": 28
        }
      ]
    },
    {
      "cell_type": "code",
      "source": [
        "best_row = visualize_results(threshold_results, curve_data, min_precision=0.946)"
      ],
      "metadata": {
        "colab": {
          "base_uri": "https://localhost:8080/",
          "height": 1000
        },
        "id": "EniNVUqsRc-W",
        "outputId": "2984b006-23d8-49e7-ea83-5f92df627395"
      },
      "execution_count": null,
      "outputs": [
        {
          "output_type": "display_data",
          "data": {
            "text/plain": [
              "<Figure size 1200x1000 with 2 Axes>"
            ],
            "image/png": "[encoded data removed]"
          },
          "metadata": {}
        }
      ]
    },
    {
      "cell_type": "code",
      "source": [
        "from ultralytics import YOLO\n",
        "# Load a model\n",
        "model = YOLO(\"/content/drive/MyDrive/AIP491/Training/yolo_helmet/weight/ver_1.pt\")  # load a pretrained model (recommended for training)\n",
        "# Train the model with 2 GPUs\n",
        "results = model.val(data=\"/content/drive/MyDrive/AIP491/Training/yolo_helmet/dataset_mixup.yaml\", imgsz=1240)"
      ],
      "metadata": {
        "colab": {
          "base_uri": "https://localhost:8080/"
        },
        "id": "ZK7-VlwHSJPn",
        "outputId": "6c9a4ae0-e884-4102-ef13-8e365f100632"
      },
      "execution_count": null,
      "outputs": [
        {
          "output_type": "stream",
          "name": "stdout",
          "text": [
            "Creating new Ultralytics Settings v0.0.6 file ✅ \n",
            "View Ultralytics Settings with 'yolo settings' or at '/root/.config/Ultralytics/settings.json'\n",
            "Update Settings with 'yolo settings key=value', i.e. 'yolo settings runs_dir=path/to/dir'. For help see https://docs.ultralytics.com/quickstart/#ultralytics-settings.\n",
            "WARNING ⚠️ imgsz=[1240] must be multiple of max stride 32, updating to [1248]\n",
            "Ultralytics 8.3.93 🚀 Python-3.11.12 torch-2.6.0+cu124 CUDA:0 (Tesla T4, 15095MiB)\n",
            "YOLO11n summary (fused): 100 layers, 2,582,932 parameters, 0 gradients\n",
            "Downloading https://ultralytics.com/assets/Arial.ttf to '/root/.config/Ultralytics/Arial.ttf'...\n"
          ]
        },
        {
          "output_type": "stream",
          "name": "stderr",
          "text": [
            "100%|██████████| 755k/755k [00:00<00:00, 24.4MB/s]\n",
            "\u001b[34m\u001b[1mval: \u001b[0mScanning /content/drive/.shortcut-targets-by-id/1t74jmV7PvXPifc2SYrjAP0A2Ztqq26VA/AIP491/Training/yolo_helmet/data_mixup/labels/val.cache... 305 images, 0 backgrounds, 0 corrupt: 100%|██████████| 305/305 [00:00<?, ?it/s]\n",
            "                 Class     Images  Instances      Box(P          R      mAP50  mAP50-95): 100%|██████████| 20/20 [04:41<00:00, 14.08s/it]\n"
          ]
        },
        {
          "output_type": "stream",
          "name": "stdout",
          "text": [
            "                   all        305       3548      0.761      0.714       0.77      0.573\n",
            "                  moto        305       1161      0.907      0.818      0.902      0.763\n",
            "                helmet        286       1197       0.65      0.848      0.831      0.646\n",
            "             no_helmet        298        403       0.67      0.253      0.404      0.262\n",
            "         license_plate        284        787      0.818      0.936      0.944      0.621\n",
            "Speed: 0.4ms preprocess, 9.9ms inference, 0.0ms loss, 1.6ms postprocess per image\n",
            "Results saved to \u001b[1m/content/drive/.shortcut-targets-by-id/1t74jmV7PvXPifc2SYrjAP0A2Ztqq26VA/AIP491/Training/yolo_helmet/ultralytics/runs/detect/val10\u001b[0m\n"
          ]
        }
      ]
    },
    {
      "cell_type": "code",
      "source": [
        "from ultralytics import YOLO\n",
        "# Load a model\n",
        "model = YOLO(\"/content/drive/MyDrive/AIP491/Training/yolo_helmet/weight/ver_2.pt\")  # load a pretrained model (recommended for training)\n",
        "# Train the model with 2 GPUs\n",
        "results = model.val(data=\"/content/drive/MyDrive/AIP491/Training/yolo_helmet/dataset_mixup.yaml\", imgsz=1240)"
      ],
      "metadata": {
        "colab": {
          "base_uri": "https://localhost:8080/"
        },
        "id": "q-VSokkjWVl-",
        "outputId": "63f6ad4d-9018-4ca7-f84d-3b9a3179ee80"
      },
      "execution_count": null,
      "outputs": [
        {
          "output_type": "stream",
          "name": "stdout",
          "text": [
            "WARNING ⚠️ imgsz=[1240] must be multiple of max stride 32, updating to [1248]\n",
            "Ultralytics 8.3.93 🚀 Python-3.11.12 torch-2.6.0+cu124 CUDA:0 (Tesla T4, 15095MiB)\n",
            "YOLO11n summary (fused): 100 layers, 2,582,932 parameters, 0 gradients\n"
          ]
        },
        {
          "output_type": "stream",
          "name": "stderr",
          "text": [
            "\u001b[34m\u001b[1mval: \u001b[0mScanning /content/drive/.shortcut-targets-by-id/1t74jmV7PvXPifc2SYrjAP0A2Ztqq26VA/AIP491/Training/yolo_helmet/data_mixup/labels/val.cache... 305 images, 0 backgrounds, 0 corrupt: 100%|██████████| 305/305 [00:00<?, ?it/s]\n",
            "                 Class     Images  Instances      Box(P          R      mAP50  mAP50-95): 100%|██████████| 20/20 [00:11<00:00,  1.80it/s]\n"
          ]
        },
        {
          "output_type": "stream",
          "name": "stdout",
          "text": [
            "                   all        305       3548      0.931      0.917      0.955      0.883\n",
            "                  moto        305       1161      0.984      0.982      0.994      0.985\n",
            "                helmet        286       1197      0.892      0.963      0.969      0.901\n",
            "             no_helmet        298        403      0.883      0.747      0.866       0.73\n",
            "         license_plate        284        787      0.964      0.977      0.993      0.916\n",
            "Speed: 4.3ms preprocess, 8.2ms inference, 0.0ms loss, 2.3ms postprocess per image\n",
            "Results saved to \u001b[1m/content/drive/.shortcut-targets-by-id/1t74jmV7PvXPifc2SYrjAP0A2Ztqq26VA/AIP491/Training/yolo_helmet/ultralytics/runs/detect/val11\u001b[0m\n"
          ]
        }
      ]
    },
    {
      "cell_type": "code",
      "source": [
        "from ultralytics import YOLO\n",
        "# Load a model\n",
        "model = YOLO(\"/content/drive/MyDrive/AIP491/Training/yolo_helmet/weight/ver_3.pt\")  # load a pretrained model (recommended for training)\n",
        "# Train the model with 2 GPUs\n",
        "results = model.val(data=\"/content/drive/MyDrive/AIP491/Training/yolo_helmet/dataset_mixup.yaml\", imgsz=1240)"
      ],
      "metadata": {
        "colab": {
          "base_uri": "https://localhost:8080/"
        },
        "id": "T_VLt-nTWYGr",
        "outputId": "689cbb61-9545-411c-e3ac-6990fc139334"
      },
      "execution_count": null,
      "outputs": [
        {
          "output_type": "stream",
          "name": "stdout",
          "text": [
            "WARNING ⚠️ imgsz=[1240] must be multiple of max stride 32, updating to [1248]\n",
            "Ultralytics 8.3.93 🚀 Python-3.11.12 torch-2.6.0+cu124 CUDA:0 (Tesla T4, 15095MiB)\n",
            "YOLO11n summary (fused): 100 layers, 2,582,932 parameters, 0 gradients\n"
          ]
        },
        {
          "output_type": "stream",
          "name": "stderr",
          "text": [
            "\u001b[34m\u001b[1mval: \u001b[0mScanning /content/drive/.shortcut-targets-by-id/1t74jmV7PvXPifc2SYrjAP0A2Ztqq26VA/AIP491/Training/yolo_helmet/data_mixup/labels/val.cache... 305 images, 0 backgrounds, 0 corrupt: 100%|██████████| 305/305 [00:00<?, ?it/s]\n",
            "                 Class     Images  Instances      Box(P          R      mAP50  mAP50-95): 100%|██████████| 20/20 [00:10<00:00,  1.83it/s]\n"
          ]
        },
        {
          "output_type": "stream",
          "name": "stdout",
          "text": [
            "                   all        305       3548      0.915      0.922      0.961      0.787\n",
            "                  moto        305       1161      0.925      0.978      0.989      0.857\n",
            "                helmet        286       1197      0.906      0.938      0.968       0.81\n",
            "             no_helmet        298        403      0.893      0.828      0.903      0.665\n",
            "         license_plate        284        787      0.937      0.944      0.984      0.814\n",
            "Speed: 5.0ms preprocess, 8.2ms inference, 0.0ms loss, 2.6ms postprocess per image\n",
            "Results saved to \u001b[1m/content/drive/.shortcut-targets-by-id/1t74jmV7PvXPifc2SYrjAP0A2Ztqq26VA/AIP491/Training/yolo_helmet/ultralytics/runs/detect/val12\u001b[0m\n"
          ]
        }
      ]
    },
    {
      "cell_type": "code",
      "source": [
        "from ultralytics import YOLO\n",
        "# Load a model\n",
        "model = YOLO(\"/content/drive/MyDrive/AIP491/Training/yolo_helmet/ultralytics/runs/detect/train49/weights/best.pt\")  # load a pretrained model (recommended for training)\n",
        "# Train the model with 2 GPUs\n",
        "results = model.val(data=\"/content/drive/MyDrive/AIP491/Training/yolo_helmet/dataset_mixup.yaml\", imgsz=1240)"
      ],
      "metadata": {
        "colab": {
          "base_uri": "https://localhost:8080/"
        },
        "id": "ZVW9HHukWZKS",
        "outputId": "e50b5f40-477a-4862-ee6e-11da7ea1beb5"
      },
      "execution_count": null,
      "outputs": [
        {
          "output_type": "stream",
          "name": "stdout",
          "text": [
            "WARNING ⚠️ imgsz=[1240] must be multiple of max stride 32, updating to [1248]\n",
            "Ultralytics 8.3.93 🚀 Python-3.11.12 torch-2.6.0+cu124 CUDA:0 (Tesla T4, 15095MiB)\n",
            "YOLO11n summary (fused): 100 layers, 2,582,932 parameters, 0 gradients\n"
          ]
        },
        {
          "output_type": "stream",
          "name": "stderr",
          "text": [
            "\u001b[34m\u001b[1mval: \u001b[0mScanning /content/drive/.shortcut-targets-by-id/1t74jmV7PvXPifc2SYrjAP0A2Ztqq26VA/AIP491/Training/yolo_helmet/data_mixup/labels/val.cache... 305 images, 0 backgrounds, 0 corrupt: 100%|██████████| 305/305 [00:00<?, ?it/s]\n",
            "                 Class     Images  Instances      Box(P          R      mAP50  mAP50-95): 100%|██████████| 20/20 [00:14<00:00,  1.41it/s]\n"
          ]
        },
        {
          "output_type": "stream",
          "name": "stdout",
          "text": [
            "                   all        305       3548      0.911      0.914      0.955      0.767\n",
            "                  moto        305       1161      0.924      0.988      0.988      0.829\n",
            "                helmet        286       1197      0.907      0.936      0.967      0.785\n",
            "             no_helmet        298        403       0.86      0.792       0.88      0.645\n",
            "         license_plate        284        787      0.955      0.939      0.984      0.809\n",
            "Speed: 5.8ms preprocess, 8.2ms inference, 0.0ms loss, 3.3ms postprocess per image\n",
            "Results saved to \u001b[1m/content/drive/.shortcut-targets-by-id/1t74jmV7PvXPifc2SYrjAP0A2Ztqq26VA/AIP491/Training/yolo_helmet/ultralytics/runs/detect/val13\u001b[0m\n"
          ]
        }
      ]
    },
    {
      "cell_type": "code",
      "source": [
        "from ultralytics import YOLO\n",
        "# Load a model\n",
        "model = YOLO(\"/content/drive/MyDrive/AIP491/Training/yolo_helmet/ultralytics/runs/detect/train50/weights/best.pt\")  # load a pretrained model (recommended for training)\n",
        "# Train the model with 2 GPUs\n",
        "results = model.val(data=\"/content/drive/MyDrive/AIP491/Training/yolo_helmet/dataset_mixup.yaml\", imgsz=1240)"
      ],
      "metadata": {
        "colab": {
          "base_uri": "https://localhost:8080/"
        },
        "id": "Gl4Cb7pZYlk6",
        "outputId": "dee3dca6-2995-46c3-f483-afb310e43878"
      },
      "execution_count": null,
      "outputs": [
        {
          "output_type": "stream",
          "name": "stdout",
          "text": [
            "WARNING ⚠️ imgsz=[1240] must be multiple of max stride 32, updating to [1248]\n",
            "Ultralytics 8.3.93 🚀 Python-3.11.12 torch-2.6.0+cu124 CUDA:0 (Tesla T4, 15095MiB)\n",
            "YOLO11n summary (fused): 100 layers, 2,582,932 parameters, 0 gradients\n"
          ]
        },
        {
          "output_type": "stream",
          "name": "stderr",
          "text": [
            "\u001b[34m\u001b[1mval: \u001b[0mScanning /content/drive/.shortcut-targets-by-id/1t74jmV7PvXPifc2SYrjAP0A2Ztqq26VA/AIP491/Training/yolo_helmet/data_mixup/labels/val.cache... 305 images, 0 backgrounds, 0 corrupt: 100%|██████████| 305/305 [00:00<?, ?it/s]\n",
            "                 Class     Images  Instances      Box(P          R      mAP50  mAP50-95): 100%|██████████| 20/20 [00:12<00:00,  1.61it/s]\n"
          ]
        },
        {
          "output_type": "stream",
          "name": "stdout",
          "text": [
            "                   all        305       3548      0.916      0.907      0.952      0.784\n",
            "                  moto        305       1161      0.939      0.983       0.99       0.87\n",
            "                helmet        286       1197      0.888      0.952      0.965      0.802\n",
            "             no_helmet        298        403      0.892      0.757      0.871      0.651\n",
            "         license_plate        284        787      0.946      0.934      0.984      0.814\n",
            "Speed: 4.5ms preprocess, 8.6ms inference, 0.0ms loss, 2.9ms postprocess per image\n",
            "Results saved to \u001b[1m/content/drive/.shortcut-targets-by-id/1t74jmV7PvXPifc2SYrjAP0A2Ztqq26VA/AIP491/Training/yolo_helmet/ultralytics/runs/detect/val14\u001b[0m\n"
          ]
        }
      ]
    },
    {
      "cell_type": "code",
      "source": [
        "from ultralytics import YOLO\n",
        "# Load a model\n",
        "model = YOLO(\"/content/drive/MyDrive/AIP491/Training/yolo_helmet/ultralytics/runs/detect/train51/weights/best.pt\")  # load a pretrained model (recommended for training)\n",
        "# Train the model with 2 GPUs\n",
        "results = model.val(data=\"/content/drive/MyDrive/AIP491/Training/yolo_helmet/dataset_mixup.yaml\", imgsz=1240)"
      ],
      "metadata": {
        "colab": {
          "base_uri": "https://localhost:8080/"
        },
        "id": "W-WTMEBEYngZ",
        "outputId": "b54b7fab-5ff3-4b78-c95f-02277c790a4e"
      },
      "execution_count": null,
      "outputs": [
        {
          "output_type": "stream",
          "name": "stdout",
          "text": [
            "WARNING ⚠️ imgsz=[1240] must be multiple of max stride 32, updating to [1248]\n",
            "Ultralytics 8.3.93 🚀 Python-3.11.12 torch-2.6.0+cu124 CUDA:0 (Tesla T4, 15095MiB)\n",
            "YOLO11n summary (fused): 100 layers, 2,582,932 parameters, 0 gradients\n"
          ]
        },
        {
          "output_type": "stream",
          "name": "stderr",
          "text": [
            "\u001b[34m\u001b[1mval: \u001b[0mScanning /content/drive/.shortcut-targets-by-id/1t74jmV7PvXPifc2SYrjAP0A2Ztqq26VA/AIP491/Training/yolo_helmet/data_mixup/labels/val.cache... 305 images, 0 backgrounds, 0 corrupt: 100%|██████████| 305/305 [00:00<?, ?it/s]\n",
            "                 Class     Images  Instances      Box(P          R      mAP50  mAP50-95): 100%|██████████| 20/20 [00:10<00:00,  1.83it/s]\n"
          ]
        },
        {
          "output_type": "stream",
          "name": "stdout",
          "text": [
            "                   all        305       3548      0.934      0.908      0.963      0.784\n",
            "                  moto        305       1161      0.954      0.969      0.991      0.842\n",
            "                helmet        286       1197      0.916       0.93      0.971      0.802\n",
            "             no_helmet        298        403      0.899      0.797      0.902      0.661\n",
            "         license_plate        284        787      0.965      0.935      0.987      0.832\n",
            "Speed: 4.6ms preprocess, 8.4ms inference, 0.0ms loss, 2.3ms postprocess per image\n",
            "Results saved to \u001b[1m/content/drive/.shortcut-targets-by-id/1t74jmV7PvXPifc2SYrjAP0A2Ztqq26VA/AIP491/Training/yolo_helmet/ultralytics/runs/detect/val15\u001b[0m\n"
          ]
        }
      ]
    },
    {
      "cell_type": "code",
      "source": [],
      "metadata": {
        "id": "jaCXD3iZYvgh"
      },
      "execution_count": null,
      "outputs": []
    }
  ]
}