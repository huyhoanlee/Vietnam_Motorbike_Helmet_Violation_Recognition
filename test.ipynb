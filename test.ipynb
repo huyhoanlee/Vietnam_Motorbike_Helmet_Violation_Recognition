{
 "cells": [
  {
   "cell_type": "code",
   "execution_count": 5,
   "metadata": {},
   "outputs": [],
   "source": [
    "from src.config import ModelConfig\n",
    "from ultralytics import YOLO\n",
    "import cv2"
   ]
  },
  {
   "cell_type": "code",
   "execution_count": null,
   "metadata": {},
   "outputs": [],
   "source": [
    "detect_model = YOLO(ModelConfig.DETECT_WEIGHT_PATH, verbose=False)"
   ]
  },
  {
   "cell_type": "code",
   "execution_count": 8,
   "metadata": {},
   "outputs": [],
   "source": [
    "origin_frame = cv2.imread(\"C:/Users/hoang/studyAI/fpt/code/crawl_data/Lê Hồng Phong hướng Hai Bà Trưng/CAM013_20250213_1513_Mua_990.jpg\")"
   ]
  },
  {
   "cell_type": "code",
   "execution_count": 17,
   "metadata": {},
   "outputs": [],
   "source": [
    "results = detect_model([origin_frame, origin_frame], conf=0.25, verbose = False)"
   ]
  },
  {
   "cell_type": "code",
   "execution_count": 18,
   "metadata": {},
   "outputs": [
    {
     "data": {
      "text/plain": [
       "list"
      ]
     },
     "execution_count": 18,
     "metadata": {},
     "output_type": "execute_result"
    }
   ],
   "source": [
    "type(results)"
   ]
  },
  {
   "cell_type": "code",
   "execution_count": 20,
   "metadata": {},
   "outputs": [
    {
     "data": {
      "text/plain": [
       "[ultralytics.engine.results.Results object with attributes:\n",
       " \n",
       " boxes: ultralytics.engine.results.Boxes object\n",
       " keypoints: None\n",
       " masks: None\n",
       " names: {0: 'moto', 1: 'helmet', 2: 'no_helmet', 3: 'license_plate'}\n",
       " obb: None\n",
       " orig_img: array([[[ 10,  16,  11],\n",
       "         [ 10,  16,  11],\n",
       "         [ 11,  17,  12],\n",
       "         ...,\n",
       "         [ 44,  65,  50],\n",
       "         [ 65,  88,  73],\n",
       "         [ 71,  94,  79]],\n",
       " \n",
       "        [[ 10,  16,  11],\n",
       "         [ 10,  16,  11],\n",
       "         [ 11,  17,  12],\n",
       "         ...,\n",
       "         [ 42,  63,  48],\n",
       "         [ 64,  87,  72],\n",
       "         [ 74,  97,  82]],\n",
       " \n",
       "        [[ 10,  16,  11],\n",
       "         [ 10,  16,  11],\n",
       "         [ 11,  17,  12],\n",
       "         ...,\n",
       "         [ 58,  79,  64],\n",
       "         [ 67,  90,  75],\n",
       "         [ 57,  80,  65]],\n",
       " \n",
       "        ...,\n",
       " \n",
       "        [[ 89,  91,  91],\n",
       "         [ 84,  86,  86],\n",
       "         [ 86,  88,  88],\n",
       "         ...,\n",
       "         [ 40,  44,  38],\n",
       "         [ 37,  42,  33],\n",
       "         [ 36,  41,  32]],\n",
       " \n",
       "        [[ 87,  89,  89],\n",
       "         [ 80,  82,  82],\n",
       "         [ 80,  82,  82],\n",
       "         ...,\n",
       "         [ 66,  70,  64],\n",
       "         [ 79,  84,  75],\n",
       "         [ 67,  72,  63]],\n",
       " \n",
       "        [[ 81,  83,  83],\n",
       "         [ 83,  85,  85],\n",
       "         [ 92,  94,  94],\n",
       "         ...,\n",
       "         [120, 124, 118],\n",
       "         [151, 156, 147],\n",
       "         [125, 130, 121]]], dtype=uint8)\n",
       " orig_shape: (720, 1280)\n",
       " path: 'image0.jpg'\n",
       " probs: None\n",
       " save_dir: None\n",
       " speed: {'preprocess': 107.99658298492432, 'inference': 726.318359375, 'postprocess': 42.12653636932373},\n",
       " ultralytics.engine.results.Results object with attributes:\n",
       " \n",
       " boxes: ultralytics.engine.results.Boxes object\n",
       " keypoints: None\n",
       " masks: None\n",
       " names: {0: 'moto', 1: 'helmet', 2: 'no_helmet', 3: 'license_plate'}\n",
       " obb: None\n",
       " orig_img: array([[[ 10,  16,  11],\n",
       "         [ 10,  16,  11],\n",
       "         [ 11,  17,  12],\n",
       "         ...,\n",
       "         [ 44,  65,  50],\n",
       "         [ 65,  88,  73],\n",
       "         [ 71,  94,  79]],\n",
       " \n",
       "        [[ 10,  16,  11],\n",
       "         [ 10,  16,  11],\n",
       "         [ 11,  17,  12],\n",
       "         ...,\n",
       "         [ 42,  63,  48],\n",
       "         [ 64,  87,  72],\n",
       "         [ 74,  97,  82]],\n",
       " \n",
       "        [[ 10,  16,  11],\n",
       "         [ 10,  16,  11],\n",
       "         [ 11,  17,  12],\n",
       "         ...,\n",
       "         [ 58,  79,  64],\n",
       "         [ 67,  90,  75],\n",
       "         [ 57,  80,  65]],\n",
       " \n",
       "        ...,\n",
       " \n",
       "        [[ 89,  91,  91],\n",
       "         [ 84,  86,  86],\n",
       "         [ 86,  88,  88],\n",
       "         ...,\n",
       "         [ 40,  44,  38],\n",
       "         [ 37,  42,  33],\n",
       "         [ 36,  41,  32]],\n",
       " \n",
       "        [[ 87,  89,  89],\n",
       "         [ 80,  82,  82],\n",
       "         [ 80,  82,  82],\n",
       "         ...,\n",
       "         [ 66,  70,  64],\n",
       "         [ 79,  84,  75],\n",
       "         [ 67,  72,  63]],\n",
       " \n",
       "        [[ 81,  83,  83],\n",
       "         [ 83,  85,  85],\n",
       "         [ 92,  94,  94],\n",
       "         ...,\n",
       "         [120, 124, 118],\n",
       "         [151, 156, 147],\n",
       "         [125, 130, 121]]], dtype=uint8)\n",
       " orig_shape: (720, 1280)\n",
       " path: 'image1.jpg'\n",
       " probs: None\n",
       " save_dir: None\n",
       " speed: {'preprocess': 107.99658298492432, 'inference': 726.318359375, 'postprocess': 42.12653636932373}]"
      ]
     },
     "execution_count": 20,
     "metadata": {},
     "output_type": "execute_result"
    }
   ],
   "source": [
    "results"
   ]
  },
  {
   "cell_type": "code",
   "execution_count": null,
   "metadata": {},
   "outputs": [],
   "source": []
  }
 ],
 "metadata": {
  "kernelspec": {
   "display_name": "symphony",
   "language": "python",
   "name": "python3"
  },
  "language_info": {
   "codemirror_mode": {
    "name": "ipython",
    "version": 3
   },
   "file_extension": ".py",
   "mimetype": "text/x-python",
   "name": "python",
   "nbconvert_exporter": "python",
   "pygments_lexer": "ipython3",
   "version": "3.10.14"
  }
 },
 "nbformat": 4,
 "nbformat_minor": 2
}
