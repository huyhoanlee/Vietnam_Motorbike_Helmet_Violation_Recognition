{
 "cells": [
  {
   "cell_type": "code",
   "execution_count": 1,
   "id": "a8f7d3c3",
   "metadata": {},
   "outputs": [
    {
     "name": "stdout",
     "output_type": "stream",
     "text": [
      "✅ Kết quả nhận được:\n"
     ]
    }
   ],
   "source": [
    "import base64\n",
    "import requests\n",
    "\n",
    "# Đọc ảnh và encode sang base64\n",
    "def encode_image_to_base64(image_path):\n",
    "    with open(image_path, \"rb\") as image_file:\n",
    "        return base64.b64encode(image_file.read()).decode(\"utf-8\")\n",
    "\n",
    "# Gửi request đến API\n",
    "def call_license_api(image_path):\n",
    "    image_base64 = encode_image_to_base64(image_path)\n",
    "    \n",
    "    url = \"http://127.0.0.1:8000/extract-citizen-info\"\n",
    "    headers = {\"Content-Type\": \"application/json\"}\n",
    "    payload = {\"image_base64\": image_base64}\n",
    "\n",
    "    response = requests.post(url, json=payload, headers=headers)\n",
    "\n",
    "    if response.status_code == 200:\n",
    "        print(\"✅ Kết quả nhận được:\")\n",
    "        return response.json()\n",
    "    else:\n",
    "        print(f\"❌ Lỗi: {response.status_code}\")\n",
    "        return response.text\n",
    "\n",
    "response = call_license_api(\"F:\\9_Spring25\\Vietnam_Motorbike_Helmet_Violation_Recognition\\AI\\cccd2.png\")\n",
    "#https://huyhoanlee-ocr-license.hf.space/extract-citizen-info\n",
    "# huyhoanlee-ocr-license.hf.space"
   ]
  },
  {
   "cell_type": "code",
   "execution_count": 2,
   "id": "ce540500",
   "metadata": {},
   "outputs": [
    {
     "data": {
      "text/plain": [
       "{'full_name': 'PHAM THANH LUC',\n",
       " 'date_of_birth': '10/02/1972',\n",
       " 'place_of_origin': 'TP. H6 Chi Minh',\n",
       " 'place_of_residence': '203/1ANguyén Duy P.15.Quan 8.TP.H6 Chi Minh',\n",
       " 'card_number': '079072003372',\n",
       " 'gender': 'Nam'}"
      ]
     },
     "execution_count": 2,
     "metadata": {},
     "output_type": "execute_result"
    }
   ],
   "source": [
    "response"
   ]
  },
  {
   "cell_type": "code",
   "execution_count": null,
   "id": "babcdccf",
   "metadata": {},
   "outputs": [],
   "source": []
  }
 ],
 "metadata": {
  "kernelspec": {
   "display_name": "Python 3",
   "language": "python",
   "name": "python3"
  },
  "language_info": {
   "codemirror_mode": {
    "name": "ipython",
    "version": 3
   },
   "file_extension": ".py",
   "mimetype": "text/x-python",
   "name": "python",
   "nbconvert_exporter": "python",
   "pygments_lexer": "ipython3",
   "version": "3.11.9"
  }
 },
 "nbformat": 4,
 "nbformat_minor": 5
}
